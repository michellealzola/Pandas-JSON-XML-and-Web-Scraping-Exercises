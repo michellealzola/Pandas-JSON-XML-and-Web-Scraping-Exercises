{
 "cells": [
  {
   "metadata": {},
   "cell_type": "markdown",
   "source": [
    "# **20 hands-on Pandas exercises** on **JSON, XML, and HTML/web scraping**\n",
    "\n",
    "### **What the Dataset Is About**\n",
    "\n",
    "* **Context:**\n",
    "  This is a **quality control dataset** from a **Coordinate Measuring Machine (CMM)** used to evaluate **geometric tolerances** of manufactured components like:\n",
    "\n",
    "  * Cylinder\n",
    "  * Shaft\n",
    "  * Cover Plate\n",
    "  * Disc\n",
    "  * Bracket\n",
    "  * Bushing\n",
    "\n",
    "* **Machines Used:**\n",
    "\n",
    "  * CMM A\n",
    "  * CMM B\n",
    "  * CMM C\n",
    "    Each machine operates on two daily shifts: `Shift 1` and `Shift 2`.\n",
    "\n",
    "\n",
    "\n",
    "### **Fields/Columns in the Dataset**\n",
    "\n",
    "| Field                     | Description                                                  |\n",
    "| ------------------------- | ------------------------------------------------------------ |\n",
    "| `Date`                    | Inspection date                                              |\n",
    "| `Shift`                   | Which shift the inspection occurred (`Shift 1` or `Shift 2`) |\n",
    "| `Machine ID`              | ID of the CMM used (`CMM A`, `B`, or `C`)                    |\n",
    "| `Component Type`          | The type of part measured (e.g., Shaft, Cylinder, Disc)      |\n",
    "| `Batch ID`                | Unique batch identifier                                      |\n",
    "| `Flatness (µm)`           | Deviation in flatness in micrometers                         |\n",
    "| `Circularity (µm)`        | Out-of-roundness measure                                     |\n",
    "| `Cylindricity (µm)`       | Deviation from a perfect cylinder                            |\n",
    "| `Straightness (µm)`       | Line deviation along an axis                                 |\n",
    "| `Perpendicularity (µm)`   | Angular deviation from 90 degrees                            |\n",
    "| `Parallelism (µm)`        | Measure of how parallel surfaces are                         |\n",
    "| `Position Tolerance (µm)` | Combined geometric tolerance for a feature                   |\n",
    "| `Pass/Fail`               | Result of the quality inspection                             |\n",
    "\n",
    "\n",
    "\n",
    "### **Formats**\n",
    "\n",
    "* **`JSON` Version:**\n",
    "\n",
    "  * Well-structured.\n",
    "  * Easy to load with `pd.read_json()`.\n",
    "  * Each record is a dictionary, making it ideal for API-style consumption or NoSQL-like access.\n",
    "\n",
    "* **`XML` Version:**\n",
    "\n",
    "  * Has `<Measurement>` nodes under a root `<Measurements>` tag.\n",
    "  * Structured for hierarchical querying, useful in web systems or legacy manufacturing databases.\n",
    "\n",
    "\n",
    "\n",
    "### **Why This Dataset Is Useful**\n",
    "\n",
    "This dataset simulates a **real-world scenario in precision manufacturing**, making it excellent for:\n",
    "\n",
    "* Practicing **data wrangling** with JSON and XML.\n",
    "* Performing **tolerance analysis** and **failure investigations**.\n",
    "* Analyzing **machine performance**, **process capability**, and **shift-based trends**.\n",
    "* Learning to **visualize engineering metrics** and align them to industry tolerances.\n",
    "\n"
   ],
   "id": "98ee003e41ff0882"
  },
  {
   "metadata": {
    "ExecuteTime": {
     "end_time": "2025-05-10T22:22:19.172276Z",
     "start_time": "2025-05-10T22:22:19.169617Z"
    }
   },
   "cell_type": "code",
   "source": [
    "import json\n",
    "import sys\n",
    "import requests\n",
    "import pandas as pd\n",
    "import numpy as np\n",
    "from bs4 import BeautifulSoup\n",
    "from lxml import html, objectify\n",
    "from io import StringIO"
   ],
   "id": "3ab032717c090832",
   "outputs": [],
   "execution_count": 447
  },
  {
   "metadata": {},
   "cell_type": "markdown",
   "source": [
    "### ### Section A: JSON Data Handling\n",
    "\n",
    "### **Exercise 1: Load JSON Data**\n",
    "\n",
    "**Problem:** Load the JSON dataset and display the first 5 rows.\n",
    "\n",
    "**Purpose:** To practice importing JSON data using `pd.read_json()` and ensure structure is understood."
   ],
   "id": "5a825d021009ac29"
  },
  {
   "metadata": {
    "ExecuteTime": {
     "end_time": "2025-05-10T22:22:21.453181Z",
     "start_time": "2025-05-10T22:22:21.392904Z"
    }
   },
   "cell_type": "code",
   "source": "df = pd.read_json('JSON/cmm_measurement_365day_dataset.json')  # Converts directly to DataFrame",
   "id": "39e0af241c3e2cfb",
   "outputs": [],
   "execution_count": 448
  },
  {
   "metadata": {
    "ExecuteTime": {
     "end_time": "2025-05-10T22:22:21.463586Z",
     "start_time": "2025-05-10T22:22:21.455596Z"
    }
   },
   "cell_type": "code",
   "source": "df.head()",
   "id": "9d9048044da4a0b9",
   "outputs": [
    {
     "data": {
      "text/plain": [
       "        Date    Shift Machine ID Component Type Batch ID  Flatness (μm)  \\\n",
       "0 2025-01-01  Shift 1      CMM B       Cylinder  CMM6728          10.00   \n",
       "1 2025-01-01  Shift 1      CMM A       Cylinder  CMM8120           8.30   \n",
       "2 2025-01-01  Shift 1      CMM C          Shaft  CMM7901          15.12   \n",
       "3 2025-01-01  Shift 2      CMM A          Shaft  CMM9522           2.56   \n",
       "4 2025-01-01  Shift 2      CMM A          Shaft  CMM7033           4.10   \n",
       "\n",
       "   Circularity (μm)  Cylindricity (μm)  Straightness (μm)  \\\n",
       "0             11.35               3.05               7.35   \n",
       "1             14.07               7.94               6.76   \n",
       "2             12.18              22.88               1.07   \n",
       "3              4.17              21.14               6.36   \n",
       "4              3.86              16.50               1.77   \n",
       "\n",
       "   Perpendicularity (μm)  Parallelism (μm)  Position Tolerance (μm) Pass/Fail  \n",
       "0                  20.43             14.25                    28.11      Fail  \n",
       "1                   8.86             13.19                    24.35      Fail  \n",
       "2                   6.08             11.21                    20.66      Fail  \n",
       "3                   9.22             12.48                    20.86      Pass  \n",
       "4                  21.66              4.24                    12.04      Pass  "
      ],
      "text/html": [
       "<div>\n",
       "<style scoped>\n",
       "    .dataframe tbody tr th:only-of-type {\n",
       "        vertical-align: middle;\n",
       "    }\n",
       "\n",
       "    .dataframe tbody tr th {\n",
       "        vertical-align: top;\n",
       "    }\n",
       "\n",
       "    .dataframe thead th {\n",
       "        text-align: right;\n",
       "    }\n",
       "</style>\n",
       "<table border=\"1\" class=\"dataframe\">\n",
       "  <thead>\n",
       "    <tr style=\"text-align: right;\">\n",
       "      <th></th>\n",
       "      <th>Date</th>\n",
       "      <th>Shift</th>\n",
       "      <th>Machine ID</th>\n",
       "      <th>Component Type</th>\n",
       "      <th>Batch ID</th>\n",
       "      <th>Flatness (μm)</th>\n",
       "      <th>Circularity (μm)</th>\n",
       "      <th>Cylindricity (μm)</th>\n",
       "      <th>Straightness (μm)</th>\n",
       "      <th>Perpendicularity (μm)</th>\n",
       "      <th>Parallelism (μm)</th>\n",
       "      <th>Position Tolerance (μm)</th>\n",
       "      <th>Pass/Fail</th>\n",
       "    </tr>\n",
       "  </thead>\n",
       "  <tbody>\n",
       "    <tr>\n",
       "      <th>0</th>\n",
       "      <td>2025-01-01</td>\n",
       "      <td>Shift 1</td>\n",
       "      <td>CMM B</td>\n",
       "      <td>Cylinder</td>\n",
       "      <td>CMM6728</td>\n",
       "      <td>10.00</td>\n",
       "      <td>11.35</td>\n",
       "      <td>3.05</td>\n",
       "      <td>7.35</td>\n",
       "      <td>20.43</td>\n",
       "      <td>14.25</td>\n",
       "      <td>28.11</td>\n",
       "      <td>Fail</td>\n",
       "    </tr>\n",
       "    <tr>\n",
       "      <th>1</th>\n",
       "      <td>2025-01-01</td>\n",
       "      <td>Shift 1</td>\n",
       "      <td>CMM A</td>\n",
       "      <td>Cylinder</td>\n",
       "      <td>CMM8120</td>\n",
       "      <td>8.30</td>\n",
       "      <td>14.07</td>\n",
       "      <td>7.94</td>\n",
       "      <td>6.76</td>\n",
       "      <td>8.86</td>\n",
       "      <td>13.19</td>\n",
       "      <td>24.35</td>\n",
       "      <td>Fail</td>\n",
       "    </tr>\n",
       "    <tr>\n",
       "      <th>2</th>\n",
       "      <td>2025-01-01</td>\n",
       "      <td>Shift 1</td>\n",
       "      <td>CMM C</td>\n",
       "      <td>Shaft</td>\n",
       "      <td>CMM7901</td>\n",
       "      <td>15.12</td>\n",
       "      <td>12.18</td>\n",
       "      <td>22.88</td>\n",
       "      <td>1.07</td>\n",
       "      <td>6.08</td>\n",
       "      <td>11.21</td>\n",
       "      <td>20.66</td>\n",
       "      <td>Fail</td>\n",
       "    </tr>\n",
       "    <tr>\n",
       "      <th>3</th>\n",
       "      <td>2025-01-01</td>\n",
       "      <td>Shift 2</td>\n",
       "      <td>CMM A</td>\n",
       "      <td>Shaft</td>\n",
       "      <td>CMM9522</td>\n",
       "      <td>2.56</td>\n",
       "      <td>4.17</td>\n",
       "      <td>21.14</td>\n",
       "      <td>6.36</td>\n",
       "      <td>9.22</td>\n",
       "      <td>12.48</td>\n",
       "      <td>20.86</td>\n",
       "      <td>Pass</td>\n",
       "    </tr>\n",
       "    <tr>\n",
       "      <th>4</th>\n",
       "      <td>2025-01-01</td>\n",
       "      <td>Shift 2</td>\n",
       "      <td>CMM A</td>\n",
       "      <td>Shaft</td>\n",
       "      <td>CMM7033</td>\n",
       "      <td>4.10</td>\n",
       "      <td>3.86</td>\n",
       "      <td>16.50</td>\n",
       "      <td>1.77</td>\n",
       "      <td>21.66</td>\n",
       "      <td>4.24</td>\n",
       "      <td>12.04</td>\n",
       "      <td>Pass</td>\n",
       "    </tr>\n",
       "  </tbody>\n",
       "</table>\n",
       "</div>"
      ]
     },
     "execution_count": 449,
     "metadata": {},
     "output_type": "execute_result"
    }
   ],
   "execution_count": 449
  },
  {
   "metadata": {},
   "cell_type": "markdown",
   "source": [
    "### **Exercise 2: Normalize Nested JSON (if applicable)**\n",
    "\n",
    "**Problem:** Flatten the JSON structure (if nested) using `json_normalize`.\n",
    "\n",
    "**Purpose:** Practice dealing with nested JSON, even if this dataset is flat.\n"
   ],
   "id": "bf9df3657547dbdb"
  },
  {
   "metadata": {
    "ExecuteTime": {
     "end_time": "2025-05-10T22:22:21.602673Z",
     "start_time": "2025-05-10T22:22:21.598458Z"
    }
   },
   "cell_type": "code",
   "source": [
    "# to use the json_normalize, nested_example.json file is loaded (the cmm file is already flat --> each record is a dictionary with simple key-value pairs)\n",
    "with open('JSON/nested_example.json') as f:\n",
    "    nested_data = json.load(f)"
   ],
   "id": "1b324f0454e7d431",
   "outputs": [],
   "execution_count": 450
  },
  {
   "metadata": {
    "ExecuteTime": {
     "end_time": "2025-05-10T22:22:21.671826Z",
     "start_time": "2025-05-10T22:22:21.668963Z"
    }
   },
   "cell_type": "code",
   "source": "df = pd.json_normalize(nested_data)",
   "id": "76e4fda46f6340c0",
   "outputs": [],
   "execution_count": 451
  },
  {
   "metadata": {
    "ExecuteTime": {
     "end_time": "2025-05-10T22:22:21.811869Z",
     "start_time": "2025-05-10T22:22:21.803790Z"
    }
   },
   "cell_type": "code",
   "source": "df.head()",
   "id": "59e0924bbf7c390",
   "outputs": [
    {
     "data": {
      "text/plain": [
       "         Date    Shift Result Machine.ID Machine.Type Component.Type  \\\n",
       "0  2025-01-01  Shift 1   Fail      CMM B       Bridge       Cylinder   \n",
       "1  2025-01-01  Shift 1   Fail      CMM A       Bridge       Cylinder   \n",
       "\n",
       "  Component.BatchID  Measurements.Flatness  Measurements.Circularity  \\\n",
       "0           CMM6728                   10.0                     11.35   \n",
       "1           CMM8120                    8.3                     14.07   \n",
       "\n",
       "   Measurements.Cylindricity  Measurements.Straightness  \\\n",
       "0                       3.05                       7.35   \n",
       "1                       7.94                       6.76   \n",
       "\n",
       "   Measurements.Perpendicularity  Measurements.Parallelism  \\\n",
       "0                          20.43                     14.25   \n",
       "1                           8.86                     13.19   \n",
       "\n",
       "   Measurements.PositionTolerance  \n",
       "0                           28.11  \n",
       "1                           24.35  "
      ],
      "text/html": [
       "<div>\n",
       "<style scoped>\n",
       "    .dataframe tbody tr th:only-of-type {\n",
       "        vertical-align: middle;\n",
       "    }\n",
       "\n",
       "    .dataframe tbody tr th {\n",
       "        vertical-align: top;\n",
       "    }\n",
       "\n",
       "    .dataframe thead th {\n",
       "        text-align: right;\n",
       "    }\n",
       "</style>\n",
       "<table border=\"1\" class=\"dataframe\">\n",
       "  <thead>\n",
       "    <tr style=\"text-align: right;\">\n",
       "      <th></th>\n",
       "      <th>Date</th>\n",
       "      <th>Shift</th>\n",
       "      <th>Result</th>\n",
       "      <th>Machine.ID</th>\n",
       "      <th>Machine.Type</th>\n",
       "      <th>Component.Type</th>\n",
       "      <th>Component.BatchID</th>\n",
       "      <th>Measurements.Flatness</th>\n",
       "      <th>Measurements.Circularity</th>\n",
       "      <th>Measurements.Cylindricity</th>\n",
       "      <th>Measurements.Straightness</th>\n",
       "      <th>Measurements.Perpendicularity</th>\n",
       "      <th>Measurements.Parallelism</th>\n",
       "      <th>Measurements.PositionTolerance</th>\n",
       "    </tr>\n",
       "  </thead>\n",
       "  <tbody>\n",
       "    <tr>\n",
       "      <th>0</th>\n",
       "      <td>2025-01-01</td>\n",
       "      <td>Shift 1</td>\n",
       "      <td>Fail</td>\n",
       "      <td>CMM B</td>\n",
       "      <td>Bridge</td>\n",
       "      <td>Cylinder</td>\n",
       "      <td>CMM6728</td>\n",
       "      <td>10.0</td>\n",
       "      <td>11.35</td>\n",
       "      <td>3.05</td>\n",
       "      <td>7.35</td>\n",
       "      <td>20.43</td>\n",
       "      <td>14.25</td>\n",
       "      <td>28.11</td>\n",
       "    </tr>\n",
       "    <tr>\n",
       "      <th>1</th>\n",
       "      <td>2025-01-01</td>\n",
       "      <td>Shift 1</td>\n",
       "      <td>Fail</td>\n",
       "      <td>CMM A</td>\n",
       "      <td>Bridge</td>\n",
       "      <td>Cylinder</td>\n",
       "      <td>CMM8120</td>\n",
       "      <td>8.3</td>\n",
       "      <td>14.07</td>\n",
       "      <td>7.94</td>\n",
       "      <td>6.76</td>\n",
       "      <td>8.86</td>\n",
       "      <td>13.19</td>\n",
       "      <td>24.35</td>\n",
       "    </tr>\n",
       "  </tbody>\n",
       "</table>\n",
       "</div>"
      ]
     },
     "execution_count": 452,
     "metadata": {},
     "output_type": "execute_result"
    }
   ],
   "execution_count": 452
  },
  {
   "metadata": {},
   "cell_type": "markdown",
   "source": [
    "### **Exercise 3: Check and Convert Date**\n",
    "\n",
    "**Problem:** Convert the 'Date' column to a `datetime` object.\n",
    "\n",
    "**Purpose:** Ensures you can work with time-series operations and filtering."
   ],
   "id": "4053145cd8a7d333"
  },
  {
   "metadata": {
    "ExecuteTime": {
     "end_time": "2025-05-10T22:22:22.003154Z",
     "start_time": "2025-05-10T22:22:21.987431Z"
    }
   },
   "cell_type": "code",
   "source": "df = pd.read_json('JSON/cmm_measurement_365day_dataset.json')",
   "id": "290a7fa78d8e5b07",
   "outputs": [],
   "execution_count": 453
  },
  {
   "metadata": {
    "ExecuteTime": {
     "end_time": "2025-05-10T22:22:22.218688Z",
     "start_time": "2025-05-10T22:22:22.215480Z"
    }
   },
   "cell_type": "code",
   "source": "df['Date'].dtype",
   "id": "73a62ba8395b053c",
   "outputs": [
    {
     "data": {
      "text/plain": [
       "dtype('<M8[ns]')"
      ]
     },
     "execution_count": 454,
     "metadata": {},
     "output_type": "execute_result"
    }
   ],
   "execution_count": 454
  },
  {
   "metadata": {
    "ExecuteTime": {
     "end_time": "2025-05-10T22:22:22.400100Z",
     "start_time": "2025-05-10T22:22:22.395245Z"
    }
   },
   "cell_type": "code",
   "source": "df['Date'] = pd.to_datetime(df['Date'])",
   "id": "baf340d3c35e6f9a",
   "outputs": [],
   "execution_count": 455
  },
  {
   "metadata": {
    "ExecuteTime": {
     "end_time": "2025-05-10T22:22:22.615564Z",
     "start_time": "2025-05-10T22:22:22.612314Z"
    }
   },
   "cell_type": "code",
   "source": "df['Date'].dtype",
   "id": "9a50029fa4fe0042",
   "outputs": [
    {
     "data": {
      "text/plain": [
       "dtype('<M8[ns]')"
      ]
     },
     "execution_count": 456,
     "metadata": {},
     "output_type": "execute_result"
    }
   ],
   "execution_count": 456
  },
  {
   "metadata": {
    "ExecuteTime": {
     "end_time": "2025-05-10T22:22:22.720543Z",
     "start_time": "2025-05-10T22:22:22.715956Z"
    }
   },
   "cell_type": "code",
   "source": "df['Date'].iloc[0]",
   "id": "599adeed4e301d1a",
   "outputs": [
    {
     "data": {
      "text/plain": [
       "Timestamp('2025-01-01 00:00:00')"
      ]
     },
     "execution_count": 457,
     "metadata": {},
     "output_type": "execute_result"
    }
   ],
   "execution_count": 457
  },
  {
   "metadata": {
    "ExecuteTime": {
     "end_time": "2025-05-10T22:22:22.837806Z",
     "start_time": "2025-05-10T22:22:22.834502Z"
    }
   },
   "cell_type": "code",
   "source": "type(df['Date'].iloc[0])",
   "id": "cd64ee7de505af97",
   "outputs": [
    {
     "data": {
      "text/plain": [
       "pandas._libs.tslibs.timestamps.Timestamp"
      ]
     },
     "execution_count": 458,
     "metadata": {},
     "output_type": "execute_result"
    }
   ],
   "execution_count": 458
  },
  {
   "metadata": {
    "ExecuteTime": {
     "end_time": "2025-05-10T22:22:22.929118Z",
     "start_time": "2025-05-10T22:22:22.926599Z"
    }
   },
   "cell_type": "code",
   "source": [
    "# to confirm time-series functionality\n",
    "df['Year'] = df['Date'].dt.year"
   ],
   "id": "d9471de5cec7f1d5",
   "outputs": [],
   "execution_count": 459
  },
  {
   "metadata": {
    "ExecuteTime": {
     "end_time": "2025-05-10T22:22:23.078001Z",
     "start_time": "2025-05-10T22:22:23.075127Z"
    }
   },
   "cell_type": "code",
   "source": "df['Month'] = df['Date'].dt.month",
   "id": "57d4f785bea76cb7",
   "outputs": [],
   "execution_count": 460
  },
  {
   "metadata": {
    "ExecuteTime": {
     "end_time": "2025-05-10T22:22:23.172094Z",
     "start_time": "2025-05-10T22:22:23.168503Z"
    }
   },
   "cell_type": "code",
   "source": "df['Weekday'] = df['Date'].dt.day_name()",
   "id": "c08580083015a7c7",
   "outputs": [],
   "execution_count": 461
  },
  {
   "metadata": {
    "ExecuteTime": {
     "end_time": "2025-05-10T22:22:23.309561Z",
     "start_time": "2025-05-10T22:22:23.303708Z"
    }
   },
   "cell_type": "code",
   "source": "df[[ 'Date', 'Year', 'Month', 'Weekday']].head()",
   "id": "347cbd5e90d777e6",
   "outputs": [
    {
     "data": {
      "text/plain": [
       "        Date  Year  Month    Weekday\n",
       "0 2025-01-01  2025      1  Wednesday\n",
       "1 2025-01-01  2025      1  Wednesday\n",
       "2 2025-01-01  2025      1  Wednesday\n",
       "3 2025-01-01  2025      1  Wednesday\n",
       "4 2025-01-01  2025      1  Wednesday"
      ],
      "text/html": [
       "<div>\n",
       "<style scoped>\n",
       "    .dataframe tbody tr th:only-of-type {\n",
       "        vertical-align: middle;\n",
       "    }\n",
       "\n",
       "    .dataframe tbody tr th {\n",
       "        vertical-align: top;\n",
       "    }\n",
       "\n",
       "    .dataframe thead th {\n",
       "        text-align: right;\n",
       "    }\n",
       "</style>\n",
       "<table border=\"1\" class=\"dataframe\">\n",
       "  <thead>\n",
       "    <tr style=\"text-align: right;\">\n",
       "      <th></th>\n",
       "      <th>Date</th>\n",
       "      <th>Year</th>\n",
       "      <th>Month</th>\n",
       "      <th>Weekday</th>\n",
       "    </tr>\n",
       "  </thead>\n",
       "  <tbody>\n",
       "    <tr>\n",
       "      <th>0</th>\n",
       "      <td>2025-01-01</td>\n",
       "      <td>2025</td>\n",
       "      <td>1</td>\n",
       "      <td>Wednesday</td>\n",
       "    </tr>\n",
       "    <tr>\n",
       "      <th>1</th>\n",
       "      <td>2025-01-01</td>\n",
       "      <td>2025</td>\n",
       "      <td>1</td>\n",
       "      <td>Wednesday</td>\n",
       "    </tr>\n",
       "    <tr>\n",
       "      <th>2</th>\n",
       "      <td>2025-01-01</td>\n",
       "      <td>2025</td>\n",
       "      <td>1</td>\n",
       "      <td>Wednesday</td>\n",
       "    </tr>\n",
       "    <tr>\n",
       "      <th>3</th>\n",
       "      <td>2025-01-01</td>\n",
       "      <td>2025</td>\n",
       "      <td>1</td>\n",
       "      <td>Wednesday</td>\n",
       "    </tr>\n",
       "    <tr>\n",
       "      <th>4</th>\n",
       "      <td>2025-01-01</td>\n",
       "      <td>2025</td>\n",
       "      <td>1</td>\n",
       "      <td>Wednesday</td>\n",
       "    </tr>\n",
       "  </tbody>\n",
       "</table>\n",
       "</div>"
      ]
     },
     "execution_count": 462,
     "metadata": {},
     "output_type": "execute_result"
    }
   ],
   "execution_count": 462
  },
  {
   "metadata": {},
   "cell_type": "markdown",
   "source": [
    "## 1. **Time-Based Filtering**\n",
    "\n",
    "This means **selecting rows** from your dataset **based on date or time conditions**.\n",
    "\n",
    "\n",
    "**Purpose:** Helps isolate data for specific periods (daily, monthly, quarterly analysis).\n",
    "\n",
    "\n"
   ],
   "id": "b24c91b51bb73645"
  },
  {
   "metadata": {
    "ExecuteTime": {
     "end_time": "2025-05-10T22:22:23.400903Z",
     "start_time": "2025-05-10T22:22:23.392171Z"
    }
   },
   "cell_type": "code",
   "source": [
    "# Entries from January 2025\n",
    "df[df['Date'].dt.month == 1].head()"
   ],
   "id": "528adf17cf13c4fe",
   "outputs": [
    {
     "data": {
      "text/plain": [
       "        Date    Shift Machine ID Component Type Batch ID  Flatness (μm)  \\\n",
       "0 2025-01-01  Shift 1      CMM B       Cylinder  CMM6728          10.00   \n",
       "1 2025-01-01  Shift 1      CMM A       Cylinder  CMM8120           8.30   \n",
       "2 2025-01-01  Shift 1      CMM C          Shaft  CMM7901          15.12   \n",
       "3 2025-01-01  Shift 2      CMM A          Shaft  CMM9522           2.56   \n",
       "4 2025-01-01  Shift 2      CMM A          Shaft  CMM7033           4.10   \n",
       "\n",
       "   Circularity (μm)  Cylindricity (μm)  Straightness (μm)  \\\n",
       "0             11.35               3.05               7.35   \n",
       "1             14.07               7.94               6.76   \n",
       "2             12.18              22.88               1.07   \n",
       "3              4.17              21.14               6.36   \n",
       "4              3.86              16.50               1.77   \n",
       "\n",
       "   Perpendicularity (μm)  Parallelism (μm)  Position Tolerance (μm) Pass/Fail  \\\n",
       "0                  20.43             14.25                    28.11      Fail   \n",
       "1                   8.86             13.19                    24.35      Fail   \n",
       "2                   6.08             11.21                    20.66      Fail   \n",
       "3                   9.22             12.48                    20.86      Pass   \n",
       "4                  21.66              4.24                    12.04      Pass   \n",
       "\n",
       "   Year  Month    Weekday  \n",
       "0  2025      1  Wednesday  \n",
       "1  2025      1  Wednesday  \n",
       "2  2025      1  Wednesday  \n",
       "3  2025      1  Wednesday  \n",
       "4  2025      1  Wednesday  "
      ],
      "text/html": [
       "<div>\n",
       "<style scoped>\n",
       "    .dataframe tbody tr th:only-of-type {\n",
       "        vertical-align: middle;\n",
       "    }\n",
       "\n",
       "    .dataframe tbody tr th {\n",
       "        vertical-align: top;\n",
       "    }\n",
       "\n",
       "    .dataframe thead th {\n",
       "        text-align: right;\n",
       "    }\n",
       "</style>\n",
       "<table border=\"1\" class=\"dataframe\">\n",
       "  <thead>\n",
       "    <tr style=\"text-align: right;\">\n",
       "      <th></th>\n",
       "      <th>Date</th>\n",
       "      <th>Shift</th>\n",
       "      <th>Machine ID</th>\n",
       "      <th>Component Type</th>\n",
       "      <th>Batch ID</th>\n",
       "      <th>Flatness (μm)</th>\n",
       "      <th>Circularity (μm)</th>\n",
       "      <th>Cylindricity (μm)</th>\n",
       "      <th>Straightness (μm)</th>\n",
       "      <th>Perpendicularity (μm)</th>\n",
       "      <th>Parallelism (μm)</th>\n",
       "      <th>Position Tolerance (μm)</th>\n",
       "      <th>Pass/Fail</th>\n",
       "      <th>Year</th>\n",
       "      <th>Month</th>\n",
       "      <th>Weekday</th>\n",
       "    </tr>\n",
       "  </thead>\n",
       "  <tbody>\n",
       "    <tr>\n",
       "      <th>0</th>\n",
       "      <td>2025-01-01</td>\n",
       "      <td>Shift 1</td>\n",
       "      <td>CMM B</td>\n",
       "      <td>Cylinder</td>\n",
       "      <td>CMM6728</td>\n",
       "      <td>10.00</td>\n",
       "      <td>11.35</td>\n",
       "      <td>3.05</td>\n",
       "      <td>7.35</td>\n",
       "      <td>20.43</td>\n",
       "      <td>14.25</td>\n",
       "      <td>28.11</td>\n",
       "      <td>Fail</td>\n",
       "      <td>2025</td>\n",
       "      <td>1</td>\n",
       "      <td>Wednesday</td>\n",
       "    </tr>\n",
       "    <tr>\n",
       "      <th>1</th>\n",
       "      <td>2025-01-01</td>\n",
       "      <td>Shift 1</td>\n",
       "      <td>CMM A</td>\n",
       "      <td>Cylinder</td>\n",
       "      <td>CMM8120</td>\n",
       "      <td>8.30</td>\n",
       "      <td>14.07</td>\n",
       "      <td>7.94</td>\n",
       "      <td>6.76</td>\n",
       "      <td>8.86</td>\n",
       "      <td>13.19</td>\n",
       "      <td>24.35</td>\n",
       "      <td>Fail</td>\n",
       "      <td>2025</td>\n",
       "      <td>1</td>\n",
       "      <td>Wednesday</td>\n",
       "    </tr>\n",
       "    <tr>\n",
       "      <th>2</th>\n",
       "      <td>2025-01-01</td>\n",
       "      <td>Shift 1</td>\n",
       "      <td>CMM C</td>\n",
       "      <td>Shaft</td>\n",
       "      <td>CMM7901</td>\n",
       "      <td>15.12</td>\n",
       "      <td>12.18</td>\n",
       "      <td>22.88</td>\n",
       "      <td>1.07</td>\n",
       "      <td>6.08</td>\n",
       "      <td>11.21</td>\n",
       "      <td>20.66</td>\n",
       "      <td>Fail</td>\n",
       "      <td>2025</td>\n",
       "      <td>1</td>\n",
       "      <td>Wednesday</td>\n",
       "    </tr>\n",
       "    <tr>\n",
       "      <th>3</th>\n",
       "      <td>2025-01-01</td>\n",
       "      <td>Shift 2</td>\n",
       "      <td>CMM A</td>\n",
       "      <td>Shaft</td>\n",
       "      <td>CMM9522</td>\n",
       "      <td>2.56</td>\n",
       "      <td>4.17</td>\n",
       "      <td>21.14</td>\n",
       "      <td>6.36</td>\n",
       "      <td>9.22</td>\n",
       "      <td>12.48</td>\n",
       "      <td>20.86</td>\n",
       "      <td>Pass</td>\n",
       "      <td>2025</td>\n",
       "      <td>1</td>\n",
       "      <td>Wednesday</td>\n",
       "    </tr>\n",
       "    <tr>\n",
       "      <th>4</th>\n",
       "      <td>2025-01-01</td>\n",
       "      <td>Shift 2</td>\n",
       "      <td>CMM A</td>\n",
       "      <td>Shaft</td>\n",
       "      <td>CMM7033</td>\n",
       "      <td>4.10</td>\n",
       "      <td>3.86</td>\n",
       "      <td>16.50</td>\n",
       "      <td>1.77</td>\n",
       "      <td>21.66</td>\n",
       "      <td>4.24</td>\n",
       "      <td>12.04</td>\n",
       "      <td>Pass</td>\n",
       "      <td>2025</td>\n",
       "      <td>1</td>\n",
       "      <td>Wednesday</td>\n",
       "    </tr>\n",
       "  </tbody>\n",
       "</table>\n",
       "</div>"
      ]
     },
     "execution_count": 463,
     "metadata": {},
     "output_type": "execute_result"
    }
   ],
   "execution_count": 463
  },
  {
   "metadata": {
    "ExecuteTime": {
     "end_time": "2025-05-10T22:22:23.565811Z",
     "start_time": "2025-05-10T22:22:23.556889Z"
    }
   },
   "cell_type": "code",
   "source": [
    "# Entries after MArch 1 , 2025\n",
    "df[df['Date'] > '2025-03-01'].head()"
   ],
   "id": "f5ade347fabcd1a",
   "outputs": [
    {
     "data": {
      "text/plain": [
       "          Date    Shift Machine ID Component Type Batch ID  Flatness (μm)  \\\n",
       "360 2025-03-02  Shift 1      CMM A           Disc  CMM5895           5.63   \n",
       "361 2025-03-02  Shift 1      CMM A       Cylinder  CMM8927           2.48   \n",
       "362 2025-03-02  Shift 1      CMM A       Cylinder  CMM5737           3.80   \n",
       "363 2025-03-02  Shift 2      CMM B        Bracket  CMM1030          14.52   \n",
       "364 2025-03-02  Shift 2      CMM A        Bushing  CMM1851          10.64   \n",
       "\n",
       "     Circularity (μm)  Cylindricity (μm)  Straightness (μm)  \\\n",
       "360              7.32              18.23               4.02   \n",
       "361             14.22              18.33               9.87   \n",
       "362              9.22              24.19               2.46   \n",
       "363             10.76               3.34               8.03   \n",
       "364             14.89              20.85               7.04   \n",
       "\n",
       "     Perpendicularity (μm)  Parallelism (μm)  Position Tolerance (μm)  \\\n",
       "360                  13.90              9.30                    19.70   \n",
       "361                  13.34             14.03                    17.21   \n",
       "362                   7.32             12.98                    24.92   \n",
       "363                   5.45              2.16                    29.06   \n",
       "364                  23.85              7.36                    13.68   \n",
       "\n",
       "    Pass/Fail  Year  Month Weekday  \n",
       "360      Fail  2025      3  Sunday  \n",
       "361      Fail  2025      3  Sunday  \n",
       "362      Fail  2025      3  Sunday  \n",
       "363      Fail  2025      3  Sunday  \n",
       "364      Fail  2025      3  Sunday  "
      ],
      "text/html": [
       "<div>\n",
       "<style scoped>\n",
       "    .dataframe tbody tr th:only-of-type {\n",
       "        vertical-align: middle;\n",
       "    }\n",
       "\n",
       "    .dataframe tbody tr th {\n",
       "        vertical-align: top;\n",
       "    }\n",
       "\n",
       "    .dataframe thead th {\n",
       "        text-align: right;\n",
       "    }\n",
       "</style>\n",
       "<table border=\"1\" class=\"dataframe\">\n",
       "  <thead>\n",
       "    <tr style=\"text-align: right;\">\n",
       "      <th></th>\n",
       "      <th>Date</th>\n",
       "      <th>Shift</th>\n",
       "      <th>Machine ID</th>\n",
       "      <th>Component Type</th>\n",
       "      <th>Batch ID</th>\n",
       "      <th>Flatness (μm)</th>\n",
       "      <th>Circularity (μm)</th>\n",
       "      <th>Cylindricity (μm)</th>\n",
       "      <th>Straightness (μm)</th>\n",
       "      <th>Perpendicularity (μm)</th>\n",
       "      <th>Parallelism (μm)</th>\n",
       "      <th>Position Tolerance (μm)</th>\n",
       "      <th>Pass/Fail</th>\n",
       "      <th>Year</th>\n",
       "      <th>Month</th>\n",
       "      <th>Weekday</th>\n",
       "    </tr>\n",
       "  </thead>\n",
       "  <tbody>\n",
       "    <tr>\n",
       "      <th>360</th>\n",
       "      <td>2025-03-02</td>\n",
       "      <td>Shift 1</td>\n",
       "      <td>CMM A</td>\n",
       "      <td>Disc</td>\n",
       "      <td>CMM5895</td>\n",
       "      <td>5.63</td>\n",
       "      <td>7.32</td>\n",
       "      <td>18.23</td>\n",
       "      <td>4.02</td>\n",
       "      <td>13.90</td>\n",
       "      <td>9.30</td>\n",
       "      <td>19.70</td>\n",
       "      <td>Fail</td>\n",
       "      <td>2025</td>\n",
       "      <td>3</td>\n",
       "      <td>Sunday</td>\n",
       "    </tr>\n",
       "    <tr>\n",
       "      <th>361</th>\n",
       "      <td>2025-03-02</td>\n",
       "      <td>Shift 1</td>\n",
       "      <td>CMM A</td>\n",
       "      <td>Cylinder</td>\n",
       "      <td>CMM8927</td>\n",
       "      <td>2.48</td>\n",
       "      <td>14.22</td>\n",
       "      <td>18.33</td>\n",
       "      <td>9.87</td>\n",
       "      <td>13.34</td>\n",
       "      <td>14.03</td>\n",
       "      <td>17.21</td>\n",
       "      <td>Fail</td>\n",
       "      <td>2025</td>\n",
       "      <td>3</td>\n",
       "      <td>Sunday</td>\n",
       "    </tr>\n",
       "    <tr>\n",
       "      <th>362</th>\n",
       "      <td>2025-03-02</td>\n",
       "      <td>Shift 1</td>\n",
       "      <td>CMM A</td>\n",
       "      <td>Cylinder</td>\n",
       "      <td>CMM5737</td>\n",
       "      <td>3.80</td>\n",
       "      <td>9.22</td>\n",
       "      <td>24.19</td>\n",
       "      <td>2.46</td>\n",
       "      <td>7.32</td>\n",
       "      <td>12.98</td>\n",
       "      <td>24.92</td>\n",
       "      <td>Fail</td>\n",
       "      <td>2025</td>\n",
       "      <td>3</td>\n",
       "      <td>Sunday</td>\n",
       "    </tr>\n",
       "    <tr>\n",
       "      <th>363</th>\n",
       "      <td>2025-03-02</td>\n",
       "      <td>Shift 2</td>\n",
       "      <td>CMM B</td>\n",
       "      <td>Bracket</td>\n",
       "      <td>CMM1030</td>\n",
       "      <td>14.52</td>\n",
       "      <td>10.76</td>\n",
       "      <td>3.34</td>\n",
       "      <td>8.03</td>\n",
       "      <td>5.45</td>\n",
       "      <td>2.16</td>\n",
       "      <td>29.06</td>\n",
       "      <td>Fail</td>\n",
       "      <td>2025</td>\n",
       "      <td>3</td>\n",
       "      <td>Sunday</td>\n",
       "    </tr>\n",
       "    <tr>\n",
       "      <th>364</th>\n",
       "      <td>2025-03-02</td>\n",
       "      <td>Shift 2</td>\n",
       "      <td>CMM A</td>\n",
       "      <td>Bushing</td>\n",
       "      <td>CMM1851</td>\n",
       "      <td>10.64</td>\n",
       "      <td>14.89</td>\n",
       "      <td>20.85</td>\n",
       "      <td>7.04</td>\n",
       "      <td>23.85</td>\n",
       "      <td>7.36</td>\n",
       "      <td>13.68</td>\n",
       "      <td>Fail</td>\n",
       "      <td>2025</td>\n",
       "      <td>3</td>\n",
       "      <td>Sunday</td>\n",
       "    </tr>\n",
       "  </tbody>\n",
       "</table>\n",
       "</div>"
      ]
     },
     "execution_count": 464,
     "metadata": {},
     "output_type": "execute_result"
    }
   ],
   "execution_count": 464
  },
  {
   "metadata": {
    "ExecuteTime": {
     "end_time": "2025-05-10T22:22:23.707813Z",
     "start_time": "2025-05-10T22:22:23.697837Z"
    }
   },
   "cell_type": "code",
   "source": [
    "# Entries between two dates\n",
    "df[(df['Date'] >= '2025-05-01') & (df['Date'] <= '2025-05-31')].head()"
   ],
   "id": "20d5519a732861f4",
   "outputs": [
    {
     "data": {
      "text/plain": [
       "          Date    Shift Machine ID Component Type Batch ID  Flatness (μm)  \\\n",
       "720 2025-05-01  Shift 1      CMM B        Bracket  CMM8088           8.52   \n",
       "721 2025-05-01  Shift 1      CMM C    Cover Plate  CMM6332          19.95   \n",
       "722 2025-05-01  Shift 1      CMM A    Cover Plate  CMM3073          14.25   \n",
       "723 2025-05-01  Shift 2      CMM C        Bushing  CMM1161          15.99   \n",
       "724 2025-05-01  Shift 2      CMM B    Cover Plate  CMM2532           5.04   \n",
       "\n",
       "     Circularity (μm)  Cylindricity (μm)  Straightness (μm)  \\\n",
       "720             14.60               1.55               3.65   \n",
       "721             14.76              24.21               4.46   \n",
       "722              2.65              17.58               6.84   \n",
       "723              3.15              22.17               5.49   \n",
       "724              5.88              10.23               7.41   \n",
       "\n",
       "     Perpendicularity (μm)  Parallelism (μm)  Position Tolerance (μm)  \\\n",
       "720                  12.01              7.10                    10.37   \n",
       "721                  10.08              7.35                     6.16   \n",
       "722                  15.86              4.02                    22.29   \n",
       "723                  18.63              7.95                    19.28   \n",
       "724                  21.51              9.01                    13.01   \n",
       "\n",
       "    Pass/Fail  Year  Month   Weekday  \n",
       "720      Fail  2025      5  Thursday  \n",
       "721      Fail  2025      5  Thursday  \n",
       "722      Fail  2025      5  Thursday  \n",
       "723      Fail  2025      5  Thursday  \n",
       "724      Pass  2025      5  Thursday  "
      ],
      "text/html": [
       "<div>\n",
       "<style scoped>\n",
       "    .dataframe tbody tr th:only-of-type {\n",
       "        vertical-align: middle;\n",
       "    }\n",
       "\n",
       "    .dataframe tbody tr th {\n",
       "        vertical-align: top;\n",
       "    }\n",
       "\n",
       "    .dataframe thead th {\n",
       "        text-align: right;\n",
       "    }\n",
       "</style>\n",
       "<table border=\"1\" class=\"dataframe\">\n",
       "  <thead>\n",
       "    <tr style=\"text-align: right;\">\n",
       "      <th></th>\n",
       "      <th>Date</th>\n",
       "      <th>Shift</th>\n",
       "      <th>Machine ID</th>\n",
       "      <th>Component Type</th>\n",
       "      <th>Batch ID</th>\n",
       "      <th>Flatness (μm)</th>\n",
       "      <th>Circularity (μm)</th>\n",
       "      <th>Cylindricity (μm)</th>\n",
       "      <th>Straightness (μm)</th>\n",
       "      <th>Perpendicularity (μm)</th>\n",
       "      <th>Parallelism (μm)</th>\n",
       "      <th>Position Tolerance (μm)</th>\n",
       "      <th>Pass/Fail</th>\n",
       "      <th>Year</th>\n",
       "      <th>Month</th>\n",
       "      <th>Weekday</th>\n",
       "    </tr>\n",
       "  </thead>\n",
       "  <tbody>\n",
       "    <tr>\n",
       "      <th>720</th>\n",
       "      <td>2025-05-01</td>\n",
       "      <td>Shift 1</td>\n",
       "      <td>CMM B</td>\n",
       "      <td>Bracket</td>\n",
       "      <td>CMM8088</td>\n",
       "      <td>8.52</td>\n",
       "      <td>14.60</td>\n",
       "      <td>1.55</td>\n",
       "      <td>3.65</td>\n",
       "      <td>12.01</td>\n",
       "      <td>7.10</td>\n",
       "      <td>10.37</td>\n",
       "      <td>Fail</td>\n",
       "      <td>2025</td>\n",
       "      <td>5</td>\n",
       "      <td>Thursday</td>\n",
       "    </tr>\n",
       "    <tr>\n",
       "      <th>721</th>\n",
       "      <td>2025-05-01</td>\n",
       "      <td>Shift 1</td>\n",
       "      <td>CMM C</td>\n",
       "      <td>Cover Plate</td>\n",
       "      <td>CMM6332</td>\n",
       "      <td>19.95</td>\n",
       "      <td>14.76</td>\n",
       "      <td>24.21</td>\n",
       "      <td>4.46</td>\n",
       "      <td>10.08</td>\n",
       "      <td>7.35</td>\n",
       "      <td>6.16</td>\n",
       "      <td>Fail</td>\n",
       "      <td>2025</td>\n",
       "      <td>5</td>\n",
       "      <td>Thursday</td>\n",
       "    </tr>\n",
       "    <tr>\n",
       "      <th>722</th>\n",
       "      <td>2025-05-01</td>\n",
       "      <td>Shift 1</td>\n",
       "      <td>CMM A</td>\n",
       "      <td>Cover Plate</td>\n",
       "      <td>CMM3073</td>\n",
       "      <td>14.25</td>\n",
       "      <td>2.65</td>\n",
       "      <td>17.58</td>\n",
       "      <td>6.84</td>\n",
       "      <td>15.86</td>\n",
       "      <td>4.02</td>\n",
       "      <td>22.29</td>\n",
       "      <td>Fail</td>\n",
       "      <td>2025</td>\n",
       "      <td>5</td>\n",
       "      <td>Thursday</td>\n",
       "    </tr>\n",
       "    <tr>\n",
       "      <th>723</th>\n",
       "      <td>2025-05-01</td>\n",
       "      <td>Shift 2</td>\n",
       "      <td>CMM C</td>\n",
       "      <td>Bushing</td>\n",
       "      <td>CMM1161</td>\n",
       "      <td>15.99</td>\n",
       "      <td>3.15</td>\n",
       "      <td>22.17</td>\n",
       "      <td>5.49</td>\n",
       "      <td>18.63</td>\n",
       "      <td>7.95</td>\n",
       "      <td>19.28</td>\n",
       "      <td>Fail</td>\n",
       "      <td>2025</td>\n",
       "      <td>5</td>\n",
       "      <td>Thursday</td>\n",
       "    </tr>\n",
       "    <tr>\n",
       "      <th>724</th>\n",
       "      <td>2025-05-01</td>\n",
       "      <td>Shift 2</td>\n",
       "      <td>CMM B</td>\n",
       "      <td>Cover Plate</td>\n",
       "      <td>CMM2532</td>\n",
       "      <td>5.04</td>\n",
       "      <td>5.88</td>\n",
       "      <td>10.23</td>\n",
       "      <td>7.41</td>\n",
       "      <td>21.51</td>\n",
       "      <td>9.01</td>\n",
       "      <td>13.01</td>\n",
       "      <td>Pass</td>\n",
       "      <td>2025</td>\n",
       "      <td>5</td>\n",
       "      <td>Thursday</td>\n",
       "    </tr>\n",
       "  </tbody>\n",
       "</table>\n",
       "</div>"
      ]
     },
     "execution_count": 465,
     "metadata": {},
     "output_type": "execute_result"
    }
   ],
   "execution_count": 465
  },
  {
   "metadata": {},
   "cell_type": "markdown",
   "source": [
    "## 2. **Resampling**\n",
    "\n",
    "Resampling means **changing the frequency of your time series data**, typically using `.resample()` on a datetime index.\n",
    "\n",
    "> Think of it like: “Summarize this dataset every day, week, or month.”\n",
    "\n",
    "### Common Frequency Codes\n",
    "\n",
    "| Code  | Meaning                   |\n",
    "| ----- | ------------------------- |\n",
    "| `'D'` | Daily                     |\n",
    "| `'W'` | Weekly                    |\n",
    "| `'M'` | Month-end                 |\n",
    "| `'Q'` | Quarterly                 |\n",
    "| `'Y'` | Year-end                  |\n",
    "| `'H'` | Hourly (if time included) |\n",
    "\n",
    "\n",
    "## Why Use These?\n",
    "\n",
    "* Track **quality trends over time**\n",
    "* Find **seasonal patterns or anomalies**\n",
    "* Aggregate or downsample high-frequency data (like sensor logs)\n"
   ],
   "id": "1d756c4932d197e6"
  },
  {
   "metadata": {
    "ExecuteTime": {
     "end_time": "2025-05-10T22:22:23.940052Z",
     "start_time": "2025-05-10T22:22:23.937429Z"
    }
   },
   "cell_type": "code",
   "source": [
    "# first set Date column as index\n",
    "df.set_index('Date', inplace=True)"
   ],
   "id": "5480a69bc1fc2015",
   "outputs": [],
   "execution_count": 466
  },
  {
   "metadata": {
    "ExecuteTime": {
     "end_time": "2025-05-10T22:22:24.222419Z",
     "start_time": "2025-05-10T22:22:24.215989Z"
    }
   },
   "cell_type": "code",
   "source": [
    "# Daily count of inspections\n",
    "df.resample('D').size()"
   ],
   "id": "68e4fe9e072bb7ef",
   "outputs": [
    {
     "data": {
      "text/plain": [
       "Date\n",
       "2025-01-01    6\n",
       "2025-01-02    6\n",
       "2025-01-03    6\n",
       "2025-01-04    6\n",
       "2025-01-05    6\n",
       "             ..\n",
       "2025-12-27    6\n",
       "2025-12-28    6\n",
       "2025-12-29    6\n",
       "2025-12-30    6\n",
       "2025-12-31    6\n",
       "Freq: D, Length: 365, dtype: int64"
      ]
     },
     "execution_count": 467,
     "metadata": {},
     "output_type": "execute_result"
    }
   ],
   "execution_count": 467
  },
  {
   "metadata": {
    "ExecuteTime": {
     "end_time": "2025-05-10T22:22:24.527685Z",
     "start_time": "2025-05-10T22:22:24.521925Z"
    }
   },
   "cell_type": "code",
   "source": [
    "# Weekly average of flatness\n",
    "df['Flatness (μm)'].resample('W').mean()"
   ],
   "id": "c4b0524d2660fb9",
   "outputs": [
    {
     "data": {
      "text/plain": [
       "Date\n",
       "2025-01-05    10.626333\n",
       "2025-01-12    10.611429\n",
       "2025-01-19    12.054762\n",
       "2025-01-26    11.768333\n",
       "2025-02-02    11.687857\n",
       "2025-02-09    11.234524\n",
       "2025-02-16    11.780476\n",
       "2025-02-23    12.740476\n",
       "2025-03-02    11.527143\n",
       "2025-03-09    10.097381\n",
       "2025-03-16    11.002381\n",
       "2025-03-23    12.357857\n",
       "2025-03-30    12.551905\n",
       "2025-04-06    11.270476\n",
       "2025-04-13     9.172143\n",
       "2025-04-20    13.201429\n",
       "2025-04-27    10.102381\n",
       "2025-05-04    12.630238\n",
       "2025-05-11    11.964524\n",
       "2025-05-18    10.548810\n",
       "2025-05-25    12.342143\n",
       "2025-06-01    10.861667\n",
       "2025-06-08     9.997619\n",
       "2025-06-15    11.975714\n",
       "2025-06-22    12.047619\n",
       "2025-06-29    11.047857\n",
       "2025-07-06    11.912381\n",
       "2025-07-13    11.970952\n",
       "2025-07-20    11.707381\n",
       "2025-07-27    11.279762\n",
       "2025-08-03    12.158571\n",
       "2025-08-10    10.069524\n",
       "2025-08-17    10.519524\n",
       "2025-08-24    12.054762\n",
       "2025-08-31    11.082619\n",
       "2025-09-07    11.381667\n",
       "2025-09-14    11.311429\n",
       "2025-09-21    10.297381\n",
       "2025-09-28    11.199524\n",
       "2025-10-05    11.250238\n",
       "2025-10-12    12.356667\n",
       "2025-10-19    12.194524\n",
       "2025-10-26    10.614524\n",
       "2025-11-02    11.659762\n",
       "2025-11-09    12.240238\n",
       "2025-11-16    11.264762\n",
       "2025-11-23    11.188095\n",
       "2025-11-30    10.610238\n",
       "2025-12-07    11.330476\n",
       "2025-12-14    11.646667\n",
       "2025-12-21    12.264762\n",
       "2025-12-28    12.038095\n",
       "2026-01-04    10.436111\n",
       "Freq: W-SUN, Name: Flatness (μm), dtype: float64"
      ]
     },
     "execution_count": 468,
     "metadata": {},
     "output_type": "execute_result"
    }
   ],
   "execution_count": 468
  },
  {
   "metadata": {
    "ExecuteTime": {
     "end_time": "2025-05-10T22:22:24.644565Z",
     "start_time": "2025-05-10T22:22:24.636314Z"
    }
   },
   "cell_type": "code",
   "source": [
    "# Monthly pass/fail counts\n",
    "df.resample('ME')['Pass/Fail'].value_counts().unstack()"
   ],
   "id": "6a36969c49999c18",
   "outputs": [
    {
     "data": {
      "text/plain": [
       "Pass/Fail   Fail  Pass\n",
       "Date                  \n",
       "2025-01-31    87    99\n",
       "2025-02-28    77    91\n",
       "2025-03-31   100    86\n",
       "2025-04-30   100    80\n",
       "2025-05-31    90    96\n",
       "2025-06-30    98    82\n",
       "2025-07-31    96    90\n",
       "2025-08-31    97    89\n",
       "2025-09-30    92    88\n",
       "2025-10-31    84   102\n",
       "2025-11-30    95    85\n",
       "2025-12-31   100    86"
      ],
      "text/html": [
       "<div>\n",
       "<style scoped>\n",
       "    .dataframe tbody tr th:only-of-type {\n",
       "        vertical-align: middle;\n",
       "    }\n",
       "\n",
       "    .dataframe tbody tr th {\n",
       "        vertical-align: top;\n",
       "    }\n",
       "\n",
       "    .dataframe thead th {\n",
       "        text-align: right;\n",
       "    }\n",
       "</style>\n",
       "<table border=\"1\" class=\"dataframe\">\n",
       "  <thead>\n",
       "    <tr style=\"text-align: right;\">\n",
       "      <th>Pass/Fail</th>\n",
       "      <th>Fail</th>\n",
       "      <th>Pass</th>\n",
       "    </tr>\n",
       "    <tr>\n",
       "      <th>Date</th>\n",
       "      <th></th>\n",
       "      <th></th>\n",
       "    </tr>\n",
       "  </thead>\n",
       "  <tbody>\n",
       "    <tr>\n",
       "      <th>2025-01-31</th>\n",
       "      <td>87</td>\n",
       "      <td>99</td>\n",
       "    </tr>\n",
       "    <tr>\n",
       "      <th>2025-02-28</th>\n",
       "      <td>77</td>\n",
       "      <td>91</td>\n",
       "    </tr>\n",
       "    <tr>\n",
       "      <th>2025-03-31</th>\n",
       "      <td>100</td>\n",
       "      <td>86</td>\n",
       "    </tr>\n",
       "    <tr>\n",
       "      <th>2025-04-30</th>\n",
       "      <td>100</td>\n",
       "      <td>80</td>\n",
       "    </tr>\n",
       "    <tr>\n",
       "      <th>2025-05-31</th>\n",
       "      <td>90</td>\n",
       "      <td>96</td>\n",
       "    </tr>\n",
       "    <tr>\n",
       "      <th>2025-06-30</th>\n",
       "      <td>98</td>\n",
       "      <td>82</td>\n",
       "    </tr>\n",
       "    <tr>\n",
       "      <th>2025-07-31</th>\n",
       "      <td>96</td>\n",
       "      <td>90</td>\n",
       "    </tr>\n",
       "    <tr>\n",
       "      <th>2025-08-31</th>\n",
       "      <td>97</td>\n",
       "      <td>89</td>\n",
       "    </tr>\n",
       "    <tr>\n",
       "      <th>2025-09-30</th>\n",
       "      <td>92</td>\n",
       "      <td>88</td>\n",
       "    </tr>\n",
       "    <tr>\n",
       "      <th>2025-10-31</th>\n",
       "      <td>84</td>\n",
       "      <td>102</td>\n",
       "    </tr>\n",
       "    <tr>\n",
       "      <th>2025-11-30</th>\n",
       "      <td>95</td>\n",
       "      <td>85</td>\n",
       "    </tr>\n",
       "    <tr>\n",
       "      <th>2025-12-31</th>\n",
       "      <td>100</td>\n",
       "      <td>86</td>\n",
       "    </tr>\n",
       "  </tbody>\n",
       "</table>\n",
       "</div>"
      ]
     },
     "execution_count": 469,
     "metadata": {},
     "output_type": "execute_result"
    }
   ],
   "execution_count": 469
  },
  {
   "metadata": {},
   "cell_type": "markdown",
   "source": [
    "### **Exercise 4: Summarize by Component**\n",
    "\n",
    "**Problem:** Show average flatness, circularity, and cylindricity per `Component Type`.\n",
    "\n",
    "**Purpose:** Aggregation and group-based insights.\n"
   ],
   "id": "f0f064f90304e091"
  },
  {
   "metadata": {
    "ExecuteTime": {
     "end_time": "2025-05-10T22:22:24.933885Z",
     "start_time": "2025-05-10T22:22:24.917527Z"
    }
   },
   "cell_type": "code",
   "source": "df = pd.read_json('JSON/cmm_measurement_365day_dataset.json')",
   "id": "a0224f3beaeaac84",
   "outputs": [],
   "execution_count": 470
  },
  {
   "metadata": {
    "ExecuteTime": {
     "end_time": "2025-05-10T22:22:24.992434Z",
     "start_time": "2025-05-10T22:22:24.985497Z"
    }
   },
   "cell_type": "code",
   "source": "df.head(3)",
   "id": "28113ee7be21e0d1",
   "outputs": [
    {
     "data": {
      "text/plain": [
       "        Date    Shift Machine ID Component Type Batch ID  Flatness (μm)  \\\n",
       "0 2025-01-01  Shift 1      CMM B       Cylinder  CMM6728          10.00   \n",
       "1 2025-01-01  Shift 1      CMM A       Cylinder  CMM8120           8.30   \n",
       "2 2025-01-01  Shift 1      CMM C          Shaft  CMM7901          15.12   \n",
       "\n",
       "   Circularity (μm)  Cylindricity (μm)  Straightness (μm)  \\\n",
       "0             11.35               3.05               7.35   \n",
       "1             14.07               7.94               6.76   \n",
       "2             12.18              22.88               1.07   \n",
       "\n",
       "   Perpendicularity (μm)  Parallelism (μm)  Position Tolerance (μm) Pass/Fail  \n",
       "0                  20.43             14.25                    28.11      Fail  \n",
       "1                   8.86             13.19                    24.35      Fail  \n",
       "2                   6.08             11.21                    20.66      Fail  "
      ],
      "text/html": [
       "<div>\n",
       "<style scoped>\n",
       "    .dataframe tbody tr th:only-of-type {\n",
       "        vertical-align: middle;\n",
       "    }\n",
       "\n",
       "    .dataframe tbody tr th {\n",
       "        vertical-align: top;\n",
       "    }\n",
       "\n",
       "    .dataframe thead th {\n",
       "        text-align: right;\n",
       "    }\n",
       "</style>\n",
       "<table border=\"1\" class=\"dataframe\">\n",
       "  <thead>\n",
       "    <tr style=\"text-align: right;\">\n",
       "      <th></th>\n",
       "      <th>Date</th>\n",
       "      <th>Shift</th>\n",
       "      <th>Machine ID</th>\n",
       "      <th>Component Type</th>\n",
       "      <th>Batch ID</th>\n",
       "      <th>Flatness (μm)</th>\n",
       "      <th>Circularity (μm)</th>\n",
       "      <th>Cylindricity (μm)</th>\n",
       "      <th>Straightness (μm)</th>\n",
       "      <th>Perpendicularity (μm)</th>\n",
       "      <th>Parallelism (μm)</th>\n",
       "      <th>Position Tolerance (μm)</th>\n",
       "      <th>Pass/Fail</th>\n",
       "    </tr>\n",
       "  </thead>\n",
       "  <tbody>\n",
       "    <tr>\n",
       "      <th>0</th>\n",
       "      <td>2025-01-01</td>\n",
       "      <td>Shift 1</td>\n",
       "      <td>CMM B</td>\n",
       "      <td>Cylinder</td>\n",
       "      <td>CMM6728</td>\n",
       "      <td>10.00</td>\n",
       "      <td>11.35</td>\n",
       "      <td>3.05</td>\n",
       "      <td>7.35</td>\n",
       "      <td>20.43</td>\n",
       "      <td>14.25</td>\n",
       "      <td>28.11</td>\n",
       "      <td>Fail</td>\n",
       "    </tr>\n",
       "    <tr>\n",
       "      <th>1</th>\n",
       "      <td>2025-01-01</td>\n",
       "      <td>Shift 1</td>\n",
       "      <td>CMM A</td>\n",
       "      <td>Cylinder</td>\n",
       "      <td>CMM8120</td>\n",
       "      <td>8.30</td>\n",
       "      <td>14.07</td>\n",
       "      <td>7.94</td>\n",
       "      <td>6.76</td>\n",
       "      <td>8.86</td>\n",
       "      <td>13.19</td>\n",
       "      <td>24.35</td>\n",
       "      <td>Fail</td>\n",
       "    </tr>\n",
       "    <tr>\n",
       "      <th>2</th>\n",
       "      <td>2025-01-01</td>\n",
       "      <td>Shift 1</td>\n",
       "      <td>CMM C</td>\n",
       "      <td>Shaft</td>\n",
       "      <td>CMM7901</td>\n",
       "      <td>15.12</td>\n",
       "      <td>12.18</td>\n",
       "      <td>22.88</td>\n",
       "      <td>1.07</td>\n",
       "      <td>6.08</td>\n",
       "      <td>11.21</td>\n",
       "      <td>20.66</td>\n",
       "      <td>Fail</td>\n",
       "    </tr>\n",
       "  </tbody>\n",
       "</table>\n",
       "</div>"
      ]
     },
     "execution_count": 471,
     "metadata": {},
     "output_type": "execute_result"
    }
   ],
   "execution_count": 471
  },
  {
   "metadata": {
    "ExecuteTime": {
     "end_time": "2025-05-10T22:22:25.149603Z",
     "start_time": "2025-05-10T22:22:25.143064Z"
    }
   },
   "cell_type": "code",
   "source": "df.groupby('Component Type')[['Flatness (μm)', 'Circularity (μm)', 'Cylindricity (μm)']].mean()",
   "id": "ecd85077e8cbd77c",
   "outputs": [
    {
     "data": {
      "text/plain": [
       "                Flatness (μm)  Circularity (μm)  Cylindricity (μm)\n",
       "Component Type                                                    \n",
       "Bracket             13.545789          9.839040          12.165511\n",
       "Bushing             11.940994          9.963916          13.399639\n",
       "Cover Plate         10.093425          9.035994          11.919807\n",
       "Cylinder            11.579218          8.581132          11.248498\n",
       "Disc                11.772832          8.702727          11.661958\n",
       "Shaft               10.110274          6.377307          12.757930"
      ],
      "text/html": [
       "<div>\n",
       "<style scoped>\n",
       "    .dataframe tbody tr th:only-of-type {\n",
       "        vertical-align: middle;\n",
       "    }\n",
       "\n",
       "    .dataframe tbody tr th {\n",
       "        vertical-align: top;\n",
       "    }\n",
       "\n",
       "    .dataframe thead th {\n",
       "        text-align: right;\n",
       "    }\n",
       "</style>\n",
       "<table border=\"1\" class=\"dataframe\">\n",
       "  <thead>\n",
       "    <tr style=\"text-align: right;\">\n",
       "      <th></th>\n",
       "      <th>Flatness (μm)</th>\n",
       "      <th>Circularity (μm)</th>\n",
       "      <th>Cylindricity (μm)</th>\n",
       "    </tr>\n",
       "    <tr>\n",
       "      <th>Component Type</th>\n",
       "      <th></th>\n",
       "      <th></th>\n",
       "      <th></th>\n",
       "    </tr>\n",
       "  </thead>\n",
       "  <tbody>\n",
       "    <tr>\n",
       "      <th>Bracket</th>\n",
       "      <td>13.545789</td>\n",
       "      <td>9.839040</td>\n",
       "      <td>12.165511</td>\n",
       "    </tr>\n",
       "    <tr>\n",
       "      <th>Bushing</th>\n",
       "      <td>11.940994</td>\n",
       "      <td>9.963916</td>\n",
       "      <td>13.399639</td>\n",
       "    </tr>\n",
       "    <tr>\n",
       "      <th>Cover Plate</th>\n",
       "      <td>10.093425</td>\n",
       "      <td>9.035994</td>\n",
       "      <td>11.919807</td>\n",
       "    </tr>\n",
       "    <tr>\n",
       "      <th>Cylinder</th>\n",
       "      <td>11.579218</td>\n",
       "      <td>8.581132</td>\n",
       "      <td>11.248498</td>\n",
       "    </tr>\n",
       "    <tr>\n",
       "      <th>Disc</th>\n",
       "      <td>11.772832</td>\n",
       "      <td>8.702727</td>\n",
       "      <td>11.661958</td>\n",
       "    </tr>\n",
       "    <tr>\n",
       "      <th>Shaft</th>\n",
       "      <td>10.110274</td>\n",
       "      <td>6.377307</td>\n",
       "      <td>12.757930</td>\n",
       "    </tr>\n",
       "  </tbody>\n",
       "</table>\n",
       "</div>"
      ]
     },
     "execution_count": 472,
     "metadata": {},
     "output_type": "execute_result"
    }
   ],
   "execution_count": 472
  },
  {
   "metadata": {
    "ExecuteTime": {
     "end_time": "2025-05-10T22:22:25.266974Z",
     "start_time": "2025-05-10T22:22:25.263419Z"
    }
   },
   "cell_type": "code",
   "source": [
    "# Optional Improvements\n",
    "summary = df.groupby('Component Type')[['Flatness (μm)', 'Circularity (μm)', 'Cylindricity (μm)']].mean()"
   ],
   "id": "ba33c98b7b88aa6b",
   "outputs": [],
   "execution_count": 473
  },
  {
   "metadata": {
    "ExecuteTime": {
     "end_time": "2025-05-10T22:22:25.510906Z",
     "start_time": "2025-05-10T22:22:25.508016Z"
    }
   },
   "cell_type": "code",
   "source": "summary = summary.round(2)",
   "id": "54ba99e742cb4183",
   "outputs": [],
   "execution_count": 474
  },
  {
   "metadata": {
    "ExecuteTime": {
     "end_time": "2025-05-10T22:22:25.686036Z",
     "start_time": "2025-05-10T22:22:25.679918Z"
    }
   },
   "cell_type": "code",
   "source": "summary.sort_values(by='Flatness (μm)', ascending=False)",
   "id": "2ac5746a1cdd46b7",
   "outputs": [
    {
     "data": {
      "text/plain": [
       "                Flatness (μm)  Circularity (μm)  Cylindricity (μm)\n",
       "Component Type                                                    \n",
       "Bracket                 13.55              9.84              12.17\n",
       "Bushing                 11.94              9.96              13.40\n",
       "Disc                    11.77              8.70              11.66\n",
       "Cylinder                11.58              8.58              11.25\n",
       "Shaft                   10.11              6.38              12.76\n",
       "Cover Plate             10.09              9.04              11.92"
      ],
      "text/html": [
       "<div>\n",
       "<style scoped>\n",
       "    .dataframe tbody tr th:only-of-type {\n",
       "        vertical-align: middle;\n",
       "    }\n",
       "\n",
       "    .dataframe tbody tr th {\n",
       "        vertical-align: top;\n",
       "    }\n",
       "\n",
       "    .dataframe thead th {\n",
       "        text-align: right;\n",
       "    }\n",
       "</style>\n",
       "<table border=\"1\" class=\"dataframe\">\n",
       "  <thead>\n",
       "    <tr style=\"text-align: right;\">\n",
       "      <th></th>\n",
       "      <th>Flatness (μm)</th>\n",
       "      <th>Circularity (μm)</th>\n",
       "      <th>Cylindricity (μm)</th>\n",
       "    </tr>\n",
       "    <tr>\n",
       "      <th>Component Type</th>\n",
       "      <th></th>\n",
       "      <th></th>\n",
       "      <th></th>\n",
       "    </tr>\n",
       "  </thead>\n",
       "  <tbody>\n",
       "    <tr>\n",
       "      <th>Bracket</th>\n",
       "      <td>13.55</td>\n",
       "      <td>9.84</td>\n",
       "      <td>12.17</td>\n",
       "    </tr>\n",
       "    <tr>\n",
       "      <th>Bushing</th>\n",
       "      <td>11.94</td>\n",
       "      <td>9.96</td>\n",
       "      <td>13.40</td>\n",
       "    </tr>\n",
       "    <tr>\n",
       "      <th>Disc</th>\n",
       "      <td>11.77</td>\n",
       "      <td>8.70</td>\n",
       "      <td>11.66</td>\n",
       "    </tr>\n",
       "    <tr>\n",
       "      <th>Cylinder</th>\n",
       "      <td>11.58</td>\n",
       "      <td>8.58</td>\n",
       "      <td>11.25</td>\n",
       "    </tr>\n",
       "    <tr>\n",
       "      <th>Shaft</th>\n",
       "      <td>10.11</td>\n",
       "      <td>6.38</td>\n",
       "      <td>12.76</td>\n",
       "    </tr>\n",
       "    <tr>\n",
       "      <th>Cover Plate</th>\n",
       "      <td>10.09</td>\n",
       "      <td>9.04</td>\n",
       "      <td>11.92</td>\n",
       "    </tr>\n",
       "  </tbody>\n",
       "</table>\n",
       "</div>"
      ]
     },
     "execution_count": 475,
     "metadata": {},
     "output_type": "execute_result"
    }
   ],
   "execution_count": 475
  },
  {
   "metadata": {},
   "cell_type": "markdown",
   "source": [
    "### **Exercise 5: Quality Control Count**\n",
    "\n",
    "**Problem:** Count how many components passed vs. failed inspection.\n",
    "\n",
    "**Purpose:** Demonstrate value counting and conditional aggregation.\n"
   ],
   "id": "eafbc58287a1ae42"
  },
  {
   "metadata": {
    "ExecuteTime": {
     "end_time": "2025-05-10T22:22:26.013489Z",
     "start_time": "2025-05-10T22:22:25.997268Z"
    }
   },
   "cell_type": "code",
   "source": "df = pd.read_json('JSON/cmm_measurement_365day_dataset.json')",
   "id": "ac6af8904f788fd1",
   "outputs": [],
   "execution_count": 476
  },
  {
   "metadata": {
    "ExecuteTime": {
     "end_time": "2025-05-10T22:22:26.150642Z",
     "start_time": "2025-05-10T22:22:26.142282Z"
    }
   },
   "cell_type": "code",
   "source": "df.head(3)",
   "id": "11bee453f229ae8e",
   "outputs": [
    {
     "data": {
      "text/plain": [
       "        Date    Shift Machine ID Component Type Batch ID  Flatness (μm)  \\\n",
       "0 2025-01-01  Shift 1      CMM B       Cylinder  CMM6728          10.00   \n",
       "1 2025-01-01  Shift 1      CMM A       Cylinder  CMM8120           8.30   \n",
       "2 2025-01-01  Shift 1      CMM C          Shaft  CMM7901          15.12   \n",
       "\n",
       "   Circularity (μm)  Cylindricity (μm)  Straightness (μm)  \\\n",
       "0             11.35               3.05               7.35   \n",
       "1             14.07               7.94               6.76   \n",
       "2             12.18              22.88               1.07   \n",
       "\n",
       "   Perpendicularity (μm)  Parallelism (μm)  Position Tolerance (μm) Pass/Fail  \n",
       "0                  20.43             14.25                    28.11      Fail  \n",
       "1                   8.86             13.19                    24.35      Fail  \n",
       "2                   6.08             11.21                    20.66      Fail  "
      ],
      "text/html": [
       "<div>\n",
       "<style scoped>\n",
       "    .dataframe tbody tr th:only-of-type {\n",
       "        vertical-align: middle;\n",
       "    }\n",
       "\n",
       "    .dataframe tbody tr th {\n",
       "        vertical-align: top;\n",
       "    }\n",
       "\n",
       "    .dataframe thead th {\n",
       "        text-align: right;\n",
       "    }\n",
       "</style>\n",
       "<table border=\"1\" class=\"dataframe\">\n",
       "  <thead>\n",
       "    <tr style=\"text-align: right;\">\n",
       "      <th></th>\n",
       "      <th>Date</th>\n",
       "      <th>Shift</th>\n",
       "      <th>Machine ID</th>\n",
       "      <th>Component Type</th>\n",
       "      <th>Batch ID</th>\n",
       "      <th>Flatness (μm)</th>\n",
       "      <th>Circularity (μm)</th>\n",
       "      <th>Cylindricity (μm)</th>\n",
       "      <th>Straightness (μm)</th>\n",
       "      <th>Perpendicularity (μm)</th>\n",
       "      <th>Parallelism (μm)</th>\n",
       "      <th>Position Tolerance (μm)</th>\n",
       "      <th>Pass/Fail</th>\n",
       "    </tr>\n",
       "  </thead>\n",
       "  <tbody>\n",
       "    <tr>\n",
       "      <th>0</th>\n",
       "      <td>2025-01-01</td>\n",
       "      <td>Shift 1</td>\n",
       "      <td>CMM B</td>\n",
       "      <td>Cylinder</td>\n",
       "      <td>CMM6728</td>\n",
       "      <td>10.00</td>\n",
       "      <td>11.35</td>\n",
       "      <td>3.05</td>\n",
       "      <td>7.35</td>\n",
       "      <td>20.43</td>\n",
       "      <td>14.25</td>\n",
       "      <td>28.11</td>\n",
       "      <td>Fail</td>\n",
       "    </tr>\n",
       "    <tr>\n",
       "      <th>1</th>\n",
       "      <td>2025-01-01</td>\n",
       "      <td>Shift 1</td>\n",
       "      <td>CMM A</td>\n",
       "      <td>Cylinder</td>\n",
       "      <td>CMM8120</td>\n",
       "      <td>8.30</td>\n",
       "      <td>14.07</td>\n",
       "      <td>7.94</td>\n",
       "      <td>6.76</td>\n",
       "      <td>8.86</td>\n",
       "      <td>13.19</td>\n",
       "      <td>24.35</td>\n",
       "      <td>Fail</td>\n",
       "    </tr>\n",
       "    <tr>\n",
       "      <th>2</th>\n",
       "      <td>2025-01-01</td>\n",
       "      <td>Shift 1</td>\n",
       "      <td>CMM C</td>\n",
       "      <td>Shaft</td>\n",
       "      <td>CMM7901</td>\n",
       "      <td>15.12</td>\n",
       "      <td>12.18</td>\n",
       "      <td>22.88</td>\n",
       "      <td>1.07</td>\n",
       "      <td>6.08</td>\n",
       "      <td>11.21</td>\n",
       "      <td>20.66</td>\n",
       "      <td>Fail</td>\n",
       "    </tr>\n",
       "  </tbody>\n",
       "</table>\n",
       "</div>"
      ]
     },
     "execution_count": 477,
     "metadata": {},
     "output_type": "execute_result"
    }
   ],
   "execution_count": 477
  },
  {
   "metadata": {
    "ExecuteTime": {
     "end_time": "2025-05-10T22:22:26.324753Z",
     "start_time": "2025-05-10T22:22:26.319179Z"
    }
   },
   "cell_type": "code",
   "source": "df.groupby('Component Type')['Pass/Fail'].value_counts()",
   "id": "efab2c9a6196a3e2",
   "outputs": [
    {
     "data": {
      "text/plain": [
       "Component Type  Pass/Fail\n",
       "Bracket         Fail         176\n",
       "                Pass         147\n",
       "Bushing         Fail         168\n",
       "                Pass         164\n",
       "Cover Plate     Fail         222\n",
       "                Pass         140\n",
       "Cylinder        Pass         298\n",
       "                Fail         188\n",
       "Disc            Pass         193\n",
       "                Fail          93\n",
       "Shaft           Fail         269\n",
       "                Pass         132\n",
       "Name: count, dtype: int64"
      ]
     },
     "execution_count": 478,
     "metadata": {},
     "output_type": "execute_result"
    }
   ],
   "execution_count": 478
  },
  {
   "metadata": {},
   "cell_type": "markdown",
   "source": [
    "### **Exercise 6: Daily Fail Rate**\n",
    "\n",
    "**Problem:** Compute and plot the daily percentage of failed components.\n",
    "\n",
    "**Purpose:** Practice time-series grouping and visualization.\n"
   ],
   "id": "3973064aa9ad277b"
  },
  {
   "metadata": {
    "ExecuteTime": {
     "end_time": "2025-05-10T22:22:26.453691Z",
     "start_time": "2025-05-10T22:22:26.439077Z"
    }
   },
   "cell_type": "code",
   "source": "df = pd.read_json('JSON/cmm_measurement_365day_dataset.json')",
   "id": "4a2c49bff3ae3f8b",
   "outputs": [],
   "execution_count": 479
  },
  {
   "metadata": {
    "ExecuteTime": {
     "end_time": "2025-05-10T22:22:26.670278Z",
     "start_time": "2025-05-10T22:22:26.666103Z"
    }
   },
   "cell_type": "code",
   "source": "df['Date'] = pd.to_datetime(df['Date'])",
   "id": "b715098fe536681c",
   "outputs": [],
   "execution_count": 480
  },
  {
   "metadata": {
    "ExecuteTime": {
     "end_time": "2025-05-10T22:22:26.777456Z",
     "start_time": "2025-05-10T22:22:26.774755Z"
    }
   },
   "cell_type": "code",
   "source": "df.set_index('Date', inplace=True)",
   "id": "730d938fca9c623a",
   "outputs": [],
   "execution_count": 481
  },
  {
   "metadata": {
    "ExecuteTime": {
     "end_time": "2025-05-10T22:22:27.010532Z",
     "start_time": "2025-05-10T22:22:27.003269Z"
    }
   },
   "cell_type": "code",
   "source": [
    "daily_counts = df.groupby([df.index, 'Pass/Fail']).size().unstack(fill_value=0)\n",
    "daily_counts.head()"
   ],
   "id": "e48610bebb246689",
   "outputs": [
    {
     "data": {
      "text/plain": [
       "Pass/Fail   Fail  Pass\n",
       "Date                  \n",
       "2025-01-01     3     3\n",
       "2025-01-02     4     2\n",
       "2025-01-03     3     3\n",
       "2025-01-04     4     2\n",
       "2025-01-05     3     3"
      ],
      "text/html": [
       "<div>\n",
       "<style scoped>\n",
       "    .dataframe tbody tr th:only-of-type {\n",
       "        vertical-align: middle;\n",
       "    }\n",
       "\n",
       "    .dataframe tbody tr th {\n",
       "        vertical-align: top;\n",
       "    }\n",
       "\n",
       "    .dataframe thead th {\n",
       "        text-align: right;\n",
       "    }\n",
       "</style>\n",
       "<table border=\"1\" class=\"dataframe\">\n",
       "  <thead>\n",
       "    <tr style=\"text-align: right;\">\n",
       "      <th>Pass/Fail</th>\n",
       "      <th>Fail</th>\n",
       "      <th>Pass</th>\n",
       "    </tr>\n",
       "    <tr>\n",
       "      <th>Date</th>\n",
       "      <th></th>\n",
       "      <th></th>\n",
       "    </tr>\n",
       "  </thead>\n",
       "  <tbody>\n",
       "    <tr>\n",
       "      <th>2025-01-01</th>\n",
       "      <td>3</td>\n",
       "      <td>3</td>\n",
       "    </tr>\n",
       "    <tr>\n",
       "      <th>2025-01-02</th>\n",
       "      <td>4</td>\n",
       "      <td>2</td>\n",
       "    </tr>\n",
       "    <tr>\n",
       "      <th>2025-01-03</th>\n",
       "      <td>3</td>\n",
       "      <td>3</td>\n",
       "    </tr>\n",
       "    <tr>\n",
       "      <th>2025-01-04</th>\n",
       "      <td>4</td>\n",
       "      <td>2</td>\n",
       "    </tr>\n",
       "    <tr>\n",
       "      <th>2025-01-05</th>\n",
       "      <td>3</td>\n",
       "      <td>3</td>\n",
       "    </tr>\n",
       "  </tbody>\n",
       "</table>\n",
       "</div>"
      ]
     },
     "execution_count": 482,
     "metadata": {},
     "output_type": "execute_result"
    }
   ],
   "execution_count": 482
  },
  {
   "metadata": {
    "ExecuteTime": {
     "end_time": "2025-05-10T22:22:27.132048Z",
     "start_time": "2025-05-10T22:22:27.129014Z"
    }
   },
   "cell_type": "code",
   "source": "daily_counts['Fail Rate (%)'] = (daily_counts['Fail'] / daily_counts.sum(axis=1)) * 100",
   "id": "d078a3ab01d9a597",
   "outputs": [],
   "execution_count": 483
  },
  {
   "metadata": {
    "ExecuteTime": {
     "end_time": "2025-05-10T22:22:27.264092Z",
     "start_time": "2025-05-10T22:22:27.261137Z"
    }
   },
   "cell_type": "code",
   "source": "import matplotlib.pyplot as plt",
   "id": "324bf4a403fdcbb4",
   "outputs": [],
   "execution_count": 484
  },
  {
   "metadata": {
    "ExecuteTime": {
     "end_time": "2025-05-10T22:22:27.547713Z",
     "start_time": "2025-05-10T22:22:27.390779Z"
    }
   },
   "cell_type": "code",
   "source": [
    "plt.figure(figsize=(12, 6))\n",
    "daily_counts['Fail Rate (%)'].plot(title='Daily Fail Rate (%)', ylabel='Failure (%)', xlabel='Date')\n",
    "plt.grid(True)\n",
    "plt.tight_layout()\n",
    "plt.show()"
   ],
   "id": "aedd7823f1814564",
   "outputs": [
    {
     "data": {
      "text/plain": [
       "<Figure size 1200x600 with 1 Axes>"
      ],
      "image/png": "[encoded data removed]"
     },
     "metadata": {},
     "output_type": "display_data"
    }
   ],
   "execution_count": 485
  },
  {
   "metadata": {},
   "cell_type": "markdown",
   "source": [
    "### **Exercise 7: Detect Anomalies**\n",
    "\n",
    "**Problem:** Identify rows where `Position Tolerance` exceeds 28 µm.\n",
    "\n",
    "**Purpose:** Conditional filtering and anomaly detection."
   ],
   "id": "50212412fcb3a506"
  },
  {
   "metadata": {
    "ExecuteTime": {
     "end_time": "2025-05-10T22:22:27.845165Z",
     "start_time": "2025-05-10T22:22:27.828591Z"
    }
   },
   "cell_type": "code",
   "source": [
    "df = pd.read_json('JSON/cmm_measurement_365day_dataset.json')\n",
    "df.size"
   ],
   "id": "faa3b5627d40bc21",
   "outputs": [
    {
     "data": {
      "text/plain": [
       "28470"
      ]
     },
     "execution_count": 486,
     "metadata": {},
     "output_type": "execute_result"
    }
   ],
   "execution_count": 486
  },
  {
   "metadata": {
    "ExecuteTime": {
     "end_time": "2025-05-10T22:22:27.942666Z",
     "start_time": "2025-05-10T22:22:27.940054Z"
    }
   },
   "cell_type": "code",
   "source": "mask = df['Position Tolerance (μm)'] > 28",
   "id": "240336135b3b58ff",
   "outputs": [],
   "execution_count": 487
  },
  {
   "metadata": {
    "ExecuteTime": {
     "end_time": "2025-05-10T22:22:28.198225Z",
     "start_time": "2025-05-10T22:22:28.194262Z"
    }
   },
   "cell_type": "code",
   "source": "df[mask].size",
   "id": "c252a5929f603e0d",
   "outputs": [
    {
     "data": {
      "text/plain": [
       "1924"
      ]
     },
     "execution_count": 488,
     "metadata": {},
     "output_type": "execute_result"
    }
   ],
   "execution_count": 488
  },
  {
   "metadata": {
    "ExecuteTime": {
     "end_time": "2025-05-10T22:22:28.338624Z",
     "start_time": "2025-05-10T22:22:28.332707Z"
    }
   },
   "cell_type": "code",
   "source": "df[mask][['Date', 'Position Tolerance (μm)']].head()",
   "id": "b037f4ee4394f483",
   "outputs": [
    {
     "data": {
      "text/plain": [
       "         Date  Position Tolerance (μm)\n",
       "0  2025-01-01                    28.11\n",
       "14 2025-01-03                    28.83\n",
       "22 2025-01-04                    28.11\n",
       "32 2025-01-06                    29.88\n",
       "45 2025-01-08                    29.44"
      ],
      "text/html": [
       "<div>\n",
       "<style scoped>\n",
       "    .dataframe tbody tr th:only-of-type {\n",
       "        vertical-align: middle;\n",
       "    }\n",
       "\n",
       "    .dataframe tbody tr th {\n",
       "        vertical-align: top;\n",
       "    }\n",
       "\n",
       "    .dataframe thead th {\n",
       "        text-align: right;\n",
       "    }\n",
       "</style>\n",
       "<table border=\"1\" class=\"dataframe\">\n",
       "  <thead>\n",
       "    <tr style=\"text-align: right;\">\n",
       "      <th></th>\n",
       "      <th>Date</th>\n",
       "      <th>Position Tolerance (μm)</th>\n",
       "    </tr>\n",
       "  </thead>\n",
       "  <tbody>\n",
       "    <tr>\n",
       "      <th>0</th>\n",
       "      <td>2025-01-01</td>\n",
       "      <td>28.11</td>\n",
       "    </tr>\n",
       "    <tr>\n",
       "      <th>14</th>\n",
       "      <td>2025-01-03</td>\n",
       "      <td>28.83</td>\n",
       "    </tr>\n",
       "    <tr>\n",
       "      <th>22</th>\n",
       "      <td>2025-01-04</td>\n",
       "      <td>28.11</td>\n",
       "    </tr>\n",
       "    <tr>\n",
       "      <th>32</th>\n",
       "      <td>2025-01-06</td>\n",
       "      <td>29.88</td>\n",
       "    </tr>\n",
       "    <tr>\n",
       "      <th>45</th>\n",
       "      <td>2025-01-08</td>\n",
       "      <td>29.44</td>\n",
       "    </tr>\n",
       "  </tbody>\n",
       "</table>\n",
       "</div>"
      ]
     },
     "execution_count": 489,
     "metadata": {},
     "output_type": "execute_result"
    }
   ],
   "execution_count": 489
  },
  {
   "metadata": {
    "ExecuteTime": {
     "end_time": "2025-05-10T22:22:28.627956Z",
     "start_time": "2025-05-10T22:22:28.513295Z"
    }
   },
   "cell_type": "code",
   "source": [
    "# Optional: Visualize anomalies\n",
    "plt.figure(figsize=(10, 5))\n",
    "df.plot.scatter(x='Date', y='Position Tolerance (μm)', alpha=0.5)\n",
    "plt.axhline(y=28, color='red', linestyle='--', label='Tolerance Limit')\n",
    "plt.title('Position Tolerance Over Time')\n",
    "plt.legend()\n",
    "plt.show()"
   ],
   "id": "61356287b5c4af49",
   "outputs": [
    {
     "data": {
      "text/plain": [
       "<Figure size 1000x500 with 0 Axes>"
      ]
     },
     "metadata": {},
     "output_type": "display_data"
    },
    {
     "data": {
      "text/plain": [
       "<Figure size 640x480 with 1 Axes>"
      ],
      "image/png": "[encoded data removed]"
     },
     "metadata": {},
     "output_type": "display_data"
    }
   ],
   "execution_count": 490
  },
  {
   "metadata": {},
   "cell_type": "markdown",
   "source": [
    "### Interpretation\n",
    "\n",
    "1. **Below the Line (Good)**\n",
    "\n",
    "   * Any points **below 28 µm** are within acceptable limits.\n",
    "   * These indicate **components that met tolerance** criteria.\n",
    "\n",
    "2. **Above the Line (Anomalies)**\n",
    "\n",
    "   * Points **above 28 µm** exceed the acceptable tolerance.\n",
    "   * These are **potential quality issues** or **failures** flagged for review.\n",
    "\n",
    "3. **Pattern Over Time**\n",
    "\n",
    "   * Clusters of failures on certain days may indicate:\n",
    "\n",
    "     * Machine misalignment\n",
    "     * Tool wear\n",
    "     * Calibration issues\n",
    "   * Regular spikes suggest a recurring problem tied to shift or machine.\n",
    "\n",
    "4. **Spread/Variability**\n",
    "\n",
    "   * **Tight clustering** around the tolerance line suggests stable process control.\n",
    "   * **Wider spread** = more process variability → a potential need for investigation.\n",
    "\n",
    "\n",
    "\n",
    "### Example Insights\n",
    "\n",
    "| Observation                    | Interpretation                                |\n",
    "| ------------------------------ | --------------------------------------------- |\n",
    "| Many dots just above 28 µm     | Close calls — process drifting toward failure |\n",
    "| Sudden rise on a specific date | Machine/setup problem on that day             |\n",
    "| Gradual increase over time     | Tool degradation or calibration drift         |\n"
   ],
   "id": "cdbe2619de4fc4cc"
  },
  {
   "metadata": {},
   "cell_type": "markdown",
   "source": [
    "### **Exercise 8: Most Common Machine**\n",
    "\n",
    "**Problem:** Identify the machine with the highest usage.\n",
    "\n",
    "**Purpose:** Count and frequency analysis."
   ],
   "id": "92a821cb4e309c41"
  },
  {
   "metadata": {
    "ExecuteTime": {
     "end_time": "2025-05-10T22:22:28.650774Z",
     "start_time": "2025-05-10T22:22:28.635995Z"
    }
   },
   "cell_type": "code",
   "source": "df = pd.read_json('JSON/cmm_measurement_365day_dataset.json')",
   "id": "40f24d4ad3d71bb2",
   "outputs": [],
   "execution_count": 491
  },
  {
   "metadata": {
    "ExecuteTime": {
     "end_time": "2025-05-10T22:22:28.780862Z",
     "start_time": "2025-05-10T22:22:28.773352Z"
    }
   },
   "cell_type": "code",
   "source": "df.head(3)",
   "id": "c45076360ccaf0b3",
   "outputs": [
    {
     "data": {
      "text/plain": [
       "        Date    Shift Machine ID Component Type Batch ID  Flatness (μm)  \\\n",
       "0 2025-01-01  Shift 1      CMM B       Cylinder  CMM6728          10.00   \n",
       "1 2025-01-01  Shift 1      CMM A       Cylinder  CMM8120           8.30   \n",
       "2 2025-01-01  Shift 1      CMM C          Shaft  CMM7901          15.12   \n",
       "\n",
       "   Circularity (μm)  Cylindricity (μm)  Straightness (μm)  \\\n",
       "0             11.35               3.05               7.35   \n",
       "1             14.07               7.94               6.76   \n",
       "2             12.18              22.88               1.07   \n",
       "\n",
       "   Perpendicularity (μm)  Parallelism (μm)  Position Tolerance (μm) Pass/Fail  \n",
       "0                  20.43             14.25                    28.11      Fail  \n",
       "1                   8.86             13.19                    24.35      Fail  \n",
       "2                   6.08             11.21                    20.66      Fail  "
      ],
      "text/html": [
       "<div>\n",
       "<style scoped>\n",
       "    .dataframe tbody tr th:only-of-type {\n",
       "        vertical-align: middle;\n",
       "    }\n",
       "\n",
       "    .dataframe tbody tr th {\n",
       "        vertical-align: top;\n",
       "    }\n",
       "\n",
       "    .dataframe thead th {\n",
       "        text-align: right;\n",
       "    }\n",
       "</style>\n",
       "<table border=\"1\" class=\"dataframe\">\n",
       "  <thead>\n",
       "    <tr style=\"text-align: right;\">\n",
       "      <th></th>\n",
       "      <th>Date</th>\n",
       "      <th>Shift</th>\n",
       "      <th>Machine ID</th>\n",
       "      <th>Component Type</th>\n",
       "      <th>Batch ID</th>\n",
       "      <th>Flatness (μm)</th>\n",
       "      <th>Circularity (μm)</th>\n",
       "      <th>Cylindricity (μm)</th>\n",
       "      <th>Straightness (μm)</th>\n",
       "      <th>Perpendicularity (μm)</th>\n",
       "      <th>Parallelism (μm)</th>\n",
       "      <th>Position Tolerance (μm)</th>\n",
       "      <th>Pass/Fail</th>\n",
       "    </tr>\n",
       "  </thead>\n",
       "  <tbody>\n",
       "    <tr>\n",
       "      <th>0</th>\n",
       "      <td>2025-01-01</td>\n",
       "      <td>Shift 1</td>\n",
       "      <td>CMM B</td>\n",
       "      <td>Cylinder</td>\n",
       "      <td>CMM6728</td>\n",
       "      <td>10.00</td>\n",
       "      <td>11.35</td>\n",
       "      <td>3.05</td>\n",
       "      <td>7.35</td>\n",
       "      <td>20.43</td>\n",
       "      <td>14.25</td>\n",
       "      <td>28.11</td>\n",
       "      <td>Fail</td>\n",
       "    </tr>\n",
       "    <tr>\n",
       "      <th>1</th>\n",
       "      <td>2025-01-01</td>\n",
       "      <td>Shift 1</td>\n",
       "      <td>CMM A</td>\n",
       "      <td>Cylinder</td>\n",
       "      <td>CMM8120</td>\n",
       "      <td>8.30</td>\n",
       "      <td>14.07</td>\n",
       "      <td>7.94</td>\n",
       "      <td>6.76</td>\n",
       "      <td>8.86</td>\n",
       "      <td>13.19</td>\n",
       "      <td>24.35</td>\n",
       "      <td>Fail</td>\n",
       "    </tr>\n",
       "    <tr>\n",
       "      <th>2</th>\n",
       "      <td>2025-01-01</td>\n",
       "      <td>Shift 1</td>\n",
       "      <td>CMM C</td>\n",
       "      <td>Shaft</td>\n",
       "      <td>CMM7901</td>\n",
       "      <td>15.12</td>\n",
       "      <td>12.18</td>\n",
       "      <td>22.88</td>\n",
       "      <td>1.07</td>\n",
       "      <td>6.08</td>\n",
       "      <td>11.21</td>\n",
       "      <td>20.66</td>\n",
       "      <td>Fail</td>\n",
       "    </tr>\n",
       "  </tbody>\n",
       "</table>\n",
       "</div>"
      ]
     },
     "execution_count": 492,
     "metadata": {},
     "output_type": "execute_result"
    }
   ],
   "execution_count": 492
  },
  {
   "metadata": {
    "ExecuteTime": {
     "end_time": "2025-05-10T22:22:29.012902Z",
     "start_time": "2025-05-10T22:22:29.009944Z"
    }
   },
   "cell_type": "code",
   "source": "machine_ids = df['Machine ID'].value_counts()",
   "id": "f1e8b6c5045c0fc0",
   "outputs": [],
   "execution_count": 493
  },
  {
   "metadata": {
    "ExecuteTime": {
     "end_time": "2025-05-10T22:22:29.153066Z",
     "start_time": "2025-05-10T22:22:29.148596Z"
    }
   },
   "cell_type": "code",
   "source": "machine_ids",
   "id": "3a433141ded20d40",
   "outputs": [
    {
     "data": {
      "text/plain": [
       "Machine ID\n",
       "CMM B    813\n",
       "CMM A    698\n",
       "CMM C    679\n",
       "Name: count, dtype: int64"
      ]
     },
     "execution_count": 494,
     "metadata": {},
     "output_type": "execute_result"
    }
   ],
   "execution_count": 494
  },
  {
   "metadata": {
    "ExecuteTime": {
     "end_time": "2025-05-10T22:22:29.305785Z",
     "start_time": "2025-05-10T22:22:29.302762Z"
    }
   },
   "cell_type": "code",
   "source": "machine_ids.max()",
   "id": "11601a1ec5bdaa53",
   "outputs": [
    {
     "data": {
      "text/plain": [
       "np.int64(813)"
      ]
     },
     "execution_count": 495,
     "metadata": {},
     "output_type": "execute_result"
    }
   ],
   "execution_count": 495
  },
  {
   "metadata": {
    "ExecuteTime": {
     "end_time": "2025-05-10T22:22:29.439572Z",
     "start_time": "2025-05-10T22:22:29.436347Z"
    }
   },
   "cell_type": "code",
   "source": "machine_ids.idxmax()",
   "id": "20c16412e889f4f6",
   "outputs": [
    {
     "data": {
      "text/plain": [
       "'CMM B'"
      ]
     },
     "execution_count": 496,
     "metadata": {},
     "output_type": "execute_result"
    }
   ],
   "execution_count": 496
  },
  {
   "metadata": {},
   "cell_type": "markdown",
   "source": [
    "### **Exercise 9: Save Filtered JSON**\n",
    "\n",
    "**Problem:** Filter data for `Shift 2` and save to a new JSON file.\n",
    "    \n",
    "**Purpose:** File handling using `to_json()`."
   ],
   "id": "93f9b6bcefc1c7f"
  },
  {
   "metadata": {
    "ExecuteTime": {
     "end_time": "2025-05-10T22:22:29.721704Z",
     "start_time": "2025-05-10T22:22:29.704818Z"
    }
   },
   "cell_type": "code",
   "source": "df = pd.read_json('JSON/cmm_measurement_365day_dataset.json')",
   "id": "2a57665891a5369a",
   "outputs": [],
   "execution_count": 497
  },
  {
   "metadata": {
    "ExecuteTime": {
     "end_time": "2025-05-10T22:22:29.814876Z",
     "start_time": "2025-05-10T22:22:29.806954Z"
    }
   },
   "cell_type": "code",
   "source": "df.head(3)",
   "id": "e5f12f780c3ef2ac",
   "outputs": [
    {
     "data": {
      "text/plain": [
       "        Date    Shift Machine ID Component Type Batch ID  Flatness (μm)  \\\n",
       "0 2025-01-01  Shift 1      CMM B       Cylinder  CMM6728          10.00   \n",
       "1 2025-01-01  Shift 1      CMM A       Cylinder  CMM8120           8.30   \n",
       "2 2025-01-01  Shift 1      CMM C          Shaft  CMM7901          15.12   \n",
       "\n",
       "   Circularity (μm)  Cylindricity (μm)  Straightness (μm)  \\\n",
       "0             11.35               3.05               7.35   \n",
       "1             14.07               7.94               6.76   \n",
       "2             12.18              22.88               1.07   \n",
       "\n",
       "   Perpendicularity (μm)  Parallelism (μm)  Position Tolerance (μm) Pass/Fail  \n",
       "0                  20.43             14.25                    28.11      Fail  \n",
       "1                   8.86             13.19                    24.35      Fail  \n",
       "2                   6.08             11.21                    20.66      Fail  "
      ],
      "text/html": [
       "<div>\n",
       "<style scoped>\n",
       "    .dataframe tbody tr th:only-of-type {\n",
       "        vertical-align: middle;\n",
       "    }\n",
       "\n",
       "    .dataframe tbody tr th {\n",
       "        vertical-align: top;\n",
       "    }\n",
       "\n",
       "    .dataframe thead th {\n",
       "        text-align: right;\n",
       "    }\n",
       "</style>\n",
       "<table border=\"1\" class=\"dataframe\">\n",
       "  <thead>\n",
       "    <tr style=\"text-align: right;\">\n",
       "      <th></th>\n",
       "      <th>Date</th>\n",
       "      <th>Shift</th>\n",
       "      <th>Machine ID</th>\n",
       "      <th>Component Type</th>\n",
       "      <th>Batch ID</th>\n",
       "      <th>Flatness (μm)</th>\n",
       "      <th>Circularity (μm)</th>\n",
       "      <th>Cylindricity (μm)</th>\n",
       "      <th>Straightness (μm)</th>\n",
       "      <th>Perpendicularity (μm)</th>\n",
       "      <th>Parallelism (μm)</th>\n",
       "      <th>Position Tolerance (μm)</th>\n",
       "      <th>Pass/Fail</th>\n",
       "    </tr>\n",
       "  </thead>\n",
       "  <tbody>\n",
       "    <tr>\n",
       "      <th>0</th>\n",
       "      <td>2025-01-01</td>\n",
       "      <td>Shift 1</td>\n",
       "      <td>CMM B</td>\n",
       "      <td>Cylinder</td>\n",
       "      <td>CMM6728</td>\n",
       "      <td>10.00</td>\n",
       "      <td>11.35</td>\n",
       "      <td>3.05</td>\n",
       "      <td>7.35</td>\n",
       "      <td>20.43</td>\n",
       "      <td>14.25</td>\n",
       "      <td>28.11</td>\n",
       "      <td>Fail</td>\n",
       "    </tr>\n",
       "    <tr>\n",
       "      <th>1</th>\n",
       "      <td>2025-01-01</td>\n",
       "      <td>Shift 1</td>\n",
       "      <td>CMM A</td>\n",
       "      <td>Cylinder</td>\n",
       "      <td>CMM8120</td>\n",
       "      <td>8.30</td>\n",
       "      <td>14.07</td>\n",
       "      <td>7.94</td>\n",
       "      <td>6.76</td>\n",
       "      <td>8.86</td>\n",
       "      <td>13.19</td>\n",
       "      <td>24.35</td>\n",
       "      <td>Fail</td>\n",
       "    </tr>\n",
       "    <tr>\n",
       "      <th>2</th>\n",
       "      <td>2025-01-01</td>\n",
       "      <td>Shift 1</td>\n",
       "      <td>CMM C</td>\n",
       "      <td>Shaft</td>\n",
       "      <td>CMM7901</td>\n",
       "      <td>15.12</td>\n",
       "      <td>12.18</td>\n",
       "      <td>22.88</td>\n",
       "      <td>1.07</td>\n",
       "      <td>6.08</td>\n",
       "      <td>11.21</td>\n",
       "      <td>20.66</td>\n",
       "      <td>Fail</td>\n",
       "    </tr>\n",
       "  </tbody>\n",
       "</table>\n",
       "</div>"
      ]
     },
     "execution_count": 498,
     "metadata": {},
     "output_type": "execute_result"
    }
   ],
   "execution_count": 498
  },
  {
   "metadata": {
    "ExecuteTime": {
     "end_time": "2025-05-10T22:22:30.026079Z",
     "start_time": "2025-05-10T22:22:30.023429Z"
    }
   },
   "cell_type": "code",
   "source": "mask = df['Shift'] == 'Shift 2'",
   "id": "1ca8cedeba82701e",
   "outputs": [],
   "execution_count": 499
  },
  {
   "metadata": {
    "ExecuteTime": {
     "end_time": "2025-05-10T22:22:30.084234Z",
     "start_time": "2025-05-10T22:22:30.081372Z"
    }
   },
   "cell_type": "code",
   "source": "shift_2 = df[mask]",
   "id": "d0046b9375a4d68b",
   "outputs": [],
   "execution_count": 500
  },
  {
   "metadata": {
    "ExecuteTime": {
     "end_time": "2025-05-10T22:22:30.231811Z",
     "start_time": "2025-05-10T22:22:30.224952Z"
    }
   },
   "cell_type": "code",
   "source": "shift_2.to_json('JSON/shift_2.json', orient='records')",
   "id": "d0fdafcb9df3869b",
   "outputs": [],
   "execution_count": 501
  },
  {
   "metadata": {},
   "cell_type": "markdown",
   "source": [
    "### **Exercise 10: Pivot Table of Measurements**\n",
    "\n",
    "**Problem:** Create a pivot table with `Date` as index, `Component Type` as columns, and average `Flatness`.\n",
    "\n",
    "**Purpose:** Apply pivoting to analyze measurement distributions."
   ],
   "id": "944e4952d66dd03f"
  },
  {
   "metadata": {
    "ExecuteTime": {
     "end_time": "2025-05-10T22:22:30.330118Z",
     "start_time": "2025-05-10T22:22:30.314680Z"
    }
   },
   "cell_type": "code",
   "source": "df = pd.read_json('JSON/cmm_measurement_365day_dataset.json')",
   "id": "6913ead2052e8569",
   "outputs": [],
   "execution_count": 502
  },
  {
   "metadata": {
    "ExecuteTime": {
     "end_time": "2025-05-10T22:22:30.558614Z",
     "start_time": "2025-05-10T22:22:30.553905Z"
    }
   },
   "cell_type": "code",
   "source": "df['Date'] = pd.to_datetime(df['Date'])",
   "id": "7e5ba844f8444416",
   "outputs": [],
   "execution_count": 503
  },
  {
   "metadata": {
    "ExecuteTime": {
     "end_time": "2025-05-10T22:22:30.682969Z",
     "start_time": "2025-05-10T22:22:30.677056Z"
    }
   },
   "cell_type": "code",
   "source": [
    "pivot = pd.pivot_table(\n",
    "    df,\n",
    "    index='Date',\n",
    "    columns='Component Type',\n",
    "    values='Flatness (μm)',\n",
    "    aggfunc='mean'\n",
    ")"
   ],
   "id": "f6ba90c5023e5a42",
   "outputs": [],
   "execution_count": 504
  },
  {
   "metadata": {
    "ExecuteTime": {
     "end_time": "2025-05-10T22:22:30.837925Z",
     "start_time": "2025-05-10T22:22:30.831370Z"
    }
   },
   "cell_type": "code",
   "source": "pivot.head()",
   "id": "265f423c50f41aa6",
   "outputs": [
    {
     "data": {
      "text/plain": [
       "Component Type  Bracket  Bushing  Cover Plate  Cylinder   Disc   Shaft\n",
       "Date                                                                  \n",
       "2025-01-01          NaN      NaN        3.030      9.15    NaN   7.260\n",
       "2025-01-02       17.370    13.74        7.010     15.92    NaN     NaN\n",
       "2025-01-03          NaN      NaN        7.570      8.45  17.42   6.240\n",
       "2025-01-04          NaN      NaN       15.505      9.42    NaN   6.410\n",
       "2025-01-05       14.525      NaN       10.940       NaN  16.14  11.645"
      ],
      "text/html": [
       "<div>\n",
       "<style scoped>\n",
       "    .dataframe tbody tr th:only-of-type {\n",
       "        vertical-align: middle;\n",
       "    }\n",
       "\n",
       "    .dataframe tbody tr th {\n",
       "        vertical-align: top;\n",
       "    }\n",
       "\n",
       "    .dataframe thead th {\n",
       "        text-align: right;\n",
       "    }\n",
       "</style>\n",
       "<table border=\"1\" class=\"dataframe\">\n",
       "  <thead>\n",
       "    <tr style=\"text-align: right;\">\n",
       "      <th>Component Type</th>\n",
       "      <th>Bracket</th>\n",
       "      <th>Bushing</th>\n",
       "      <th>Cover Plate</th>\n",
       "      <th>Cylinder</th>\n",
       "      <th>Disc</th>\n",
       "      <th>Shaft</th>\n",
       "    </tr>\n",
       "    <tr>\n",
       "      <th>Date</th>\n",
       "      <th></th>\n",
       "      <th></th>\n",
       "      <th></th>\n",
       "      <th></th>\n",
       "      <th></th>\n",
       "      <th></th>\n",
       "    </tr>\n",
       "  </thead>\n",
       "  <tbody>\n",
       "    <tr>\n",
       "      <th>2025-01-01</th>\n",
       "      <td>NaN</td>\n",
       "      <td>NaN</td>\n",
       "      <td>3.030</td>\n",
       "      <td>9.15</td>\n",
       "      <td>NaN</td>\n",
       "      <td>7.260</td>\n",
       "    </tr>\n",
       "    <tr>\n",
       "      <th>2025-01-02</th>\n",
       "      <td>17.370</td>\n",
       "      <td>13.74</td>\n",
       "      <td>7.010</td>\n",
       "      <td>15.92</td>\n",
       "      <td>NaN</td>\n",
       "      <td>NaN</td>\n",
       "    </tr>\n",
       "    <tr>\n",
       "      <th>2025-01-03</th>\n",
       "      <td>NaN</td>\n",
       "      <td>NaN</td>\n",
       "      <td>7.570</td>\n",
       "      <td>8.45</td>\n",
       "      <td>17.42</td>\n",
       "      <td>6.240</td>\n",
       "    </tr>\n",
       "    <tr>\n",
       "      <th>2025-01-04</th>\n",
       "      <td>NaN</td>\n",
       "      <td>NaN</td>\n",
       "      <td>15.505</td>\n",
       "      <td>9.42</td>\n",
       "      <td>NaN</td>\n",
       "      <td>6.410</td>\n",
       "    </tr>\n",
       "    <tr>\n",
       "      <th>2025-01-05</th>\n",
       "      <td>14.525</td>\n",
       "      <td>NaN</td>\n",
       "      <td>10.940</td>\n",
       "      <td>NaN</td>\n",
       "      <td>16.14</td>\n",
       "      <td>11.645</td>\n",
       "    </tr>\n",
       "  </tbody>\n",
       "</table>\n",
       "</div>"
      ]
     },
     "execution_count": 505,
     "metadata": {},
     "output_type": "execute_result"
    }
   ],
   "execution_count": 505
  },
  {
   "metadata": {},
   "cell_type": "markdown",
   "source": [
    "## Section B: XML Data Handling\n",
    "\n",
    "### **Exercise 11: Load XML and Compare**\n",
    "\n",
    "**Problem:** Parse the XML file and compare its structure with the JSON.\n",
    "\n",
    "**Purpose:** Practice reading XML using `ElementTree` or `lxml`."
   ],
   "id": "c0b3d2e47ec0a7c3"
  },
  {
   "metadata": {
    "ExecuteTime": {
     "end_time": "2025-05-10T22:22:30.938761Z",
     "start_time": "2025-05-10T22:22:30.934321Z"
    }
   },
   "cell_type": "code",
   "source": "import xml.etree.ElementTree as ET",
   "id": "e56ca4fb8b439bff",
   "outputs": [],
   "execution_count": 506
  },
  {
   "metadata": {
    "ExecuteTime": {
     "end_time": "2025-05-10T22:22:31.075704Z",
     "start_time": "2025-05-10T22:22:31.054895Z"
    }
   },
   "cell_type": "code",
   "source": "tree = ET.parse('XML/cmm_measurement_365day_dataset.xml')",
   "id": "7983eeed320a6ce1",
   "outputs": [],
   "execution_count": 507
  },
  {
   "metadata": {
    "ExecuteTime": {
     "end_time": "2025-05-10T22:22:31.204761Z",
     "start_time": "2025-05-10T22:22:31.195539Z"
    }
   },
   "cell_type": "code",
   "source": "root = tree.getroot()",
   "id": "d39cdd0023bd6e6",
   "outputs": [],
   "execution_count": 508
  },
  {
   "metadata": {
    "ExecuteTime": {
     "end_time": "2025-05-10T22:22:31.382260Z",
     "start_time": "2025-05-10T22:22:31.379120Z"
    }
   },
   "cell_type": "code",
   "source": [
    "for i, measurement in enumerate(root.findall('Measurement')):\n",
    "    for child in measurement:\n",
    "        print(child.tag, ':', child.text)\n",
    "    break"
   ],
   "id": "eafa4a7d3ef9a834",
   "outputs": [
    {
     "name": "stdout",
     "output_type": "stream",
     "text": [
      "index : 0\n",
      "Date : 2025-01-01\n",
      "Shift : Shift 1\n",
      "Machine_ID : CMM B\n",
      "Component_Type : Cylinder\n",
      "Batch_ID : CMM6728\n",
      "Flatness__μm_ : 10.0\n",
      "Circularity__μm_ : 11.35\n",
      "Cylindricity__μm_ : 3.05\n",
      "Straightness__μm_ : 7.35\n",
      "Perpendicularity__μm_ : 20.43\n",
      "Parallelism__μm_ : 14.25\n",
      "Position_Tolerance__μm_ : 28.11\n",
      "Pass_Fail : Fail\n"
     ]
    }
   ],
   "execution_count": 509
  },
  {
   "metadata": {},
   "cell_type": "markdown",
   "source": [
    "### Comparison: XML vs JSON\n",
    "\n",
    "| Feature            | JSON                              | XML                                |\n",
    "| ------------------ | --------------------------------- | ---------------------------------- |\n",
    "| Format             | Key-value pairs (dictionary-like) | Tag-based hierarchical structure   |\n",
    "| File Root          | A list or dictionary              | `<Measurements>` tag with children |\n",
    "| Entry Structure    | Each item is a flat dict          | Each `<Measurement>` is a node     |\n",
    "| Parsing Method     | `pd.read_json()` or `json.load()` | `ElementTree` or `lxml.etree`      |\n",
    "| Pandas Integration | Easy and direct                   | Needs conversion from XML elements |\n"
   ],
   "id": "670412b451f2624e"
  },
  {
   "metadata": {
    "ExecuteTime": {
     "end_time": "2025-05-10T22:22:31.474235Z",
     "start_time": "2025-05-10T22:22:31.467545Z"
    }
   },
   "cell_type": "code",
   "source": [
    "# Optional: Convert XML to DataFrame\n",
    "data = []\n",
    "for measurement in root.findall('Measurement'):\n",
    "    entry = {child.tag: child.text for child in measurement}\n",
    "    data.append(entry)"
   ],
   "id": "d642ea2c1913038d",
   "outputs": [],
   "execution_count": 510
  },
  {
   "metadata": {
    "ExecuteTime": {
     "end_time": "2025-05-10T22:22:31.580043Z",
     "start_time": "2025-05-10T22:22:31.575245Z"
    }
   },
   "cell_type": "code",
   "source": "df_xml = pd.DataFrame(data)",
   "id": "2960558ac9c8992a",
   "outputs": [],
   "execution_count": 511
  },
  {
   "metadata": {
    "ExecuteTime": {
     "end_time": "2025-05-10T22:22:31.681372Z",
     "start_time": "2025-05-10T22:22:31.674638Z"
    }
   },
   "cell_type": "code",
   "source": "df_xml.head()",
   "id": "b999a6c82b0445cd",
   "outputs": [
    {
     "data": {
      "text/plain": [
       "  index        Date    Shift Machine_ID Component_Type Batch_ID Flatness__μm_  \\\n",
       "0     0  2025-01-01  Shift 1      CMM B       Cylinder  CMM6728          10.0   \n",
       "1     1  2025-01-01  Shift 1      CMM A       Cylinder  CMM8120           8.3   \n",
       "2     2  2025-01-01  Shift 1      CMM C          Shaft  CMM7901         15.12   \n",
       "3     3  2025-01-01  Shift 2      CMM A          Shaft  CMM9522          2.56   \n",
       "4     4  2025-01-01  Shift 2      CMM A          Shaft  CMM7033           4.1   \n",
       "\n",
       "  Circularity__μm_ Cylindricity__μm_ Straightness__μm_ Perpendicularity__μm_  \\\n",
       "0            11.35              3.05              7.35                 20.43   \n",
       "1            14.07              7.94              6.76                  8.86   \n",
       "2            12.18             22.88              1.07                  6.08   \n",
       "3             4.17             21.14              6.36                  9.22   \n",
       "4             3.86              16.5              1.77                 21.66   \n",
       "\n",
       "  Parallelism__μm_ Position_Tolerance__μm_ Pass_Fail  \n",
       "0            14.25                   28.11      Fail  \n",
       "1            13.19                   24.35      Fail  \n",
       "2            11.21                   20.66      Fail  \n",
       "3            12.48                   20.86      Pass  \n",
       "4             4.24                   12.04      Pass  "
      ],
      "text/html": [
       "<div>\n",
       "<style scoped>\n",
       "    .dataframe tbody tr th:only-of-type {\n",
       "        vertical-align: middle;\n",
       "    }\n",
       "\n",
       "    .dataframe tbody tr th {\n",
       "        vertical-align: top;\n",
       "    }\n",
       "\n",
       "    .dataframe thead th {\n",
       "        text-align: right;\n",
       "    }\n",
       "</style>\n",
       "<table border=\"1\" class=\"dataframe\">\n",
       "  <thead>\n",
       "    <tr style=\"text-align: right;\">\n",
       "      <th></th>\n",
       "      <th>index</th>\n",
       "      <th>Date</th>\n",
       "      <th>Shift</th>\n",
       "      <th>Machine_ID</th>\n",
       "      <th>Component_Type</th>\n",
       "      <th>Batch_ID</th>\n",
       "      <th>Flatness__μm_</th>\n",
       "      <th>Circularity__μm_</th>\n",
       "      <th>Cylindricity__μm_</th>\n",
       "      <th>Straightness__μm_</th>\n",
       "      <th>Perpendicularity__μm_</th>\n",
       "      <th>Parallelism__μm_</th>\n",
       "      <th>Position_Tolerance__μm_</th>\n",
       "      <th>Pass_Fail</th>\n",
       "    </tr>\n",
       "  </thead>\n",
       "  <tbody>\n",
       "    <tr>\n",
       "      <th>0</th>\n",
       "      <td>0</td>\n",
       "      <td>2025-01-01</td>\n",
       "      <td>Shift 1</td>\n",
       "      <td>CMM B</td>\n",
       "      <td>Cylinder</td>\n",
       "      <td>CMM6728</td>\n",
       "      <td>10.0</td>\n",
       "      <td>11.35</td>\n",
       "      <td>3.05</td>\n",
       "      <td>7.35</td>\n",
       "      <td>20.43</td>\n",
       "      <td>14.25</td>\n",
       "      <td>28.11</td>\n",
       "      <td>Fail</td>\n",
       "    </tr>\n",
       "    <tr>\n",
       "      <th>1</th>\n",
       "      <td>1</td>\n",
       "      <td>2025-01-01</td>\n",
       "      <td>Shift 1</td>\n",
       "      <td>CMM A</td>\n",
       "      <td>Cylinder</td>\n",
       "      <td>CMM8120</td>\n",
       "      <td>8.3</td>\n",
       "      <td>14.07</td>\n",
       "      <td>7.94</td>\n",
       "      <td>6.76</td>\n",
       "      <td>8.86</td>\n",
       "      <td>13.19</td>\n",
       "      <td>24.35</td>\n",
       "      <td>Fail</td>\n",
       "    </tr>\n",
       "    <tr>\n",
       "      <th>2</th>\n",
       "      <td>2</td>\n",
       "      <td>2025-01-01</td>\n",
       "      <td>Shift 1</td>\n",
       "      <td>CMM C</td>\n",
       "      <td>Shaft</td>\n",
       "      <td>CMM7901</td>\n",
       "      <td>15.12</td>\n",
       "      <td>12.18</td>\n",
       "      <td>22.88</td>\n",
       "      <td>1.07</td>\n",
       "      <td>6.08</td>\n",
       "      <td>11.21</td>\n",
       "      <td>20.66</td>\n",
       "      <td>Fail</td>\n",
       "    </tr>\n",
       "    <tr>\n",
       "      <th>3</th>\n",
       "      <td>3</td>\n",
       "      <td>2025-01-01</td>\n",
       "      <td>Shift 2</td>\n",
       "      <td>CMM A</td>\n",
       "      <td>Shaft</td>\n",
       "      <td>CMM9522</td>\n",
       "      <td>2.56</td>\n",
       "      <td>4.17</td>\n",
       "      <td>21.14</td>\n",
       "      <td>6.36</td>\n",
       "      <td>9.22</td>\n",
       "      <td>12.48</td>\n",
       "      <td>20.86</td>\n",
       "      <td>Pass</td>\n",
       "    </tr>\n",
       "    <tr>\n",
       "      <th>4</th>\n",
       "      <td>4</td>\n",
       "      <td>2025-01-01</td>\n",
       "      <td>Shift 2</td>\n",
       "      <td>CMM A</td>\n",
       "      <td>Shaft</td>\n",
       "      <td>CMM7033</td>\n",
       "      <td>4.1</td>\n",
       "      <td>3.86</td>\n",
       "      <td>16.5</td>\n",
       "      <td>1.77</td>\n",
       "      <td>21.66</td>\n",
       "      <td>4.24</td>\n",
       "      <td>12.04</td>\n",
       "      <td>Pass</td>\n",
       "    </tr>\n",
       "  </tbody>\n",
       "</table>\n",
       "</div>"
      ]
     },
     "execution_count": 512,
     "metadata": {},
     "output_type": "execute_result"
    }
   ],
   "execution_count": 512
  },
  {
   "metadata": {},
   "cell_type": "markdown",
   "source": [
    "### **Exercise 12: XML to DataFrame**\n",
    "\n",
    "**Problem:** Convert the `<Measurement>` tags to a pandas DataFrame.\n",
    "\n",
    "**Purpose:** Learn to extract values from XML nodes into a usable structure."
   ],
   "id": "59e55c0ae4aa6d9d"
  },
  {
   "metadata": {
    "ExecuteTime": {
     "end_time": "2025-05-10T22:22:31.812653Z",
     "start_time": "2025-05-10T22:22:31.791884Z"
    }
   },
   "cell_type": "code",
   "source": "tree = ET.parse('XML/cmm_measurement_365day_dataset.xml')",
   "id": "a10a72e2a6d32901",
   "outputs": [],
   "execution_count": 513
  },
  {
   "metadata": {
    "ExecuteTime": {
     "end_time": "2025-05-10T22:22:31.908088Z",
     "start_time": "2025-05-10T22:22:31.903787Z"
    }
   },
   "cell_type": "code",
   "source": "root = tree.getroot()",
   "id": "443008866cb9380f",
   "outputs": [],
   "execution_count": 514
  },
  {
   "metadata": {
    "ExecuteTime": {
     "end_time": "2025-05-10T22:22:32.054572Z",
     "start_time": "2025-05-10T22:22:32.048076Z"
    }
   },
   "cell_type": "code",
   "source": [
    "data = []\n",
    "for measurement in root.findall('Measurement'):\n",
    "    entry = {child.tag: child.text for child in measurement}\n",
    "    data.append(entry)"
   ],
   "id": "224882c21bf4fbdf",
   "outputs": [],
   "execution_count": 515
  },
  {
   "metadata": {
    "ExecuteTime": {
     "end_time": "2025-05-10T22:22:32.212410Z",
     "start_time": "2025-05-10T22:22:32.207453Z"
    }
   },
   "cell_type": "code",
   "source": "df_xml = pd.DataFrame(data)",
   "id": "af70b1aac2ac286d",
   "outputs": [],
   "execution_count": 516
  },
  {
   "metadata": {
    "ExecuteTime": {
     "end_time": "2025-05-10T22:22:32.407894Z",
     "start_time": "2025-05-10T22:22:32.400374Z"
    }
   },
   "cell_type": "code",
   "source": "df_xml.head()",
   "id": "544cbe7b6b8fd358",
   "outputs": [
    {
     "data": {
      "text/plain": [
       "  index        Date    Shift Machine_ID Component_Type Batch_ID Flatness__μm_  \\\n",
       "0     0  2025-01-01  Shift 1      CMM B       Cylinder  CMM6728          10.0   \n",
       "1     1  2025-01-01  Shift 1      CMM A       Cylinder  CMM8120           8.3   \n",
       "2     2  2025-01-01  Shift 1      CMM C          Shaft  CMM7901         15.12   \n",
       "3     3  2025-01-01  Shift 2      CMM A          Shaft  CMM9522          2.56   \n",
       "4     4  2025-01-01  Shift 2      CMM A          Shaft  CMM7033           4.1   \n",
       "\n",
       "  Circularity__μm_ Cylindricity__μm_ Straightness__μm_ Perpendicularity__μm_  \\\n",
       "0            11.35              3.05              7.35                 20.43   \n",
       "1            14.07              7.94              6.76                  8.86   \n",
       "2            12.18             22.88              1.07                  6.08   \n",
       "3             4.17             21.14              6.36                  9.22   \n",
       "4             3.86              16.5              1.77                 21.66   \n",
       "\n",
       "  Parallelism__μm_ Position_Tolerance__μm_ Pass_Fail  \n",
       "0            14.25                   28.11      Fail  \n",
       "1            13.19                   24.35      Fail  \n",
       "2            11.21                   20.66      Fail  \n",
       "3            12.48                   20.86      Pass  \n",
       "4             4.24                   12.04      Pass  "
      ],
      "text/html": [
       "<div>\n",
       "<style scoped>\n",
       "    .dataframe tbody tr th:only-of-type {\n",
       "        vertical-align: middle;\n",
       "    }\n",
       "\n",
       "    .dataframe tbody tr th {\n",
       "        vertical-align: top;\n",
       "    }\n",
       "\n",
       "    .dataframe thead th {\n",
       "        text-align: right;\n",
       "    }\n",
       "</style>\n",
       "<table border=\"1\" class=\"dataframe\">\n",
       "  <thead>\n",
       "    <tr style=\"text-align: right;\">\n",
       "      <th></th>\n",
       "      <th>index</th>\n",
       "      <th>Date</th>\n",
       "      <th>Shift</th>\n",
       "      <th>Machine_ID</th>\n",
       "      <th>Component_Type</th>\n",
       "      <th>Batch_ID</th>\n",
       "      <th>Flatness__μm_</th>\n",
       "      <th>Circularity__μm_</th>\n",
       "      <th>Cylindricity__μm_</th>\n",
       "      <th>Straightness__μm_</th>\n",
       "      <th>Perpendicularity__μm_</th>\n",
       "      <th>Parallelism__μm_</th>\n",
       "      <th>Position_Tolerance__μm_</th>\n",
       "      <th>Pass_Fail</th>\n",
       "    </tr>\n",
       "  </thead>\n",
       "  <tbody>\n",
       "    <tr>\n",
       "      <th>0</th>\n",
       "      <td>0</td>\n",
       "      <td>2025-01-01</td>\n",
       "      <td>Shift 1</td>\n",
       "      <td>CMM B</td>\n",
       "      <td>Cylinder</td>\n",
       "      <td>CMM6728</td>\n",
       "      <td>10.0</td>\n",
       "      <td>11.35</td>\n",
       "      <td>3.05</td>\n",
       "      <td>7.35</td>\n",
       "      <td>20.43</td>\n",
       "      <td>14.25</td>\n",
       "      <td>28.11</td>\n",
       "      <td>Fail</td>\n",
       "    </tr>\n",
       "    <tr>\n",
       "      <th>1</th>\n",
       "      <td>1</td>\n",
       "      <td>2025-01-01</td>\n",
       "      <td>Shift 1</td>\n",
       "      <td>CMM A</td>\n",
       "      <td>Cylinder</td>\n",
       "      <td>CMM8120</td>\n",
       "      <td>8.3</td>\n",
       "      <td>14.07</td>\n",
       "      <td>7.94</td>\n",
       "      <td>6.76</td>\n",
       "      <td>8.86</td>\n",
       "      <td>13.19</td>\n",
       "      <td>24.35</td>\n",
       "      <td>Fail</td>\n",
       "    </tr>\n",
       "    <tr>\n",
       "      <th>2</th>\n",
       "      <td>2</td>\n",
       "      <td>2025-01-01</td>\n",
       "      <td>Shift 1</td>\n",
       "      <td>CMM C</td>\n",
       "      <td>Shaft</td>\n",
       "      <td>CMM7901</td>\n",
       "      <td>15.12</td>\n",
       "      <td>12.18</td>\n",
       "      <td>22.88</td>\n",
       "      <td>1.07</td>\n",
       "      <td>6.08</td>\n",
       "      <td>11.21</td>\n",
       "      <td>20.66</td>\n",
       "      <td>Fail</td>\n",
       "    </tr>\n",
       "    <tr>\n",
       "      <th>3</th>\n",
       "      <td>3</td>\n",
       "      <td>2025-01-01</td>\n",
       "      <td>Shift 2</td>\n",
       "      <td>CMM A</td>\n",
       "      <td>Shaft</td>\n",
       "      <td>CMM9522</td>\n",
       "      <td>2.56</td>\n",
       "      <td>4.17</td>\n",
       "      <td>21.14</td>\n",
       "      <td>6.36</td>\n",
       "      <td>9.22</td>\n",
       "      <td>12.48</td>\n",
       "      <td>20.86</td>\n",
       "      <td>Pass</td>\n",
       "    </tr>\n",
       "    <tr>\n",
       "      <th>4</th>\n",
       "      <td>4</td>\n",
       "      <td>2025-01-01</td>\n",
       "      <td>Shift 2</td>\n",
       "      <td>CMM A</td>\n",
       "      <td>Shaft</td>\n",
       "      <td>CMM7033</td>\n",
       "      <td>4.1</td>\n",
       "      <td>3.86</td>\n",
       "      <td>16.5</td>\n",
       "      <td>1.77</td>\n",
       "      <td>21.66</td>\n",
       "      <td>4.24</td>\n",
       "      <td>12.04</td>\n",
       "      <td>Pass</td>\n",
       "    </tr>\n",
       "  </tbody>\n",
       "</table>\n",
       "</div>"
      ]
     },
     "execution_count": 517,
     "metadata": {},
     "output_type": "execute_result"
    }
   ],
   "execution_count": 517
  },
  {
   "metadata": {},
   "cell_type": "markdown",
   "source": [
    "### **Exercise 13: Measurement Distribution**\n",
    "\n",
    "**Problem:** Plot histogram for `Flatness`, `Cylindricity`, and `Position Tolerance`.\n",
    "    \n",
    "**Purpose:** Visual analysis of measurements."
   ],
   "id": "349efb9061c8dea1"
  },
  {
   "metadata": {
    "ExecuteTime": {
     "end_time": "2025-05-10T22:22:32.552215Z",
     "start_time": "2025-05-10T22:22:32.549302Z"
    }
   },
   "cell_type": "code",
   "source": "cols_to_float = ['Flatness__μm_', 'Cylindricity__μm_', 'Position_Tolerance__μm_']",
   "id": "ea012c320a810a43",
   "outputs": [],
   "execution_count": 518
  },
  {
   "metadata": {
    "ExecuteTime": {
     "end_time": "2025-05-10T22:22:32.621251Z",
     "start_time": "2025-05-10T22:22:32.617330Z"
    }
   },
   "cell_type": "code",
   "source": "df_xml = df_xml[cols_to_float].astype(float)",
   "id": "8f14a04fe96fdaf6",
   "outputs": [],
   "execution_count": 519
  },
  {
   "metadata": {
    "ExecuteTime": {
     "end_time": "2025-05-10T22:22:33.195284Z",
     "start_time": "2025-05-10T22:22:32.810217Z"
    }
   },
   "cell_type": "code",
   "source": [
    "plt.figure(figsize=(15, 4))\n",
    "\n",
    "# Flatness\n",
    "plt.subplot(1, 3, 1)\n",
    "df_xml['Flatness__μm_'].hist(bins=20, color='skyblue', edgecolor='black')\n",
    "plt.title('Flatness Distribution')\n",
    "plt.xlabel('Flatness (μm)')\n",
    "plt.ylabel('Frequency')\n",
    "\n",
    "# Cylindricity\n",
    "plt.subplot(1, 3, 2)\n",
    "df_xml['Cylindricity__μm_'].hist(bins=20, color='salmon', edgecolor='black')\n",
    "plt.title('Cylindricity Distribution')\n",
    "plt.xlabel('Cylindricity (μm)')\n",
    "\n",
    "# Position Tolerance\n",
    "plt.subplot(1, 3, 3)\n",
    "df_xml['Position_Tolerance__μm_'].hist(bins=20, color='lightgreen', edgecolor='black')\n",
    "plt.title('Position Tolerance Distribution')\n",
    "plt.xlabel('Position Tolerance (μm)')\n",
    "\n",
    "plt.tight_layout()\n",
    "plt.show()\n"
   ],
   "id": "13ae1f4035bcf1e6",
   "outputs": [
    {
     "data": {
      "text/plain": [
       "<Figure size 1500x400 with 3 Axes>"
      ],
      "image/png": "[encoded data removed]"
     },
     "metadata": {},
     "output_type": "display_data"
    }
   ],
   "execution_count": 520
  },
  {
   "metadata": {},
   "cell_type": "markdown",
   "source": [
    "### Interpretation Tips\n",
    "- Bell-shaped curve? Suggests normally distributed process.\n",
    "\n",
    "- Skewed? Could indicate measurement bias or machine/tool issues.\n",
    "\n",
    "- Long tails or multiple peaks? May indicate variation between shifts, setups, or component types."
   ],
   "id": "24c0375e3ea922cf"
  },
  {
   "metadata": {},
   "cell_type": "markdown",
   "source": [
    "### **Exercise 14: Max/Min by Component Type**\n",
    "\n",
    "**Problem:** Find max and min `Cylindricity` for each `Component Type`.\n",
    "    \n",
    "**Purpose:** Aggregation and comparison.\n"
   ],
   "id": "65b5d38b8d47e7bc"
  },
  {
   "metadata": {
    "ExecuteTime": {
     "end_time": "2025-05-10T22:22:33.199122Z",
     "start_time": "2025-05-10T22:22:33.196559Z"
    }
   },
   "cell_type": "code",
   "source": "df_xml['Cylindricity__μm_'] = df['Cylindricity (μm)'].astype(float)",
   "id": "14700b196015fe3c",
   "outputs": [],
   "execution_count": 521
  },
  {
   "metadata": {
    "ExecuteTime": {
     "end_time": "2025-05-10T22:22:33.203533Z",
     "start_time": "2025-05-10T22:22:33.199926Z"
    }
   },
   "cell_type": "code",
   "source": "summary = df.groupby('Component Type')['Cylindricity (μm)'].agg(['max', 'min'])",
   "id": "b34393504a5ce5f3",
   "outputs": [],
   "execution_count": 522
  },
  {
   "metadata": {
    "ExecuteTime": {
     "end_time": "2025-05-10T22:22:33.206520Z",
     "start_time": "2025-05-10T22:22:33.204442Z"
    }
   },
   "cell_type": "code",
   "source": "summary.columns = ['Max Cylindricity (μm)', 'Min Cylindricity (μm)']",
   "id": "d17bc1093d82ee01",
   "outputs": [],
   "execution_count": 523
  },
  {
   "metadata": {
    "ExecuteTime": {
     "end_time": "2025-05-10T22:22:33.303290Z",
     "start_time": "2025-05-10T22:22:33.298167Z"
    }
   },
   "cell_type": "code",
   "source": "summary.head()",
   "id": "a014bd14de2093dc",
   "outputs": [
    {
     "data": {
      "text/plain": [
       "                Max Cylindricity (μm)  Min Cylindricity (μm)\n",
       "Component Type                                              \n",
       "Bracket                         22.44                   1.34\n",
       "Bushing                         22.68                   2.01\n",
       "Cover Plate                     24.21                   2.15\n",
       "Cylinder                        24.53                   1.30\n",
       "Disc                            23.02                   1.16"
      ],
      "text/html": [
       "<div>\n",
       "<style scoped>\n",
       "    .dataframe tbody tr th:only-of-type {\n",
       "        vertical-align: middle;\n",
       "    }\n",
       "\n",
       "    .dataframe tbody tr th {\n",
       "        vertical-align: top;\n",
       "    }\n",
       "\n",
       "    .dataframe thead th {\n",
       "        text-align: right;\n",
       "    }\n",
       "</style>\n",
       "<table border=\"1\" class=\"dataframe\">\n",
       "  <thead>\n",
       "    <tr style=\"text-align: right;\">\n",
       "      <th></th>\n",
       "      <th>Max Cylindricity (μm)</th>\n",
       "      <th>Min Cylindricity (μm)</th>\n",
       "    </tr>\n",
       "    <tr>\n",
       "      <th>Component Type</th>\n",
       "      <th></th>\n",
       "      <th></th>\n",
       "    </tr>\n",
       "  </thead>\n",
       "  <tbody>\n",
       "    <tr>\n",
       "      <th>Bracket</th>\n",
       "      <td>22.44</td>\n",
       "      <td>1.34</td>\n",
       "    </tr>\n",
       "    <tr>\n",
       "      <th>Bushing</th>\n",
       "      <td>22.68</td>\n",
       "      <td>2.01</td>\n",
       "    </tr>\n",
       "    <tr>\n",
       "      <th>Cover Plate</th>\n",
       "      <td>24.21</td>\n",
       "      <td>2.15</td>\n",
       "    </tr>\n",
       "    <tr>\n",
       "      <th>Cylinder</th>\n",
       "      <td>24.53</td>\n",
       "      <td>1.30</td>\n",
       "    </tr>\n",
       "    <tr>\n",
       "      <th>Disc</th>\n",
       "      <td>23.02</td>\n",
       "      <td>1.16</td>\n",
       "    </tr>\n",
       "  </tbody>\n",
       "</table>\n",
       "</div>"
      ]
     },
     "execution_count": 524,
     "metadata": {},
     "output_type": "execute_result"
    }
   ],
   "execution_count": 524
  },
  {
   "metadata": {},
   "cell_type": "markdown",
   "source": [
    "### **Exercise 15: Save to XML**\n",
    "\n",
    "**Problem:** Take filtered data (e.g. only `Pass` results) and write to a new XML file.\n",
    "\n",
    "**Purpose:** Practice creating new XML structures from pandas.\n"
   ],
   "id": "5041ded7b31b5f38"
  },
  {
   "metadata": {
    "ExecuteTime": {
     "end_time": "2025-05-10T22:22:33.554776Z",
     "start_time": "2025-05-10T22:22:33.549136Z"
    }
   },
   "cell_type": "code",
   "source": "df_xml = pd.DataFrame(data)",
   "id": "3e866c25ced9a6e7",
   "outputs": [],
   "execution_count": 525
  },
  {
   "metadata": {
    "ExecuteTime": {
     "end_time": "2025-05-10T22:22:33.672645Z",
     "start_time": "2025-05-10T22:22:33.665985Z"
    }
   },
   "cell_type": "code",
   "source": "df_xml.head()",
   "id": "e2b11f88bbc3ac75",
   "outputs": [
    {
     "data": {
      "text/plain": [
       "  index        Date    Shift Machine_ID Component_Type Batch_ID Flatness__μm_  \\\n",
       "0     0  2025-01-01  Shift 1      CMM B       Cylinder  CMM6728          10.0   \n",
       "1     1  2025-01-01  Shift 1      CMM A       Cylinder  CMM8120           8.3   \n",
       "2     2  2025-01-01  Shift 1      CMM C          Shaft  CMM7901         15.12   \n",
       "3     3  2025-01-01  Shift 2      CMM A          Shaft  CMM9522          2.56   \n",
       "4     4  2025-01-01  Shift 2      CMM A          Shaft  CMM7033           4.1   \n",
       "\n",
       "  Circularity__μm_ Cylindricity__μm_ Straightness__μm_ Perpendicularity__μm_  \\\n",
       "0            11.35              3.05              7.35                 20.43   \n",
       "1            14.07              7.94              6.76                  8.86   \n",
       "2            12.18             22.88              1.07                  6.08   \n",
       "3             4.17             21.14              6.36                  9.22   \n",
       "4             3.86              16.5              1.77                 21.66   \n",
       "\n",
       "  Parallelism__μm_ Position_Tolerance__μm_ Pass_Fail  \n",
       "0            14.25                   28.11      Fail  \n",
       "1            13.19                   24.35      Fail  \n",
       "2            11.21                   20.66      Fail  \n",
       "3            12.48                   20.86      Pass  \n",
       "4             4.24                   12.04      Pass  "
      ],
      "text/html": [
       "<div>\n",
       "<style scoped>\n",
       "    .dataframe tbody tr th:only-of-type {\n",
       "        vertical-align: middle;\n",
       "    }\n",
       "\n",
       "    .dataframe tbody tr th {\n",
       "        vertical-align: top;\n",
       "    }\n",
       "\n",
       "    .dataframe thead th {\n",
       "        text-align: right;\n",
       "    }\n",
       "</style>\n",
       "<table border=\"1\" class=\"dataframe\">\n",
       "  <thead>\n",
       "    <tr style=\"text-align: right;\">\n",
       "      <th></th>\n",
       "      <th>index</th>\n",
       "      <th>Date</th>\n",
       "      <th>Shift</th>\n",
       "      <th>Machine_ID</th>\n",
       "      <th>Component_Type</th>\n",
       "      <th>Batch_ID</th>\n",
       "      <th>Flatness__μm_</th>\n",
       "      <th>Circularity__μm_</th>\n",
       "      <th>Cylindricity__μm_</th>\n",
       "      <th>Straightness__μm_</th>\n",
       "      <th>Perpendicularity__μm_</th>\n",
       "      <th>Parallelism__μm_</th>\n",
       "      <th>Position_Tolerance__μm_</th>\n",
       "      <th>Pass_Fail</th>\n",
       "    </tr>\n",
       "  </thead>\n",
       "  <tbody>\n",
       "    <tr>\n",
       "      <th>0</th>\n",
       "      <td>0</td>\n",
       "      <td>2025-01-01</td>\n",
       "      <td>Shift 1</td>\n",
       "      <td>CMM B</td>\n",
       "      <td>Cylinder</td>\n",
       "      <td>CMM6728</td>\n",
       "      <td>10.0</td>\n",
       "      <td>11.35</td>\n",
       "      <td>3.05</td>\n",
       "      <td>7.35</td>\n",
       "      <td>20.43</td>\n",
       "      <td>14.25</td>\n",
       "      <td>28.11</td>\n",
       "      <td>Fail</td>\n",
       "    </tr>\n",
       "    <tr>\n",
       "      <th>1</th>\n",
       "      <td>1</td>\n",
       "      <td>2025-01-01</td>\n",
       "      <td>Shift 1</td>\n",
       "      <td>CMM A</td>\n",
       "      <td>Cylinder</td>\n",
       "      <td>CMM8120</td>\n",
       "      <td>8.3</td>\n",
       "      <td>14.07</td>\n",
       "      <td>7.94</td>\n",
       "      <td>6.76</td>\n",
       "      <td>8.86</td>\n",
       "      <td>13.19</td>\n",
       "      <td>24.35</td>\n",
       "      <td>Fail</td>\n",
       "    </tr>\n",
       "    <tr>\n",
       "      <th>2</th>\n",
       "      <td>2</td>\n",
       "      <td>2025-01-01</td>\n",
       "      <td>Shift 1</td>\n",
       "      <td>CMM C</td>\n",
       "      <td>Shaft</td>\n",
       "      <td>CMM7901</td>\n",
       "      <td>15.12</td>\n",
       "      <td>12.18</td>\n",
       "      <td>22.88</td>\n",
       "      <td>1.07</td>\n",
       "      <td>6.08</td>\n",
       "      <td>11.21</td>\n",
       "      <td>20.66</td>\n",
       "      <td>Fail</td>\n",
       "    </tr>\n",
       "    <tr>\n",
       "      <th>3</th>\n",
       "      <td>3</td>\n",
       "      <td>2025-01-01</td>\n",
       "      <td>Shift 2</td>\n",
       "      <td>CMM A</td>\n",
       "      <td>Shaft</td>\n",
       "      <td>CMM9522</td>\n",
       "      <td>2.56</td>\n",
       "      <td>4.17</td>\n",
       "      <td>21.14</td>\n",
       "      <td>6.36</td>\n",
       "      <td>9.22</td>\n",
       "      <td>12.48</td>\n",
       "      <td>20.86</td>\n",
       "      <td>Pass</td>\n",
       "    </tr>\n",
       "    <tr>\n",
       "      <th>4</th>\n",
       "      <td>4</td>\n",
       "      <td>2025-01-01</td>\n",
       "      <td>Shift 2</td>\n",
       "      <td>CMM A</td>\n",
       "      <td>Shaft</td>\n",
       "      <td>CMM7033</td>\n",
       "      <td>4.1</td>\n",
       "      <td>3.86</td>\n",
       "      <td>16.5</td>\n",
       "      <td>1.77</td>\n",
       "      <td>21.66</td>\n",
       "      <td>4.24</td>\n",
       "      <td>12.04</td>\n",
       "      <td>Pass</td>\n",
       "    </tr>\n",
       "  </tbody>\n",
       "</table>\n",
       "</div>"
      ]
     },
     "execution_count": 526,
     "metadata": {},
     "output_type": "execute_result"
    }
   ],
   "execution_count": 526
  },
  {
   "metadata": {
    "ExecuteTime": {
     "end_time": "2025-05-10T22:22:33.841837Z",
     "start_time": "2025-05-10T22:22:33.838435Z"
    }
   },
   "cell_type": "code",
   "source": "mask = df_xml['Pass_Fail'] == 'Pass'",
   "id": "44d622c31bd2d74a",
   "outputs": [],
   "execution_count": 527
  },
  {
   "metadata": {
    "ExecuteTime": {
     "end_time": "2025-05-10T22:22:33.931727Z",
     "start_time": "2025-05-10T22:22:33.928816Z"
    }
   },
   "cell_type": "code",
   "source": "pass_xml_df = df_xml[mask]",
   "id": "18285c60bf293b0b",
   "outputs": [],
   "execution_count": 528
  },
  {
   "metadata": {
    "ExecuteTime": {
     "end_time": "2025-05-10T22:22:34.167637Z",
     "start_time": "2025-05-10T22:22:34.160956Z"
    }
   },
   "cell_type": "code",
   "source": "pass_xml_df.head(3)",
   "id": "456dcbe1474a8f17",
   "outputs": [
    {
     "data": {
      "text/plain": [
       "  index        Date    Shift Machine_ID Component_Type Batch_ID Flatness__μm_  \\\n",
       "3     3  2025-01-01  Shift 2      CMM A          Shaft  CMM9522          2.56   \n",
       "4     4  2025-01-01  Shift 2      CMM A          Shaft  CMM7033           4.1   \n",
       "5     5  2025-01-01  Shift 2      CMM C    Cover Plate  CMM1401          3.03   \n",
       "\n",
       "  Circularity__μm_ Cylindricity__μm_ Straightness__μm_ Perpendicularity__μm_  \\\n",
       "3             4.17             21.14              6.36                  9.22   \n",
       "4             3.86              16.5              1.77                 21.66   \n",
       "5            14.51              6.01              4.83                   7.3   \n",
       "\n",
       "  Parallelism__μm_ Position_Tolerance__μm_ Pass_Fail  \n",
       "3            12.48                   20.86      Pass  \n",
       "4             4.24                   12.04      Pass  \n",
       "5            11.61                   14.58      Pass  "
      ],
      "text/html": [
       "<div>\n",
       "<style scoped>\n",
       "    .dataframe tbody tr th:only-of-type {\n",
       "        vertical-align: middle;\n",
       "    }\n",
       "\n",
       "    .dataframe tbody tr th {\n",
       "        vertical-align: top;\n",
       "    }\n",
       "\n",
       "    .dataframe thead th {\n",
       "        text-align: right;\n",
       "    }\n",
       "</style>\n",
       "<table border=\"1\" class=\"dataframe\">\n",
       "  <thead>\n",
       "    <tr style=\"text-align: right;\">\n",
       "      <th></th>\n",
       "      <th>index</th>\n",
       "      <th>Date</th>\n",
       "      <th>Shift</th>\n",
       "      <th>Machine_ID</th>\n",
       "      <th>Component_Type</th>\n",
       "      <th>Batch_ID</th>\n",
       "      <th>Flatness__μm_</th>\n",
       "      <th>Circularity__μm_</th>\n",
       "      <th>Cylindricity__μm_</th>\n",
       "      <th>Straightness__μm_</th>\n",
       "      <th>Perpendicularity__μm_</th>\n",
       "      <th>Parallelism__μm_</th>\n",
       "      <th>Position_Tolerance__μm_</th>\n",
       "      <th>Pass_Fail</th>\n",
       "    </tr>\n",
       "  </thead>\n",
       "  <tbody>\n",
       "    <tr>\n",
       "      <th>3</th>\n",
       "      <td>3</td>\n",
       "      <td>2025-01-01</td>\n",
       "      <td>Shift 2</td>\n",
       "      <td>CMM A</td>\n",
       "      <td>Shaft</td>\n",
       "      <td>CMM9522</td>\n",
       "      <td>2.56</td>\n",
       "      <td>4.17</td>\n",
       "      <td>21.14</td>\n",
       "      <td>6.36</td>\n",
       "      <td>9.22</td>\n",
       "      <td>12.48</td>\n",
       "      <td>20.86</td>\n",
       "      <td>Pass</td>\n",
       "    </tr>\n",
       "    <tr>\n",
       "      <th>4</th>\n",
       "      <td>4</td>\n",
       "      <td>2025-01-01</td>\n",
       "      <td>Shift 2</td>\n",
       "      <td>CMM A</td>\n",
       "      <td>Shaft</td>\n",
       "      <td>CMM7033</td>\n",
       "      <td>4.1</td>\n",
       "      <td>3.86</td>\n",
       "      <td>16.5</td>\n",
       "      <td>1.77</td>\n",
       "      <td>21.66</td>\n",
       "      <td>4.24</td>\n",
       "      <td>12.04</td>\n",
       "      <td>Pass</td>\n",
       "    </tr>\n",
       "    <tr>\n",
       "      <th>5</th>\n",
       "      <td>5</td>\n",
       "      <td>2025-01-01</td>\n",
       "      <td>Shift 2</td>\n",
       "      <td>CMM C</td>\n",
       "      <td>Cover Plate</td>\n",
       "      <td>CMM1401</td>\n",
       "      <td>3.03</td>\n",
       "      <td>14.51</td>\n",
       "      <td>6.01</td>\n",
       "      <td>4.83</td>\n",
       "      <td>7.3</td>\n",
       "      <td>11.61</td>\n",
       "      <td>14.58</td>\n",
       "      <td>Pass</td>\n",
       "    </tr>\n",
       "  </tbody>\n",
       "</table>\n",
       "</div>"
      ]
     },
     "execution_count": 529,
     "metadata": {},
     "output_type": "execute_result"
    }
   ],
   "execution_count": 529
  },
  {
   "metadata": {
    "ExecuteTime": {
     "end_time": "2025-05-10T22:22:34.300470Z",
     "start_time": "2025-05-10T22:22:34.265894Z"
    }
   },
   "cell_type": "code",
   "source": "pass_xml_df.to_xml('XML/pass.xml', encoding='utf-8')",
   "id": "4f42e18773c0a2d6",
   "outputs": [],
   "execution_count": 530
  },
  {
   "metadata": {},
   "cell_type": "markdown",
   "source": [
    "## Section C: HTML and Web Scraping\n",
    "\n",
    "### **Exercise 16: Read Table from HTML**\n",
    "\n",
    "**Problem:** Use `pd.read_html()` to extract a table from a manufacturing or metrology standards webpage.\n",
    "\n",
    "**Purpose:** Learn how to import structured data from the web.\n"
   ],
   "id": "91d4adf625efd86c"
  },
  {
   "metadata": {
    "ExecuteTime": {
     "end_time": "2025-05-10T22:22:34.466468Z",
     "start_time": "2025-05-10T22:22:34.463370Z"
    }
   },
   "cell_type": "code",
   "source": "url = 'https://grprototypes.com/gdt-symbols-explained-from-basic-drawings-to-expert-applications/'",
   "id": "9d198e28d3302c",
   "outputs": [],
   "execution_count": 531
  },
  {
   "metadata": {
    "ExecuteTime": {
     "end_time": "2025-05-10T22:22:35.034044Z",
     "start_time": "2025-05-10T22:22:34.631381Z"
    }
   },
   "cell_type": "code",
   "source": "tables = pd.read_html(url)",
   "id": "20fc54851715036d",
   "outputs": [],
   "execution_count": 532
  },
  {
   "metadata": {
    "ExecuteTime": {
     "end_time": "2025-05-10T22:22:35.038557Z",
     "start_time": "2025-05-10T22:22:35.035613Z"
    }
   },
   "cell_type": "code",
   "source": "len(tables)",
   "id": "1a6de1f3b7408e62",
   "outputs": [
    {
     "data": {
      "text/plain": [
       "5"
      ]
     },
     "execution_count": 533,
     "metadata": {},
     "output_type": "execute_result"
    }
   ],
   "execution_count": 533
  },
  {
   "metadata": {
    "ExecuteTime": {
     "end_time": "2025-05-10T22:22:35.041803Z",
     "start_time": "2025-05-10T22:22:35.039609Z"
    }
   },
   "cell_type": "code",
   "source": "gd_t_table = tables[0]",
   "id": "ac0adcd8e8fdcfd3",
   "outputs": [],
   "execution_count": 534
  },
  {
   "metadata": {
    "ExecuteTime": {
     "end_time": "2025-05-10T22:22:35.069878Z",
     "start_time": "2025-05-10T22:22:35.064735Z"
    }
   },
   "cell_type": "code",
   "source": "gd_t_table.head()",
   "id": "7b24bad490fec264",
   "outputs": [
    {
     "data": {
      "text/plain": [
       "               Category                        Purpose  \\\n",
       "0         Form Controls         Specify feature shapes   \n",
       "1      Profile Controls      Define 3D tolerance zones   \n",
       "2  Orientation Controls  Control angular relationships   \n",
       "3     Location Controls       Define linear dimensions   \n",
       "4       Runout Controls   Specify rotational variation   \n",
       "\n",
       "                                         Key Symbols  \n",
       "0  Straightness, Flatness, Circularity, Cylindricity  \n",
       "1                      Line Profile, Surface Profile  \n",
       "2          Perpendicularity, Angularity, Parallelism  \n",
       "3                  Position, Concentricity, Symmetry  \n",
       "4                      Circular Runout, Total Runout  "
      ],
      "text/html": [
       "<div>\n",
       "<style scoped>\n",
       "    .dataframe tbody tr th:only-of-type {\n",
       "        vertical-align: middle;\n",
       "    }\n",
       "\n",
       "    .dataframe tbody tr th {\n",
       "        vertical-align: top;\n",
       "    }\n",
       "\n",
       "    .dataframe thead th {\n",
       "        text-align: right;\n",
       "    }\n",
       "</style>\n",
       "<table border=\"1\" class=\"dataframe\">\n",
       "  <thead>\n",
       "    <tr style=\"text-align: right;\">\n",
       "      <th></th>\n",
       "      <th>Category</th>\n",
       "      <th>Purpose</th>\n",
       "      <th>Key Symbols</th>\n",
       "    </tr>\n",
       "  </thead>\n",
       "  <tbody>\n",
       "    <tr>\n",
       "      <th>0</th>\n",
       "      <td>Form Controls</td>\n",
       "      <td>Specify feature shapes</td>\n",
       "      <td>Straightness, Flatness, Circularity, Cylindricity</td>\n",
       "    </tr>\n",
       "    <tr>\n",
       "      <th>1</th>\n",
       "      <td>Profile Controls</td>\n",
       "      <td>Define 3D tolerance zones</td>\n",
       "      <td>Line Profile, Surface Profile</td>\n",
       "    </tr>\n",
       "    <tr>\n",
       "      <th>2</th>\n",
       "      <td>Orientation Controls</td>\n",
       "      <td>Control angular relationships</td>\n",
       "      <td>Perpendicularity, Angularity, Parallelism</td>\n",
       "    </tr>\n",
       "    <tr>\n",
       "      <th>3</th>\n",
       "      <td>Location Controls</td>\n",
       "      <td>Define linear dimensions</td>\n",
       "      <td>Position, Concentricity, Symmetry</td>\n",
       "    </tr>\n",
       "    <tr>\n",
       "      <th>4</th>\n",
       "      <td>Runout Controls</td>\n",
       "      <td>Specify rotational variation</td>\n",
       "      <td>Circular Runout, Total Runout</td>\n",
       "    </tr>\n",
       "  </tbody>\n",
       "</table>\n",
       "</div>"
      ]
     },
     "execution_count": 535,
     "metadata": {},
     "output_type": "execute_result"
    }
   ],
   "execution_count": 535
  },
  {
   "metadata": {
    "ExecuteTime": {
     "end_time": "2025-05-10T22:22:35.119918Z",
     "start_time": "2025-05-10T22:22:35.111792Z"
    }
   },
   "cell_type": "code",
   "source": [
    "# Save for future use\n",
    "gd_t_table.to_csv('gd_t_table.csv', index=False)"
   ],
   "id": "6da7d7b5deb6da40",
   "outputs": [],
   "execution_count": 536
  },
  {
   "metadata": {},
   "cell_type": "markdown",
   "source": [
    "### **Exercise 17: Scrape Component Specs**\n",
    "\n",
    "**Problem:** Use `requests` and `BeautifulSoup` to scrape dimension tolerances for shafts or brackets.\n",
    "    \n",
    "**Purpose:** Build a reference table for tolerances."
   ],
   "id": "7f35ee86a613000"
  },
  {
   "metadata": {
    "ExecuteTime": {
     "end_time": "2025-05-10T22:22:35.364554Z",
     "start_time": "2025-05-10T22:22:35.361993Z"
    }
   },
   "cell_type": "code",
   "source": "url = 'https://roymech.org/Useful_Tables/ISO_Tolerances.html'",
   "id": "598cea5afbdfc985",
   "outputs": [],
   "execution_count": 537
  },
  {
   "metadata": {
    "ExecuteTime": {
     "end_time": "2025-05-10T22:22:36.014944Z",
     "start_time": "2025-05-10T22:22:35.477235Z"
    }
   },
   "cell_type": "code",
   "source": "response = requests.get(url)",
   "id": "cf7a46d61ed27611",
   "outputs": [],
   "execution_count": 538
  },
  {
   "metadata": {
    "ExecuteTime": {
     "end_time": "2025-05-10T22:22:36.027684Z",
     "start_time": "2025-05-10T22:22:36.016144Z"
    }
   },
   "cell_type": "code",
   "source": "soup = BeautifulSoup(response.content, 'html.parser')",
   "id": "49e6fd63228a9b84",
   "outputs": [],
   "execution_count": 539
  },
  {
   "metadata": {
    "ExecuteTime": {
     "end_time": "2025-05-10T22:22:36.030884Z",
     "start_time": "2025-05-10T22:22:36.028640Z"
    }
   },
   "cell_type": "code",
   "source": "tables = soup.find_all('table')",
   "id": "308347aa4cad700c",
   "outputs": [],
   "execution_count": 540
  },
  {
   "metadata": {
    "ExecuteTime": {
     "end_time": "2025-05-10T22:22:36.035222Z",
     "start_time": "2025-05-10T22:22:36.032227Z"
    }
   },
   "cell_type": "code",
   "source": "len(tables)",
   "id": "70548a9eff37735e",
   "outputs": [
    {
     "data": {
      "text/plain": [
       "4"
      ]
     },
     "execution_count": 541,
     "metadata": {},
     "output_type": "execute_result"
    }
   ],
   "execution_count": 541
  },
  {
   "metadata": {
    "ExecuteTime": {
     "end_time": "2025-05-10T22:22:36.038547Z",
     "start_time": "2025-05-10T22:22:36.036005Z"
    }
   },
   "cell_type": "code",
   "source": "html_str = str(tables[2])",
   "id": "41928b118f9755b9",
   "outputs": [],
   "execution_count": 542
  },
  {
   "metadata": {
    "ExecuteTime": {
     "end_time": "2025-05-10T22:22:36.043603Z",
     "start_time": "2025-05-10T22:22:36.039514Z"
    }
   },
   "cell_type": "code",
   "source": "df_tol = pd.read_html(StringIO(html_str), header=0)[0]",
   "id": "bbd17a603e81e0e0",
   "outputs": [],
   "execution_count": 543
  },
  {
   "metadata": {
    "ExecuteTime": {
     "end_time": "2025-05-10T22:22:36.048921Z",
     "start_time": "2025-05-10T22:22:36.044616Z"
    }
   },
   "cell_type": "code",
   "source": "df_tol.head()",
   "id": "a93883d21b50f81a",
   "outputs": [
    {
     "data": {
      "text/plain": [
       "                               Description Hole Shaft\n",
       "0                            Loose Running  H11   c11\n",
       "1                             Free Running   H9    d9\n",
       "2                            Loose Running  H11   c11\n",
       "3  Easy Running - Good quality easy to do-   H8    f8\n",
       "4                                  Sliding   H7    g6"
      ],
      "text/html": [
       "<div>\n",
       "<style scoped>\n",
       "    .dataframe tbody tr th:only-of-type {\n",
       "        vertical-align: middle;\n",
       "    }\n",
       "\n",
       "    .dataframe tbody tr th {\n",
       "        vertical-align: top;\n",
       "    }\n",
       "\n",
       "    .dataframe thead th {\n",
       "        text-align: right;\n",
       "    }\n",
       "</style>\n",
       "<table border=\"1\" class=\"dataframe\">\n",
       "  <thead>\n",
       "    <tr style=\"text-align: right;\">\n",
       "      <th></th>\n",
       "      <th>Description</th>\n",
       "      <th>Hole</th>\n",
       "      <th>Shaft</th>\n",
       "    </tr>\n",
       "  </thead>\n",
       "  <tbody>\n",
       "    <tr>\n",
       "      <th>0</th>\n",
       "      <td>Loose Running</td>\n",
       "      <td>H11</td>\n",
       "      <td>c11</td>\n",
       "    </tr>\n",
       "    <tr>\n",
       "      <th>1</th>\n",
       "      <td>Free Running</td>\n",
       "      <td>H9</td>\n",
       "      <td>d9</td>\n",
       "    </tr>\n",
       "    <tr>\n",
       "      <th>2</th>\n",
       "      <td>Loose Running</td>\n",
       "      <td>H11</td>\n",
       "      <td>c11</td>\n",
       "    </tr>\n",
       "    <tr>\n",
       "      <th>3</th>\n",
       "      <td>Easy Running - Good quality easy to do-</td>\n",
       "      <td>H8</td>\n",
       "      <td>f8</td>\n",
       "    </tr>\n",
       "    <tr>\n",
       "      <th>4</th>\n",
       "      <td>Sliding</td>\n",
       "      <td>H7</td>\n",
       "      <td>g6</td>\n",
       "    </tr>\n",
       "  </tbody>\n",
       "</table>\n",
       "</div>"
      ]
     },
     "execution_count": 544,
     "metadata": {},
     "output_type": "execute_result"
    }
   ],
   "execution_count": 544
  },
  {
   "metadata": {},
   "cell_type": "markdown",
   "source": [
    "### **Exercise 18: Match Specs to Data**\n",
    "\n",
    "**Problem:** Compare scraped standard tolerances with actual values from the dataset.\n",
    "\n",
    "**Purpose:** Integrate scraped external data for QC comparison.\n"
   ],
   "id": "f8a03b6700363b19"
  },
  {
   "metadata": {
    "ExecuteTime": {
     "end_time": "2025-05-10T22:22:36.053915Z",
     "start_time": "2025-05-10T22:22:36.050111Z"
    }
   },
   "cell_type": "code",
   "source": "url = 'https://roymech.org/Useful_Tables/ISO_Tolerances/ISO_286_2s.html'",
   "id": "ce9f502317194808",
   "outputs": [],
   "execution_count": 545
  },
  {
   "metadata": {
    "ExecuteTime": {
     "end_time": "2025-05-10T22:22:36.608706Z",
     "start_time": "2025-05-10T22:22:36.079052Z"
    }
   },
   "cell_type": "code",
   "source": "response = requests.get(url)",
   "id": "cddecde5695fa7cf",
   "outputs": [],
   "execution_count": 546
  },
  {
   "metadata": {
    "ExecuteTime": {
     "end_time": "2025-05-10T22:22:36.631550Z",
     "start_time": "2025-05-10T22:22:36.610199Z"
    }
   },
   "cell_type": "code",
   "source": "soup = BeautifulSoup(response.content, 'html.parser')",
   "id": "35b583168c837c3f",
   "outputs": [],
   "execution_count": 547
  },
  {
   "metadata": {
    "ExecuteTime": {
     "end_time": "2025-05-10T22:22:36.637028Z",
     "start_time": "2025-05-10T22:22:36.632363Z"
    }
   },
   "cell_type": "code",
   "source": "tables = soup.find_all('table')",
   "id": "da837643db06e497",
   "outputs": [],
   "execution_count": 548
  },
  {
   "metadata": {
    "ExecuteTime": {
     "end_time": "2025-05-10T22:22:36.706472Z",
     "start_time": "2025-05-10T22:22:36.702744Z"
    }
   },
   "cell_type": "code",
   "source": "len(tables)",
   "id": "f108b21d06efda32",
   "outputs": [
    {
     "data": {
      "text/plain": [
       "1"
      ]
     },
     "execution_count": 549,
     "metadata": {},
     "output_type": "execute_result"
    }
   ],
   "execution_count": 549
  },
  {
   "metadata": {
    "ExecuteTime": {
     "end_time": "2025-05-10T22:22:36.833455Z",
     "start_time": "2025-05-10T22:22:36.830328Z"
    }
   },
   "cell_type": "code",
   "source": [
    "# Assume measurement data\n",
    "df_cmm = pd.DataFrame(\n",
    "    {\n",
    "        'Nominal_Diameter': [20, 35, 50],\n",
    "        'Measured_Diameter': [20.015, 35.025, 50.030],\n",
    "        'Tolerance_Class': ['h6', 'h7', 'h8']\n",
    "    }\n",
    ")"
   ],
   "id": "5e92100e16124587",
   "outputs": [],
   "execution_count": 550
  },
  {
   "metadata": {
    "ExecuteTime": {
     "end_time": "2025-05-10T22:22:37.080439Z",
     "start_time": "2025-05-10T22:22:37.058569Z"
    }
   },
   "cell_type": "code",
   "source": "df_tolerance = pd.read_html(StringIO(str(tables[0])), header=0)[0]",
   "id": "fcb7678472e65cb2",
   "outputs": [],
   "execution_count": 551
  },
  {
   "metadata": {
    "ExecuteTime": {
     "end_time": "2025-05-10T22:22:37.174683Z",
     "start_time": "2025-05-10T22:22:37.166479Z"
    }
   },
   "cell_type": "code",
   "source": "df_tolerance.head()",
   "id": "89442700011faf0e",
   "outputs": [
    {
     "data": {
      "text/plain": [
       "    Unnamed: 0       Nominal Shaft Sizes (mm)     Nominal Shaft Sizes (mm).1  \\\n",
       "0         over                              3                              6   \n",
       "1         inc.                              6                             10   \n",
       "2  micrometres                    micrometres                    micrometres   \n",
       "3        Grade  All limits  below with + sign  All limits  below with + sign   \n",
       "4          a12                     -270  -390                      -280 -430   \n",
       "\n",
       "      Nominal Shaft Sizes (mm).2     Nominal Shaft Sizes (mm).3  \\\n",
       "0                             10                             18   \n",
       "1                             18                             30   \n",
       "2                    micrometres                    micrometres   \n",
       "3  All limits  below with + sign  All limits  below with + sign   \n",
       "4                      -290 -470                      -300 -510   \n",
       "\n",
       "      Nominal Shaft Sizes (mm).4     Nominal Shaft Sizes (mm).5  \\\n",
       "0                             30                             40   \n",
       "1                             40                             50   \n",
       "2                    micrometres                    micrometres   \n",
       "3  All limits  below with + sign  All limits  below with + sign   \n",
       "4                      -310 -560                      -320 -570   \n",
       "\n",
       "      Nominal Shaft Sizes (mm).6     Nominal Shaft Sizes (mm).7  \\\n",
       "0                             50                             65   \n",
       "1                             65                             80   \n",
       "2                    micrometres                    micrometres   \n",
       "3  All limits  below with + sign  All limits  below with + sign   \n",
       "4                      -340 -640                      -360 -660   \n",
       "\n",
       "      Nominal Shaft Sizes (mm).8  ...    Nominal Shaft Sizes (mm).10  \\\n",
       "0                             80  ...                            120   \n",
       "1                            100  ...                            140   \n",
       "2                    micrometres  ...                    micrometres   \n",
       "3  All limits  below with + sign  ...  All limits  below with + sign   \n",
       "4                      -380 -730  ...                      -460 -860   \n",
       "\n",
       "     Nominal Shaft Sizes (mm).11    Nominal Shaft Sizes (mm).12  \\\n",
       "0                            140                            160   \n",
       "1                            160                            180   \n",
       "2                    micrometres                    micrometres   \n",
       "3  All limits  below with + sign  All limits  below with + sign   \n",
       "4                      -520 -920                      -580 -980   \n",
       "\n",
       "     Nominal Shaft Sizes (mm).13    Nominal Shaft Sizes (mm).14  \\\n",
       "0                            180                            200   \n",
       "1                            200                            225   \n",
       "2                    micrometres                    micrometres   \n",
       "3  All limits  below with + sign  All limits  below with + sign   \n",
       "4                     -660 -1120                     -740 -1200   \n",
       "\n",
       "     Nominal Shaft Sizes (mm).15    Nominal Shaft Sizes (mm).16  \\\n",
       "0                            225                            250   \n",
       "1                            250                            280   \n",
       "2                    micrometres                    micrometres   \n",
       "3  All limits  below with + sign  All limits  below with + sign   \n",
       "4                     -820 -1280                     -920 -1440   \n",
       "\n",
       "     Nominal Shaft Sizes (mm).17    Nominal Shaft Sizes (mm).18  \\\n",
       "0                            280                            315   \n",
       "1                            315                            355   \n",
       "2                    micrometres                    micrometres   \n",
       "3  All limits  below with + sign  All limits  below with + sign   \n",
       "4                    -1050 -1570                    -1200 -1770   \n",
       "\n",
       "     Nominal Shaft Sizes (mm).19  \n",
       "0                            355  \n",
       "1                            400  \n",
       "2                    micrometres  \n",
       "3  All limits  below with + sign  \n",
       "4                    -1350 -1920  \n",
       "\n",
       "[5 rows x 21 columns]"
      ],
      "text/html": [
       "<div>\n",
       "<style scoped>\n",
       "    .dataframe tbody tr th:only-of-type {\n",
       "        vertical-align: middle;\n",
       "    }\n",
       "\n",
       "    .dataframe tbody tr th {\n",
       "        vertical-align: top;\n",
       "    }\n",
       "\n",
       "    .dataframe thead th {\n",
       "        text-align: right;\n",
       "    }\n",
       "</style>\n",
       "<table border=\"1\" class=\"dataframe\">\n",
       "  <thead>\n",
       "    <tr style=\"text-align: right;\">\n",
       "      <th></th>\n",
       "      <th>Unnamed: 0</th>\n",
       "      <th>Nominal Shaft Sizes (mm)</th>\n",
       "      <th>Nominal Shaft Sizes (mm).1</th>\n",
       "      <th>Nominal Shaft Sizes (mm).2</th>\n",
       "      <th>Nominal Shaft Sizes (mm).3</th>\n",
       "      <th>Nominal Shaft Sizes (mm).4</th>\n",
       "      <th>Nominal Shaft Sizes (mm).5</th>\n",
       "      <th>Nominal Shaft Sizes (mm).6</th>\n",
       "      <th>Nominal Shaft Sizes (mm).7</th>\n",
       "      <th>Nominal Shaft Sizes (mm).8</th>\n",
       "      <th>...</th>\n",
       "      <th>Nominal Shaft Sizes (mm).10</th>\n",
       "      <th>Nominal Shaft Sizes (mm).11</th>\n",
       "      <th>Nominal Shaft Sizes (mm).12</th>\n",
       "      <th>Nominal Shaft Sizes (mm).13</th>\n",
       "      <th>Nominal Shaft Sizes (mm).14</th>\n",
       "      <th>Nominal Shaft Sizes (mm).15</th>\n",
       "      <th>Nominal Shaft Sizes (mm).16</th>\n",
       "      <th>Nominal Shaft Sizes (mm).17</th>\n",
       "      <th>Nominal Shaft Sizes (mm).18</th>\n",
       "      <th>Nominal Shaft Sizes (mm).19</th>\n",
       "    </tr>\n",
       "  </thead>\n",
       "  <tbody>\n",
       "    <tr>\n",
       "      <th>0</th>\n",
       "      <td>over</td>\n",
       "      <td>3</td>\n",
       "      <td>6</td>\n",
       "      <td>10</td>\n",
       "      <td>18</td>\n",
       "      <td>30</td>\n",
       "      <td>40</td>\n",
       "      <td>50</td>\n",
       "      <td>65</td>\n",
       "      <td>80</td>\n",
       "      <td>...</td>\n",
       "      <td>120</td>\n",
       "      <td>140</td>\n",
       "      <td>160</td>\n",
       "      <td>180</td>\n",
       "      <td>200</td>\n",
       "      <td>225</td>\n",
       "      <td>250</td>\n",
       "      <td>280</td>\n",
       "      <td>315</td>\n",
       "      <td>355</td>\n",
       "    </tr>\n",
       "    <tr>\n",
       "      <th>1</th>\n",
       "      <td>inc.</td>\n",
       "      <td>6</td>\n",
       "      <td>10</td>\n",
       "      <td>18</td>\n",
       "      <td>30</td>\n",
       "      <td>40</td>\n",
       "      <td>50</td>\n",
       "      <td>65</td>\n",
       "      <td>80</td>\n",
       "      <td>100</td>\n",
       "      <td>...</td>\n",
       "      <td>140</td>\n",
       "      <td>160</td>\n",
       "      <td>180</td>\n",
       "      <td>200</td>\n",
       "      <td>225</td>\n",
       "      <td>250</td>\n",
       "      <td>280</td>\n",
       "      <td>315</td>\n",
       "      <td>355</td>\n",
       "      <td>400</td>\n",
       "    </tr>\n",
       "    <tr>\n",
       "      <th>2</th>\n",
       "      <td>micrometres</td>\n",
       "      <td>micrometres</td>\n",
       "      <td>micrometres</td>\n",
       "      <td>micrometres</td>\n",
       "      <td>micrometres</td>\n",
       "      <td>micrometres</td>\n",
       "      <td>micrometres</td>\n",
       "      <td>micrometres</td>\n",
       "      <td>micrometres</td>\n",
       "      <td>micrometres</td>\n",
       "      <td>...</td>\n",
       "      <td>micrometres</td>\n",
       "      <td>micrometres</td>\n",
       "      <td>micrometres</td>\n",
       "      <td>micrometres</td>\n",
       "      <td>micrometres</td>\n",
       "      <td>micrometres</td>\n",
       "      <td>micrometres</td>\n",
       "      <td>micrometres</td>\n",
       "      <td>micrometres</td>\n",
       "      <td>micrometres</td>\n",
       "    </tr>\n",
       "    <tr>\n",
       "      <th>3</th>\n",
       "      <td>Grade</td>\n",
       "      <td>All limits  below with + sign</td>\n",
       "      <td>All limits  below with + sign</td>\n",
       "      <td>All limits  below with + sign</td>\n",
       "      <td>All limits  below with + sign</td>\n",
       "      <td>All limits  below with + sign</td>\n",
       "      <td>All limits  below with + sign</td>\n",
       "      <td>All limits  below with + sign</td>\n",
       "      <td>All limits  below with + sign</td>\n",
       "      <td>All limits  below with + sign</td>\n",
       "      <td>...</td>\n",
       "      <td>All limits  below with + sign</td>\n",
       "      <td>All limits  below with + sign</td>\n",
       "      <td>All limits  below with + sign</td>\n",
       "      <td>All limits  below with + sign</td>\n",
       "      <td>All limits  below with + sign</td>\n",
       "      <td>All limits  below with + sign</td>\n",
       "      <td>All limits  below with + sign</td>\n",
       "      <td>All limits  below with + sign</td>\n",
       "      <td>All limits  below with + sign</td>\n",
       "      <td>All limits  below with + sign</td>\n",
       "    </tr>\n",
       "    <tr>\n",
       "      <th>4</th>\n",
       "      <td>a12</td>\n",
       "      <td>-270  -390</td>\n",
       "      <td>-280 -430</td>\n",
       "      <td>-290 -470</td>\n",
       "      <td>-300 -510</td>\n",
       "      <td>-310 -560</td>\n",
       "      <td>-320 -570</td>\n",
       "      <td>-340 -640</td>\n",
       "      <td>-360 -660</td>\n",
       "      <td>-380 -730</td>\n",
       "      <td>...</td>\n",
       "      <td>-460 -860</td>\n",
       "      <td>-520 -920</td>\n",
       "      <td>-580 -980</td>\n",
       "      <td>-660 -1120</td>\n",
       "      <td>-740 -1200</td>\n",
       "      <td>-820 -1280</td>\n",
       "      <td>-920 -1440</td>\n",
       "      <td>-1050 -1570</td>\n",
       "      <td>-1200 -1770</td>\n",
       "      <td>-1350 -1920</td>\n",
       "    </tr>\n",
       "  </tbody>\n",
       "</table>\n",
       "<p>5 rows × 21 columns</p>\n",
       "</div>"
      ]
     },
     "execution_count": 552,
     "metadata": {},
     "output_type": "execute_result"
    }
   ],
   "execution_count": 552
  },
  {
   "metadata": {
    "ExecuteTime": {
     "end_time": "2025-05-10T22:22:37.279265Z",
     "start_time": "2025-05-10T22:22:37.276512Z"
    }
   },
   "cell_type": "code",
   "source": "df_tolerance.rename(columns={'Unnamed: 0': 'Tolerance_Class'}, inplace=True)",
   "id": "46d9cfe38a6bc369",
   "outputs": [],
   "execution_count": 553
  },
  {
   "metadata": {
    "ExecuteTime": {
     "end_time": "2025-05-10T22:22:37.430849Z",
     "start_time": "2025-05-10T22:22:37.422420Z"
    }
   },
   "cell_type": "code",
   "source": "df_tolerance.head()",
   "id": "11a2845dc0dc4e4a",
   "outputs": [
    {
     "data": {
      "text/plain": [
       "  Tolerance_Class       Nominal Shaft Sizes (mm)  \\\n",
       "0            over                              3   \n",
       "1            inc.                              6   \n",
       "2     micrometres                    micrometres   \n",
       "3           Grade  All limits  below with + sign   \n",
       "4             a12                     -270  -390   \n",
       "\n",
       "      Nominal Shaft Sizes (mm).1     Nominal Shaft Sizes (mm).2  \\\n",
       "0                              6                             10   \n",
       "1                             10                             18   \n",
       "2                    micrometres                    micrometres   \n",
       "3  All limits  below with + sign  All limits  below with + sign   \n",
       "4                      -280 -430                      -290 -470   \n",
       "\n",
       "      Nominal Shaft Sizes (mm).3     Nominal Shaft Sizes (mm).4  \\\n",
       "0                             18                             30   \n",
       "1                             30                             40   \n",
       "2                    micrometres                    micrometres   \n",
       "3  All limits  below with + sign  All limits  below with + sign   \n",
       "4                      -300 -510                      -310 -560   \n",
       "\n",
       "      Nominal Shaft Sizes (mm).5     Nominal Shaft Sizes (mm).6  \\\n",
       "0                             40                             50   \n",
       "1                             50                             65   \n",
       "2                    micrometres                    micrometres   \n",
       "3  All limits  below with + sign  All limits  below with + sign   \n",
       "4                      -320 -570                      -340 -640   \n",
       "\n",
       "      Nominal Shaft Sizes (mm).7     Nominal Shaft Sizes (mm).8  ...  \\\n",
       "0                             65                             80  ...   \n",
       "1                             80                            100  ...   \n",
       "2                    micrometres                    micrometres  ...   \n",
       "3  All limits  below with + sign  All limits  below with + sign  ...   \n",
       "4                      -360 -660                      -380 -730  ...   \n",
       "\n",
       "     Nominal Shaft Sizes (mm).10    Nominal Shaft Sizes (mm).11  \\\n",
       "0                            120                            140   \n",
       "1                            140                            160   \n",
       "2                    micrometres                    micrometres   \n",
       "3  All limits  below with + sign  All limits  below with + sign   \n",
       "4                      -460 -860                      -520 -920   \n",
       "\n",
       "     Nominal Shaft Sizes (mm).12    Nominal Shaft Sizes (mm).13  \\\n",
       "0                            160                            180   \n",
       "1                            180                            200   \n",
       "2                    micrometres                    micrometres   \n",
       "3  All limits  below with + sign  All limits  below with + sign   \n",
       "4                      -580 -980                     -660 -1120   \n",
       "\n",
       "     Nominal Shaft Sizes (mm).14    Nominal Shaft Sizes (mm).15  \\\n",
       "0                            200                            225   \n",
       "1                            225                            250   \n",
       "2                    micrometres                    micrometres   \n",
       "3  All limits  below with + sign  All limits  below with + sign   \n",
       "4                     -740 -1200                     -820 -1280   \n",
       "\n",
       "     Nominal Shaft Sizes (mm).16    Nominal Shaft Sizes (mm).17  \\\n",
       "0                            250                            280   \n",
       "1                            280                            315   \n",
       "2                    micrometres                    micrometres   \n",
       "3  All limits  below with + sign  All limits  below with + sign   \n",
       "4                     -920 -1440                    -1050 -1570   \n",
       "\n",
       "     Nominal Shaft Sizes (mm).18    Nominal Shaft Sizes (mm).19  \n",
       "0                            315                            355  \n",
       "1                            355                            400  \n",
       "2                    micrometres                    micrometres  \n",
       "3  All limits  below with + sign  All limits  below with + sign  \n",
       "4                    -1200 -1770                    -1350 -1920  \n",
       "\n",
       "[5 rows x 21 columns]"
      ],
      "text/html": [
       "<div>\n",
       "<style scoped>\n",
       "    .dataframe tbody tr th:only-of-type {\n",
       "        vertical-align: middle;\n",
       "    }\n",
       "\n",
       "    .dataframe tbody tr th {\n",
       "        vertical-align: top;\n",
       "    }\n",
       "\n",
       "    .dataframe thead th {\n",
       "        text-align: right;\n",
       "    }\n",
       "</style>\n",
       "<table border=\"1\" class=\"dataframe\">\n",
       "  <thead>\n",
       "    <tr style=\"text-align: right;\">\n",
       "      <th></th>\n",
       "      <th>Tolerance_Class</th>\n",
       "      <th>Nominal Shaft Sizes (mm)</th>\n",
       "      <th>Nominal Shaft Sizes (mm).1</th>\n",
       "      <th>Nominal Shaft Sizes (mm).2</th>\n",
       "      <th>Nominal Shaft Sizes (mm).3</th>\n",
       "      <th>Nominal Shaft Sizes (mm).4</th>\n",
       "      <th>Nominal Shaft Sizes (mm).5</th>\n",
       "      <th>Nominal Shaft Sizes (mm).6</th>\n",
       "      <th>Nominal Shaft Sizes (mm).7</th>\n",
       "      <th>Nominal Shaft Sizes (mm).8</th>\n",
       "      <th>...</th>\n",
       "      <th>Nominal Shaft Sizes (mm).10</th>\n",
       "      <th>Nominal Shaft Sizes (mm).11</th>\n",
       "      <th>Nominal Shaft Sizes (mm).12</th>\n",
       "      <th>Nominal Shaft Sizes (mm).13</th>\n",
       "      <th>Nominal Shaft Sizes (mm).14</th>\n",
       "      <th>Nominal Shaft Sizes (mm).15</th>\n",
       "      <th>Nominal Shaft Sizes (mm).16</th>\n",
       "      <th>Nominal Shaft Sizes (mm).17</th>\n",
       "      <th>Nominal Shaft Sizes (mm).18</th>\n",
       "      <th>Nominal Shaft Sizes (mm).19</th>\n",
       "    </tr>\n",
       "  </thead>\n",
       "  <tbody>\n",
       "    <tr>\n",
       "      <th>0</th>\n",
       "      <td>over</td>\n",
       "      <td>3</td>\n",
       "      <td>6</td>\n",
       "      <td>10</td>\n",
       "      <td>18</td>\n",
       "      <td>30</td>\n",
       "      <td>40</td>\n",
       "      <td>50</td>\n",
       "      <td>65</td>\n",
       "      <td>80</td>\n",
       "      <td>...</td>\n",
       "      <td>120</td>\n",
       "      <td>140</td>\n",
       "      <td>160</td>\n",
       "      <td>180</td>\n",
       "      <td>200</td>\n",
       "      <td>225</td>\n",
       "      <td>250</td>\n",
       "      <td>280</td>\n",
       "      <td>315</td>\n",
       "      <td>355</td>\n",
       "    </tr>\n",
       "    <tr>\n",
       "      <th>1</th>\n",
       "      <td>inc.</td>\n",
       "      <td>6</td>\n",
       "      <td>10</td>\n",
       "      <td>18</td>\n",
       "      <td>30</td>\n",
       "      <td>40</td>\n",
       "      <td>50</td>\n",
       "      <td>65</td>\n",
       "      <td>80</td>\n",
       "      <td>100</td>\n",
       "      <td>...</td>\n",
       "      <td>140</td>\n",
       "      <td>160</td>\n",
       "      <td>180</td>\n",
       "      <td>200</td>\n",
       "      <td>225</td>\n",
       "      <td>250</td>\n",
       "      <td>280</td>\n",
       "      <td>315</td>\n",
       "      <td>355</td>\n",
       "      <td>400</td>\n",
       "    </tr>\n",
       "    <tr>\n",
       "      <th>2</th>\n",
       "      <td>micrometres</td>\n",
       "      <td>micrometres</td>\n",
       "      <td>micrometres</td>\n",
       "      <td>micrometres</td>\n",
       "      <td>micrometres</td>\n",
       "      <td>micrometres</td>\n",
       "      <td>micrometres</td>\n",
       "      <td>micrometres</td>\n",
       "      <td>micrometres</td>\n",
       "      <td>micrometres</td>\n",
       "      <td>...</td>\n",
       "      <td>micrometres</td>\n",
       "      <td>micrometres</td>\n",
       "      <td>micrometres</td>\n",
       "      <td>micrometres</td>\n",
       "      <td>micrometres</td>\n",
       "      <td>micrometres</td>\n",
       "      <td>micrometres</td>\n",
       "      <td>micrometres</td>\n",
       "      <td>micrometres</td>\n",
       "      <td>micrometres</td>\n",
       "    </tr>\n",
       "    <tr>\n",
       "      <th>3</th>\n",
       "      <td>Grade</td>\n",
       "      <td>All limits  below with + sign</td>\n",
       "      <td>All limits  below with + sign</td>\n",
       "      <td>All limits  below with + sign</td>\n",
       "      <td>All limits  below with + sign</td>\n",
       "      <td>All limits  below with + sign</td>\n",
       "      <td>All limits  below with + sign</td>\n",
       "      <td>All limits  below with + sign</td>\n",
       "      <td>All limits  below with + sign</td>\n",
       "      <td>All limits  below with + sign</td>\n",
       "      <td>...</td>\n",
       "      <td>All limits  below with + sign</td>\n",
       "      <td>All limits  below with + sign</td>\n",
       "      <td>All limits  below with + sign</td>\n",
       "      <td>All limits  below with + sign</td>\n",
       "      <td>All limits  below with + sign</td>\n",
       "      <td>All limits  below with + sign</td>\n",
       "      <td>All limits  below with + sign</td>\n",
       "      <td>All limits  below with + sign</td>\n",
       "      <td>All limits  below with + sign</td>\n",
       "      <td>All limits  below with + sign</td>\n",
       "    </tr>\n",
       "    <tr>\n",
       "      <th>4</th>\n",
       "      <td>a12</td>\n",
       "      <td>-270  -390</td>\n",
       "      <td>-280 -430</td>\n",
       "      <td>-290 -470</td>\n",
       "      <td>-300 -510</td>\n",
       "      <td>-310 -560</td>\n",
       "      <td>-320 -570</td>\n",
       "      <td>-340 -640</td>\n",
       "      <td>-360 -660</td>\n",
       "      <td>-380 -730</td>\n",
       "      <td>...</td>\n",
       "      <td>-460 -860</td>\n",
       "      <td>-520 -920</td>\n",
       "      <td>-580 -980</td>\n",
       "      <td>-660 -1120</td>\n",
       "      <td>-740 -1200</td>\n",
       "      <td>-820 -1280</td>\n",
       "      <td>-920 -1440</td>\n",
       "      <td>-1050 -1570</td>\n",
       "      <td>-1200 -1770</td>\n",
       "      <td>-1350 -1920</td>\n",
       "    </tr>\n",
       "  </tbody>\n",
       "</table>\n",
       "<p>5 rows × 21 columns</p>\n",
       "</div>"
      ]
     },
     "execution_count": 554,
     "metadata": {},
     "output_type": "execute_result"
    }
   ],
   "execution_count": 554
  },
  {
   "metadata": {
    "ExecuteTime": {
     "end_time": "2025-05-10T22:22:37.535745Z",
     "start_time": "2025-05-10T22:22:37.532433Z"
    }
   },
   "cell_type": "code",
   "source": "df_filtered = df_tolerance[['Tolerance_Class', 'Nominal Shaft Sizes (mm).2']]",
   "id": "97b196bde2ba6fc7",
   "outputs": [],
   "execution_count": 555
  },
  {
   "metadata": {
    "ExecuteTime": {
     "end_time": "2025-05-10T22:22:37.753352Z",
     "start_time": "2025-05-10T22:22:37.750983Z"
    }
   },
   "cell_type": "code",
   "source": "df_filtered.columns = ['Tolerance_Class', 'Limits']",
   "id": "a33b8dcff13da9a",
   "outputs": [],
   "execution_count": 556
  },
  {
   "metadata": {
    "ExecuteTime": {
     "end_time": "2025-05-10T22:22:37.909981Z",
     "start_time": "2025-05-10T22:22:37.906896Z"
    }
   },
   "cell_type": "code",
   "source": [
    "# Drop non-data rows\n",
    "df_filtered = df_filtered[~df_filtered['Tolerance_Class'].isin(['Grade', 'micrometres', 'All limits below with + sign'])]"
   ],
   "id": "c514a89557c96a35",
   "outputs": [],
   "execution_count": 557
  },
  {
   "metadata": {
    "ExecuteTime": {
     "end_time": "2025-05-10T22:22:38.143206Z",
     "start_time": "2025-05-10T22:22:38.140235Z"
    }
   },
   "cell_type": "code",
   "source": "df_filtered = df_filtered.dropna()",
   "id": "afbc3a446a281749",
   "outputs": [],
   "execution_count": 558
  },
  {
   "metadata": {
    "ExecuteTime": {
     "end_time": "2025-05-10T22:22:38.208889Z",
     "start_time": "2025-05-10T22:22:38.203906Z"
    }
   },
   "cell_type": "code",
   "source": [
    "# Extract lower and upper deviation\n",
    "df_filtered[['Dev1', 'Dev2']] = df_filtered['Limits'].str.extract(r'(-?\\d+)\\s+(-?\\d+)').astype(float)"
   ],
   "id": "547918019dea9cac",
   "outputs": [],
   "execution_count": 559
  },
  {
   "metadata": {
    "ExecuteTime": {
     "end_time": "2025-05-10T22:22:38.349630Z",
     "start_time": "2025-05-10T22:22:38.345994Z"
    }
   },
   "cell_type": "code",
   "source": "df_filtered['Upper_Deviation'] = df_filtered[['Dev1', 'Dev2']].max(axis=1)",
   "id": "28e7fd1cf1dfd266",
   "outputs": [],
   "execution_count": 560
  },
  {
   "metadata": {
    "ExecuteTime": {
     "end_time": "2025-05-10T22:22:38.422739Z",
     "start_time": "2025-05-10T22:22:38.418703Z"
    }
   },
   "cell_type": "code",
   "source": "df_filtered['Lower_Deviation'] = df_filtered[['Dev1', 'Dev2']].min(axis=1)",
   "id": "fd67f30269ad09b3",
   "outputs": [],
   "execution_count": 561
  },
  {
   "metadata": {
    "ExecuteTime": {
     "end_time": "2025-05-10T22:22:38.588162Z",
     "start_time": "2025-05-10T22:22:38.578714Z"
    }
   },
   "cell_type": "code",
   "source": "df_filtered.head()",
   "id": "5d1ea28f0dfb6bb2",
   "outputs": [
    {
     "data": {
      "text/plain": [
       "  Tolerance_Class     Limits   Dev1   Dev2  Upper_Deviation  Lower_Deviation\n",
       "0            over         10    NaN    NaN              NaN              NaN\n",
       "1            inc.         18    NaN    NaN              NaN              NaN\n",
       "4             a12  -290 -470 -290.0 -470.0           -290.0           -470.0\n",
       "5              d6    -50 -61  -50.0  -61.0            -50.0            -61.0\n",
       "6              e6    -32 -43  -32.0  -43.0            -32.0            -43.0"
      ],
      "text/html": [
       "<div>\n",
       "<style scoped>\n",
       "    .dataframe tbody tr th:only-of-type {\n",
       "        vertical-align: middle;\n",
       "    }\n",
       "\n",
       "    .dataframe tbody tr th {\n",
       "        vertical-align: top;\n",
       "    }\n",
       "\n",
       "    .dataframe thead th {\n",
       "        text-align: right;\n",
       "    }\n",
       "</style>\n",
       "<table border=\"1\" class=\"dataframe\">\n",
       "  <thead>\n",
       "    <tr style=\"text-align: right;\">\n",
       "      <th></th>\n",
       "      <th>Tolerance_Class</th>\n",
       "      <th>Limits</th>\n",
       "      <th>Dev1</th>\n",
       "      <th>Dev2</th>\n",
       "      <th>Upper_Deviation</th>\n",
       "      <th>Lower_Deviation</th>\n",
       "    </tr>\n",
       "  </thead>\n",
       "  <tbody>\n",
       "    <tr>\n",
       "      <th>0</th>\n",
       "      <td>over</td>\n",
       "      <td>10</td>\n",
       "      <td>NaN</td>\n",
       "      <td>NaN</td>\n",
       "      <td>NaN</td>\n",
       "      <td>NaN</td>\n",
       "    </tr>\n",
       "    <tr>\n",
       "      <th>1</th>\n",
       "      <td>inc.</td>\n",
       "      <td>18</td>\n",
       "      <td>NaN</td>\n",
       "      <td>NaN</td>\n",
       "      <td>NaN</td>\n",
       "      <td>NaN</td>\n",
       "    </tr>\n",
       "    <tr>\n",
       "      <th>4</th>\n",
       "      <td>a12</td>\n",
       "      <td>-290 -470</td>\n",
       "      <td>-290.0</td>\n",
       "      <td>-470.0</td>\n",
       "      <td>-290.0</td>\n",
       "      <td>-470.0</td>\n",
       "    </tr>\n",
       "    <tr>\n",
       "      <th>5</th>\n",
       "      <td>d6</td>\n",
       "      <td>-50 -61</td>\n",
       "      <td>-50.0</td>\n",
       "      <td>-61.0</td>\n",
       "      <td>-50.0</td>\n",
       "      <td>-61.0</td>\n",
       "    </tr>\n",
       "    <tr>\n",
       "      <th>6</th>\n",
       "      <td>e6</td>\n",
       "      <td>-32 -43</td>\n",
       "      <td>-32.0</td>\n",
       "      <td>-43.0</td>\n",
       "      <td>-32.0</td>\n",
       "      <td>-43.0</td>\n",
       "    </tr>\n",
       "  </tbody>\n",
       "</table>\n",
       "</div>"
      ]
     },
     "execution_count": 562,
     "metadata": {},
     "output_type": "execute_result"
    }
   ],
   "execution_count": 562
  },
  {
   "metadata": {
    "ExecuteTime": {
     "end_time": "2025-05-10T22:22:38.674368Z",
     "start_time": "2025-05-10T22:22:38.670299Z"
    }
   },
   "cell_type": "code",
   "source": "df_merged = df_cmm.merge(df_filtered, how='left', on='Tolerance_Class')",
   "id": "1d16aaaf94e77295",
   "outputs": [],
   "execution_count": 563
  },
  {
   "metadata": {
    "ExecuteTime": {
     "end_time": "2025-05-10T22:22:38.849244Z",
     "start_time": "2025-05-10T22:22:38.844903Z"
    }
   },
   "cell_type": "code",
   "source": "df_merged['Upper_Limit'] = df_merged['Nominal_Diameter'] + df_merged['Upper_Deviation']/1000",
   "id": "8d0749bc04de40fe",
   "outputs": [],
   "execution_count": 564
  },
  {
   "metadata": {
    "ExecuteTime": {
     "end_time": "2025-05-10T22:26:07.511218Z",
     "start_time": "2025-05-10T22:26:07.507520Z"
    }
   },
   "cell_type": "code",
   "source": "df_merged['Lower_Limit'] = df_merged['Nominal_Diameter'] + df_merged['Lower_Deviation']/1000",
   "id": "6df770878f9c0259",
   "outputs": [],
   "execution_count": 568
  },
  {
   "metadata": {
    "ExecuteTime": {
     "end_time": "2025-05-10T22:26:08.059084Z",
     "start_time": "2025-05-10T22:26:08.055776Z"
    }
   },
   "cell_type": "code",
   "source": [
    "df_merged['Result'] = df_merged.apply(\n",
    "    lambda row: 'PASS' if row['Lower_Limit'] <= row['Measured_Diameter'] <= row['Upper_Limit'] else 'FAIL',\n",
    "    axis=1\n",
    ")"
   ],
   "id": "b3875a41083bc46",
   "outputs": [],
   "execution_count": 569
  },
  {
   "metadata": {
    "ExecuteTime": {
     "end_time": "2025-05-10T22:26:08.716216Z",
     "start_time": "2025-05-10T22:26:08.709286Z"
    }
   },
   "cell_type": "code",
   "source": "df_merged[['Nominal_Diameter', 'Measured_Diameter', 'Tolerance_Class', 'Lower_Limit', 'Upper_Limit', 'Result']]",
   "id": "6ca06065906a587c",
   "outputs": [
    {
     "data": {
      "text/plain": [
       "   Nominal_Diameter  Measured_Diameter Tolerance_Class  Lower_Limit  \\\n",
       "0                20             20.015              h6       19.989   \n",
       "1                35             35.025              h7       34.982   \n",
       "2                50             50.030              h8       49.973   \n",
       "\n",
       "   Upper_Limit Result  \n",
       "0         20.0   FAIL  \n",
       "1         35.0   FAIL  \n",
       "2         50.0   FAIL  "
      ],
      "text/html": [
       "<div>\n",
       "<style scoped>\n",
       "    .dataframe tbody tr th:only-of-type {\n",
       "        vertical-align: middle;\n",
       "    }\n",
       "\n",
       "    .dataframe tbody tr th {\n",
       "        vertical-align: top;\n",
       "    }\n",
       "\n",
       "    .dataframe thead th {\n",
       "        text-align: right;\n",
       "    }\n",
       "</style>\n",
       "<table border=\"1\" class=\"dataframe\">\n",
       "  <thead>\n",
       "    <tr style=\"text-align: right;\">\n",
       "      <th></th>\n",
       "      <th>Nominal_Diameter</th>\n",
       "      <th>Measured_Diameter</th>\n",
       "      <th>Tolerance_Class</th>\n",
       "      <th>Lower_Limit</th>\n",
       "      <th>Upper_Limit</th>\n",
       "      <th>Result</th>\n",
       "    </tr>\n",
       "  </thead>\n",
       "  <tbody>\n",
       "    <tr>\n",
       "      <th>0</th>\n",
       "      <td>20</td>\n",
       "      <td>20.015</td>\n",
       "      <td>h6</td>\n",
       "      <td>19.989</td>\n",
       "      <td>20.0</td>\n",
       "      <td>FAIL</td>\n",
       "    </tr>\n",
       "    <tr>\n",
       "      <th>1</th>\n",
       "      <td>35</td>\n",
       "      <td>35.025</td>\n",
       "      <td>h7</td>\n",
       "      <td>34.982</td>\n",
       "      <td>35.0</td>\n",
       "      <td>FAIL</td>\n",
       "    </tr>\n",
       "    <tr>\n",
       "      <th>2</th>\n",
       "      <td>50</td>\n",
       "      <td>50.030</td>\n",
       "      <td>h8</td>\n",
       "      <td>49.973</td>\n",
       "      <td>50.0</td>\n",
       "      <td>FAIL</td>\n",
       "    </tr>\n",
       "  </tbody>\n",
       "</table>\n",
       "</div>"
      ]
     },
     "execution_count": 570,
     "metadata": {},
     "output_type": "execute_result"
    }
   ],
   "execution_count": 570
  },
  {
   "metadata": {},
   "cell_type": "markdown",
   "source": [
    "### **Exercise 19: Identify Spec Violations**\n",
    "\n",
    "**Problem:** Flag measurements that do not meet scraped industry tolerances.\n",
    "\n",
    "**Purpose:** Practice logic-driven cross-validation."
   ],
   "id": "2d9a0bb7b5eb5252"
  },
  {
   "metadata": {
    "ExecuteTime": {
     "end_time": "2025-05-10T22:29:06.974320Z",
     "start_time": "2025-05-10T22:29:06.971406Z"
    }
   },
   "cell_type": "code",
   "source": "violations = df_merged[df_merged['Result'] == 'FAIL']",
   "id": "f8338ca20d56a8f9",
   "outputs": [],
   "execution_count": 571
  },
  {
   "metadata": {
    "ExecuteTime": {
     "end_time": "2025-05-10T22:30:06.001797Z",
     "start_time": "2025-05-10T22:30:05.992844Z"
    }
   },
   "cell_type": "code",
   "source": "violations[['Nominal_Diameter', 'Measured_Diameter', 'Tolerance_Class', 'Lower_Limit', 'Upper_Limit', 'Result']]",
   "id": "92b7189c3b7876b1",
   "outputs": [
    {
     "data": {
      "text/plain": [
       "   Nominal_Diameter  Measured_Diameter Tolerance_Class  Lower_Limit  \\\n",
       "0                20             20.015              h6       19.989   \n",
       "1                35             35.025              h7       34.982   \n",
       "2                50             50.030              h8       49.973   \n",
       "\n",
       "   Upper_Limit Result  \n",
       "0         20.0   FAIL  \n",
       "1         35.0   FAIL  \n",
       "2         50.0   FAIL  "
      ],
      "text/html": [
       "<div>\n",
       "<style scoped>\n",
       "    .dataframe tbody tr th:only-of-type {\n",
       "        vertical-align: middle;\n",
       "    }\n",
       "\n",
       "    .dataframe tbody tr th {\n",
       "        vertical-align: top;\n",
       "    }\n",
       "\n",
       "    .dataframe thead th {\n",
       "        text-align: right;\n",
       "    }\n",
       "</style>\n",
       "<table border=\"1\" class=\"dataframe\">\n",
       "  <thead>\n",
       "    <tr style=\"text-align: right;\">\n",
       "      <th></th>\n",
       "      <th>Nominal_Diameter</th>\n",
       "      <th>Measured_Diameter</th>\n",
       "      <th>Tolerance_Class</th>\n",
       "      <th>Lower_Limit</th>\n",
       "      <th>Upper_Limit</th>\n",
       "      <th>Result</th>\n",
       "    </tr>\n",
       "  </thead>\n",
       "  <tbody>\n",
       "    <tr>\n",
       "      <th>0</th>\n",
       "      <td>20</td>\n",
       "      <td>20.015</td>\n",
       "      <td>h6</td>\n",
       "      <td>19.989</td>\n",
       "      <td>20.0</td>\n",
       "      <td>FAIL</td>\n",
       "    </tr>\n",
       "    <tr>\n",
       "      <th>1</th>\n",
       "      <td>35</td>\n",
       "      <td>35.025</td>\n",
       "      <td>h7</td>\n",
       "      <td>34.982</td>\n",
       "      <td>35.0</td>\n",
       "      <td>FAIL</td>\n",
       "    </tr>\n",
       "    <tr>\n",
       "      <th>2</th>\n",
       "      <td>50</td>\n",
       "      <td>50.030</td>\n",
       "      <td>h8</td>\n",
       "      <td>49.973</td>\n",
       "      <td>50.0</td>\n",
       "      <td>FAIL</td>\n",
       "    </tr>\n",
       "  </tbody>\n",
       "</table>\n",
       "</div>"
      ]
     },
     "execution_count": 574,
     "metadata": {},
     "output_type": "execute_result"
    }
   ],
   "execution_count": 574
  },
  {
   "metadata": {},
   "cell_type": "markdown",
   "source": [
    "### **Exercise 20: Save Scraped Data**\n",
    "\n",
    "**Problem:** Save the scraped standards into an HTML or CSV file.\n",
    "\n",
    "**Purpose:** Practice file export of web-scraped content."
   ],
   "id": "af0afe0cb071f7ec"
  },
  {
   "metadata": {
    "ExecuteTime": {
     "end_time": "2025-05-10T22:31:34.961484Z",
     "start_time": "2025-05-10T22:31:34.956166Z"
    }
   },
   "cell_type": "code",
   "source": "df_tolerance.to_csv('df_tolerance.csv', index=False)",
   "id": "4ad2975bc6425d2a",
   "outputs": [],
   "execution_count": 575
  },
  {
   "metadata": {
    "ExecuteTime": {
     "end_time": "2025-05-10T22:22:40.030631Z",
     "start_time": "2025-05-10T22:22:40.028457Z"
    }
   },
   "cell_type": "code",
   "source": "",
   "id": "6f1d64b6aa9362d2",
   "outputs": [],
   "execution_count": 567
  }
 ],
 "metadata": {
  "kernelspec": {
   "display_name": "Python 3",
   "language": "python",
   "name": "python3"
  },
  "language_info": {
   "codemirror_mode": {
    "name": "ipython",
    "version": 2
   },
   "file_extension": ".py",
   "mimetype": "text/x-python",
   "name": "python",
   "nbconvert_exporter": "python",
   "pygments_lexer": "ipython2",
   "version": "2.7.6"
  }
 },
 "nbformat": 4,
 "nbformat_minor": 5
}
